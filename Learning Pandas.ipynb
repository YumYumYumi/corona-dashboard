{
 "cells": [
  {
   "cell_type": "code",
   "execution_count": 1,
   "metadata": {},
   "outputs": [
    {
     "data": {
      "text/plain": [
       "'\\ndash==2.0.0\\ndash-core-components==2.0.0\\ndash-html-components==2.0.0\\ndash-table==5.0.0\\npandas==1.2.4\\nplotly==5.4.0\\ngunicorn==20.1.0\\n'"
      ]
     },
     "execution_count": 1,
     "metadata": {},
     "output_type": "execute_result"
    }
   ],
   "source": [
    "import pandas as pd\n",
    "from datetime import datetime\n",
    "import numpy as np\n",
    "\"\"\"\n",
    "dash==2.0.0\n",
    "dash-core-components==2.0.0\n",
    "dash-html-components==2.0.0\n",
    "dash-table==5.0.0\n",
    "pandas==1.2.4\n",
    "plotly==5.4.0\n",
    "gunicorn==20.1.0\n",
    "\"\"\""
   ]
  },
  {
   "cell_type": "code",
   "execution_count": 11,
   "metadata": {},
   "outputs": [
    {
     "data": {
      "text/plain": [
       "True"
      ]
     },
     "execution_count": 11,
     "metadata": {},
     "output_type": "execute_result"
    }
   ],
   "source": [
    "#For the bubble map\n",
    "from datetime import date\n",
    "from datetime import timedelta\n",
    "from datetime import datetime,timezone\n",
    "#today = datetime.today().strftime('%d-%m-%Y')\n",
    "today = date.today()\n",
    "yesterday = today - timedelta(days = 1)\n",
    "yesterday = yesterday.strftime('%m-%d-%Y') \n",
    "two_days_ago = today - timedelta(days=2)\n",
    "two_days_ago = two_days_ago.strftime('%Y-%m-%d')\n",
    "two_days_ago_url = today - timedelta(days=2)\n",
    "two_days_ago_url = two_days_ago_url.strftime('%m-%d-%Y')\n",
    "now_utc = datetime.now(timezone.utc).strftime('%H') \n",
    "now_here = datetime.now().strftime('%H') \n",
    "\n",
    "if now_utc > '06' : \n",
    "    daily_url = f'https://github.com/CSSEGISandData/COVID-19/blob/master/csse_covid_19_data/csse_covid_19_daily_reports/{yesterday}.csv?raw=true'\n",
    "else: \n",
    "    daily_url = f'https://github.com/CSSEGISandData/COVID-19/blob/master/csse_covid_19_data/csse_covid_19_daily_reports/{two_days_ago_url}.csv?raw=true'\n",
    "    \n",
    "    \n",
    "\n",
    "daily_df = pd.read_csv(url)\n",
    "daily_df.loc[daily_df[\"Country_Region\"] == \"Germany\"]\n",
    "now_utc > '00'\n"
   ]
  },
  {
   "cell_type": "code",
   "execution_count": 104,
   "metadata": {},
   "outputs": [
    {
     "data": {
      "text/html": [
       "<div>\n",
       "<style scoped>\n",
       "    .dataframe tbody tr th:only-of-type {\n",
       "        vertical-align: middle;\n",
       "    }\n",
       "\n",
       "    .dataframe tbody tr th {\n",
       "        vertical-align: top;\n",
       "    }\n",
       "\n",
       "    .dataframe thead th {\n",
       "        text-align: right;\n",
       "    }\n",
       "</style>\n",
       "<table border=\"1\" class=\"dataframe\">\n",
       "  <thead>\n",
       "    <tr style=\"text-align: right;\">\n",
       "      <th></th>\n",
       "      <th>iso3</th>\n",
       "      <th>region</th>\n",
       "      <th>sub-region</th>\n",
       "    </tr>\n",
       "  </thead>\n",
       "  <tbody>\n",
       "    <tr>\n",
       "      <th>0</th>\n",
       "      <td>AFG</td>\n",
       "      <td>Asia</td>\n",
       "      <td>Southern Asia</td>\n",
       "    </tr>\n",
       "    <tr>\n",
       "      <th>1</th>\n",
       "      <td>ALA</td>\n",
       "      <td>Europe</td>\n",
       "      <td>Northern Europe</td>\n",
       "    </tr>\n",
       "    <tr>\n",
       "      <th>2</th>\n",
       "      <td>ALB</td>\n",
       "      <td>Europe</td>\n",
       "      <td>Southern Europe</td>\n",
       "    </tr>\n",
       "    <tr>\n",
       "      <th>3</th>\n",
       "      <td>DZA</td>\n",
       "      <td>Africa</td>\n",
       "      <td>Northern Africa</td>\n",
       "    </tr>\n",
       "    <tr>\n",
       "      <th>4</th>\n",
       "      <td>ASM</td>\n",
       "      <td>Oceania</td>\n",
       "      <td>Polynesia</td>\n",
       "    </tr>\n",
       "    <tr>\n",
       "      <th>...</th>\n",
       "      <td>...</td>\n",
       "      <td>...</td>\n",
       "      <td>...</td>\n",
       "    </tr>\n",
       "    <tr>\n",
       "      <th>244</th>\n",
       "      <td>WLF</td>\n",
       "      <td>Oceania</td>\n",
       "      <td>Polynesia</td>\n",
       "    </tr>\n",
       "    <tr>\n",
       "      <th>245</th>\n",
       "      <td>ESH</td>\n",
       "      <td>Africa</td>\n",
       "      <td>Northern Africa</td>\n",
       "    </tr>\n",
       "    <tr>\n",
       "      <th>246</th>\n",
       "      <td>YEM</td>\n",
       "      <td>Asia</td>\n",
       "      <td>Western Asia</td>\n",
       "    </tr>\n",
       "    <tr>\n",
       "      <th>247</th>\n",
       "      <td>ZMB</td>\n",
       "      <td>Africa</td>\n",
       "      <td>Sub-Saharan Africa</td>\n",
       "    </tr>\n",
       "    <tr>\n",
       "      <th>248</th>\n",
       "      <td>ZWE</td>\n",
       "      <td>Africa</td>\n",
       "      <td>Sub-Saharan Africa</td>\n",
       "    </tr>\n",
       "  </tbody>\n",
       "</table>\n",
       "<p>249 rows × 3 columns</p>\n",
       "</div>"
      ],
      "text/plain": [
       "    iso3   region          sub-region\n",
       "0    AFG     Asia       Southern Asia\n",
       "1    ALA   Europe     Northern Europe\n",
       "2    ALB   Europe     Southern Europe\n",
       "3    DZA   Africa     Northern Africa\n",
       "4    ASM  Oceania           Polynesia\n",
       "..   ...      ...                 ...\n",
       "244  WLF  Oceania           Polynesia\n",
       "245  ESH   Africa     Northern Africa\n",
       "246  YEM     Asia        Western Asia\n",
       "247  ZMB   Africa  Sub-Saharan Africa\n",
       "248  ZWE   Africa  Sub-Saharan Africa\n",
       "\n",
       "[249 rows x 3 columns]"
      ]
     },
     "execution_count": 104,
     "metadata": {},
     "output_type": "execute_result"
    }
   ],
   "source": [
    "pop_url = 'https://github.com/CSSEGISandData/COVID-19/blob/master/csse_covid_19_data/UID_ISO_FIPS_LookUp_Table.csv?raw=true'\n",
    "pop_df= pd.read_csv(pop_url)\n",
    "pop_df= pop_df[(pop_df['Province_State'].isnull())]\n",
    "pop_df = pop_df[[\"Country_Region\",\"Population\",\"iso3\"]]\n",
    "pop_df\n",
    "\n",
    "continent_url = 'https://github.com/lukes/ISO-3166-Countries-with-Regional-Codes/blob/master/all/all.csv?raw=true'\n",
    "continent_df = pd.read_csv(continent_url)\n",
    "continent_df = continent_df[[\"alpha-3\",\"region\",\"sub-region\"]]\n",
    "continent_df = continent_df.rename(columns={'alpha-3': 'iso3'})\n",
    "#pop_df = pd.merge(pop_df,continent_df, on=\"iso3\")\n",
    "pop_df\n",
    "continent_df\n",
    "#pop_df.compare(continent_df)"
   ]
  },
  {
   "cell_type": "code",
   "execution_count": 15,
   "metadata": {},
   "outputs": [
    {
     "data": {
      "text/html": [
       "<div>\n",
       "<style scoped>\n",
       "    .dataframe tbody tr th:only-of-type {\n",
       "        vertical-align: middle;\n",
       "    }\n",
       "\n",
       "    .dataframe tbody tr th {\n",
       "        vertical-align: top;\n",
       "    }\n",
       "\n",
       "    .dataframe thead th {\n",
       "        text-align: right;\n",
       "    }\n",
       "</style>\n",
       "<table border=\"1\" class=\"dataframe\">\n",
       "  <thead>\n",
       "    <tr style=\"text-align: right;\">\n",
       "      <th></th>\n",
       "      <th>Country_Region</th>\n",
       "      <th>Confirmed</th>\n",
       "      <th>Deaths</th>\n",
       "      <th>Population</th>\n",
       "      <th>iso3</th>\n",
       "      <th>region</th>\n",
       "      <th>sub-region</th>\n",
       "      <th>Cases_in_last_7_days</th>\n",
       "      <th>Yesterday_Confirmed</th>\n",
       "      <th>7_Days_Incidence_Rate</th>\n",
       "      <th>People_fully_vaccinated</th>\n",
       "      <th>Fully_vaccinated_percent</th>\n",
       "    </tr>\n",
       "  </thead>\n",
       "  <tbody>\n",
       "    <tr>\n",
       "      <th>148</th>\n",
       "      <td>Andorra</td>\n",
       "      <td>20136</td>\n",
       "      <td>134</td>\n",
       "      <td>77265</td>\n",
       "      <td>AND</td>\n",
       "      <td>Europe</td>\n",
       "      <td>Southern Europe</td>\n",
       "      <td>1321</td>\n",
       "      <td>696</td>\n",
       "      <td>1709</td>\n",
       "      <td>50333</td>\n",
       "      <td>65.14</td>\n",
       "    </tr>\n",
       "    <tr>\n",
       "      <th>167</th>\n",
       "      <td>San Marino</td>\n",
       "      <td>6719</td>\n",
       "      <td>94</td>\n",
       "      <td>33938</td>\n",
       "      <td>SMR</td>\n",
       "      <td>Europe</td>\n",
       "      <td>Southern Europe</td>\n",
       "      <td>411</td>\n",
       "      <td>255</td>\n",
       "      <td>1211</td>\n",
       "      <td>23750</td>\n",
       "      <td>69.98</td>\n",
       "    </tr>\n",
       "    <tr>\n",
       "      <th>175</th>\n",
       "      <td>Liechtenstein</td>\n",
       "      <td>5512</td>\n",
       "      <td>68</td>\n",
       "      <td>38137</td>\n",
       "      <td>LIE</td>\n",
       "      <td>Europe</td>\n",
       "      <td>Western Europe</td>\n",
       "      <td>459</td>\n",
       "      <td>111</td>\n",
       "      <td>1203</td>\n",
       "      <td>25418</td>\n",
       "      <td>66.65</td>\n",
       "    </tr>\n",
       "    <tr>\n",
       "      <th>33</th>\n",
       "      <td>Slovakia</td>\n",
       "      <td>1295909</td>\n",
       "      <td>15516</td>\n",
       "      <td>5459643</td>\n",
       "      <td>SVK</td>\n",
       "      <td>Europe</td>\n",
       "      <td>Eastern Europe</td>\n",
       "      <td>51547</td>\n",
       "      <td>6657</td>\n",
       "      <td>944</td>\n",
       "      <td>2376047</td>\n",
       "      <td>43.52</td>\n",
       "    </tr>\n",
       "    <tr>\n",
       "      <th>57</th>\n",
       "      <td>Denmark</td>\n",
       "      <td>576855</td>\n",
       "      <td>3043</td>\n",
       "      <td>5837213</td>\n",
       "      <td>DNK</td>\n",
       "      <td>Europe</td>\n",
       "      <td>Northern Europe</td>\n",
       "      <td>47921</td>\n",
       "      <td>8314</td>\n",
       "      <td>820</td>\n",
       "      <td>4496437</td>\n",
       "      <td>77.03</td>\n",
       "    </tr>\n",
       "    <tr>\n",
       "      <th>...</th>\n",
       "      <td>...</td>\n",
       "      <td>...</td>\n",
       "      <td>...</td>\n",
       "      <td>...</td>\n",
       "      <td>...</td>\n",
       "      <td>...</td>\n",
       "      <td>...</td>\n",
       "      <td>...</td>\n",
       "      <td>...</td>\n",
       "      <td>...</td>\n",
       "      <td>...</td>\n",
       "      <td>...</td>\n",
       "    </tr>\n",
       "    <tr>\n",
       "      <th>186</th>\n",
       "      <td>Samoa</td>\n",
       "      <td>3</td>\n",
       "      <td>0</td>\n",
       "      <td>196130</td>\n",
       "      <td>WSM</td>\n",
       "      <td>Oceania</td>\n",
       "      <td>Polynesia</td>\n",
       "      <td>0</td>\n",
       "      <td>0</td>\n",
       "      <td>0</td>\n",
       "      <td>121539</td>\n",
       "      <td>61.97</td>\n",
       "    </tr>\n",
       "    <tr>\n",
       "      <th>179</th>\n",
       "      <td>Sao Tome and Principe</td>\n",
       "      <td>3733</td>\n",
       "      <td>57</td>\n",
       "      <td>219161</td>\n",
       "      <td>STP</td>\n",
       "      <td>Africa</td>\n",
       "      <td>Sub-Saharan Africa</td>\n",
       "      <td>0</td>\n",
       "      <td>0</td>\n",
       "      <td>0</td>\n",
       "      <td>48928</td>\n",
       "      <td>22.33</td>\n",
       "    </tr>\n",
       "    <tr>\n",
       "      <th>182</th>\n",
       "      <td>Solomon Islands</td>\n",
       "      <td>20</td>\n",
       "      <td>0</td>\n",
       "      <td>652858</td>\n",
       "      <td>SLB</td>\n",
       "      <td>Oceania</td>\n",
       "      <td>Melanesia</td>\n",
       "      <td>0</td>\n",
       "      <td>0</td>\n",
       "      <td>0</td>\n",
       "      <td>52319</td>\n",
       "      <td>8.01</td>\n",
       "    </tr>\n",
       "    <tr>\n",
       "      <th>153</th>\n",
       "      <td>Tajikistan</td>\n",
       "      <td>17493</td>\n",
       "      <td>125</td>\n",
       "      <td>9537642</td>\n",
       "      <td>TJK</td>\n",
       "      <td>Asia</td>\n",
       "      <td>Central Asia</td>\n",
       "      <td>0</td>\n",
       "      <td>0</td>\n",
       "      <td>0</td>\n",
       "      <td>2592830</td>\n",
       "      <td>27.19</td>\n",
       "    </tr>\n",
       "    <tr>\n",
       "      <th>174</th>\n",
       "      <td>Chad</td>\n",
       "      <td>5703</td>\n",
       "      <td>181</td>\n",
       "      <td>16425859</td>\n",
       "      <td>TCD</td>\n",
       "      <td>Africa</td>\n",
       "      <td>Sub-Saharan Africa</td>\n",
       "      <td>0</td>\n",
       "      <td>0</td>\n",
       "      <td>0</td>\n",
       "      <td>80663</td>\n",
       "      <td>0.49</td>\n",
       "    </tr>\n",
       "  </tbody>\n",
       "</table>\n",
       "<p>181 rows × 12 columns</p>\n",
       "</div>"
      ],
      "text/plain": [
       "            Country_Region  Confirmed  Deaths  Population iso3   region  \\\n",
       "148                Andorra      20136     134       77265  AND   Europe   \n",
       "167             San Marino       6719      94       33938  SMR   Europe   \n",
       "175          Liechtenstein       5512      68       38137  LIE   Europe   \n",
       "33                Slovakia    1295909   15516     5459643  SVK   Europe   \n",
       "57                 Denmark     576855    3043     5837213  DNK   Europe   \n",
       "..                     ...        ...     ...         ...  ...      ...   \n",
       "186                  Samoa          3       0      196130  WSM  Oceania   \n",
       "179  Sao Tome and Principe       3733      57      219161  STP   Africa   \n",
       "182        Solomon Islands         20       0      652858  SLB  Oceania   \n",
       "153             Tajikistan      17493     125     9537642  TJK     Asia   \n",
       "174                   Chad       5703     181    16425859  TCD   Africa   \n",
       "\n",
       "             sub-region  Cases_in_last_7_days  Yesterday_Confirmed  \\\n",
       "148     Southern Europe                  1321                  696   \n",
       "167     Southern Europe                   411                  255   \n",
       "175      Western Europe                   459                  111   \n",
       "33       Eastern Europe                 51547                 6657   \n",
       "57      Northern Europe                 47921                 8314   \n",
       "..                  ...                   ...                  ...   \n",
       "186           Polynesia                     0                    0   \n",
       "179  Sub-Saharan Africa                     0                    0   \n",
       "182           Melanesia                     0                    0   \n",
       "153        Central Asia                     0                    0   \n",
       "174  Sub-Saharan Africa                     0                    0   \n",
       "\n",
       "     7_Days_Incidence_Rate  People_fully_vaccinated  Fully_vaccinated_percent  \n",
       "148                   1709                    50333                     65.14  \n",
       "167                   1211                    23750                     69.98  \n",
       "175                   1203                    25418                     66.65  \n",
       "33                     944                  2376047                     43.52  \n",
       "57                     820                  4496437                     77.03  \n",
       "..                     ...                      ...                       ...  \n",
       "186                      0                   121539                     61.97  \n",
       "179                      0                    48928                     22.33  \n",
       "182                      0                    52319                      8.01  \n",
       "153                      0                  2592830                     27.19  \n",
       "174                      0                    80663                      0.49  \n",
       "\n",
       "[181 rows x 12 columns]"
      ]
     },
     "execution_count": 15,
     "metadata": {},
     "output_type": "execute_result"
    }
   ],
   "source": [
    "# calculate incident rate \n",
    "#danach vaccine per country \n",
    "daily_url = f'https://github.com/CSSEGISandData/COVID-19/blob/master/csse_covid_19_data/csse_covid_19_daily_reports/{yesterday}.csv?raw=true'\n",
    "daily_df = pd.read_csv(daily_url)\n",
    "countries_df = daily_df[[\"Country_Region\", \"Confirmed\", \"Deaths\"]]\n",
    "\n",
    "countries_df = (countries_df.groupby(\"Country_Region\").sum(\n",
    ").sort_values(by=\"Confirmed\", ascending=False).reset_index())\n",
    "\n",
    "\n",
    "pop_url = 'https://github.com/CSSEGISandData/COVID-19/blob/master/csse_covid_19_data/UID_ISO_FIPS_LookUp_Table.csv?raw=true'\n",
    "pop_df= pd.read_csv(pop_url)\n",
    "pop_df= pop_df[(pop_df['Province_State'].isnull())]\n",
    "pop_df = pop_df[[\"Country_Region\",\"Population\",\"iso3\"]]\n",
    "pop_df\n",
    "\n",
    "continent_url = 'https://github.com/lukes/ISO-3166-Countries-with-Regional-Codes/blob/master/all/all.csv?raw=true'\n",
    "continent_df = pd.read_csv(continent_url)\n",
    "continent_df = continent_df[[\"alpha-3\",\"region\",\"sub-region\"]]\n",
    "continent_df = continent_df.rename(columns={'alpha-3': 'iso3'})\n",
    "pop_df = pd.merge(pop_df,continent_df, on=\"iso3\")\n",
    "countries_df = pd.merge(countries_df, pop_df, on=\"Country_Region\")\n",
    "\n",
    "daily_time_url ='https://github.com/CSSEGISandData/COVID-19/blob/master/csse_covid_19_data/csse_covid_19_time_series/time_series_covid19_confirmed_global.csv?raw=true'\n",
    "daily_time_df = pd.read_csv(daily_time_url)\n",
    "daily_time_df = daily_time_df.drop([\"Lat\",\"Long\"], axis =1)\n",
    "\n",
    "daily_time_df_AuCaCh = daily_time_df.dropna(subset=['Province/State'])\n",
    "daily_time_df_AuCaCh = daily_time_df_AuCaCh.groupby(\"Country/Region\").sum()\n",
    "daily_time_df_AuCaCh = daily_time_df_AuCaCh.loc[['Australia','Canada','China'], :]\n",
    "daily_time_df_AuCaCh = daily_time_df_AuCaCh.reset_index()\n",
    "daily_time_df= daily_time_df[(daily_time_df['Province/State'].isnull())]\n",
    "daily_time_df = daily_time_df.drop([\"Province/State\"], axis =1)\n",
    "\n",
    "daily_time_df = daily_time_df.append(daily_time_df_AuCaCh, ignore_index=True)\n",
    "daily_time_df = daily_time_df.iloc[:, list(range(1)) + list(range(-8, 0))]\n",
    "daily_time_df[\"Cases_in_last_7_days\"] = (daily_time_df.iloc[:, -1] - daily_time_df.iloc[:, -8])\n",
    "daily_time_df[\"Yesterday_Confirmed\"] =  (daily_time_df.iloc[:, -2] - daily_time_df.iloc[:, -3])\n",
    "daily_time_df = daily_time_df.iloc[:, list(range(1)) + list(range(-2, 0))]\n",
    "daily_time_df = daily_time_df.rename(columns={'Country/Region': 'Country_Region'})\n",
    "countries_df = pd.merge(countries_df, daily_time_df,on=\"Country_Region\", how='inner')\n",
    "countries_df[\"7_Days_Incidence_Rate\"] = (countries_df[\"Cases_in_last_7_days\"]/ (countries_df[\"Population\"]/100000))\n",
    "\n",
    "vac_url = 'https://github.com/govex/COVID-19/blob/master/data_tables/vaccine_data/global_data/vaccine_data_global.csv?raw=true'\n",
    "df_vaccine = pd.read_csv(vac_url)\n",
    "df_vaccine = df_vaccine[(df_vaccine['Province_State'].isnull())]\n",
    "df_vaccine = df_vaccine[[\"Country_Region\",\"People_fully_vaccinated\"]]\n",
    "\n",
    "countries_df = pd.merge(countries_df, df_vaccine,on=\"Country_Region\", how='inner')\n",
    "countries_df = countries_df.sort_values(by=\"7_Days_Incidence_Rate\", ascending=False)\n",
    "countries_df['Population'] =countries_df['Population'].astype(int)\n",
    "countries_df['7_Days_Incidence_Rate'] =countries_df['7_Days_Incidence_Rate'].astype(int)\n",
    "countries_df\n",
    "\n",
    "\n",
    "\n",
    "vac_owid_url ='https://github.com/owid/covid-19-data/blob/master/public/data/vaccinations/vaccinations.csv?raw=true'\n",
    "df_vac_owid = pd.read_csv(vac_owid_url)\n",
    "df_vac_owid = df_vac_owid[[\"location\",\"date\",\"people_fully_vaccinated\"]]\n",
    "df_vac_owid = df_vac_owid.loc[df_vac_owid[\"date\"] == two_days_ago]\n",
    "df_vac_owid_south_korea = df_vac_owid.loc[df_vac_owid[\"location\"] == \"South Korea\"]\n",
    "df_vac_owid_south_korea = df_vac_owid_south_korea[[\"people_fully_vaccinated\"]]\n",
    "\n",
    "\n",
    "\n",
    "loc_korea_vac_cell = countries_df.loc[countries_df.index[countries_df[\"Country_Region\"] == \"Korea, South\"], 'People_fully_vaccinated'].item()\n",
    "if pd.isnull(loc_korea_vac_cell) is True:\n",
    "    countries_df[countries_df[\"Country_Region\"] == \"Korea, South\"]= countries_df[countries_df[\"Country_Region\"] == \"Korea, South\"].replace(to_replace =np.nan,\n",
    "                 value =df_vac_owid_south_korea.iat[0,0])\n",
    "else:\n",
    "    pass\n",
    "\n",
    "countries_df[countries_df[\"Country_Region\"] == \"Korea, South\"]\n",
    "#count = countries_df['People_fully_vaccinated'].isna().sum()\n",
    "#print(count)\n",
    "countries_df\n",
    "#countries_df[countries_df['Country_Region'=='China']]\n",
    "countries_df[countries_df.isna().any(axis=1)]\n",
    "countries_df = countries_df.dropna()\n",
    "#countries_df.index[countries_df[\"Country_Region\"] == \"Korea, South\"]\n",
    "countries_df['People_fully_vaccinated'] =countries_df['People_fully_vaccinated'].astype('Int64')\n",
    "\n",
    "\n",
    "countries_df[\"Fully_vaccinated_percent\"] = (countries_df[\"People_fully_vaccinated\"]/ (countries_df[\"Population\"]))*100\n",
    "countries_df['Fully_vaccinated_percent'] = countries_df['Fully_vaccinated_percent'].astype('float64')\n",
    "countries_df['Fully_vaccinated_percent']  = countries_df['Fully_vaccinated_percent'].apply(lambda x: round(x,2))\n",
    "countries_df.loc[countries_df[\"Country_Region\"] == \"China\"]\n",
    "countries_df['sub-region'].unique()\n",
    "countries_df"
   ]
  },
  {
   "cell_type": "code",
   "execution_count": 117,
   "metadata": {},
   "outputs": [
    {
     "data": {
      "text/html": [
       "<div>\n",
       "<style scoped>\n",
       "    .dataframe tbody tr th:only-of-type {\n",
       "        vertical-align: middle;\n",
       "    }\n",
       "\n",
       "    .dataframe tbody tr th {\n",
       "        vertical-align: top;\n",
       "    }\n",
       "\n",
       "    .dataframe thead th {\n",
       "        text-align: right;\n",
       "    }\n",
       "</style>\n",
       "<table border=\"1\" class=\"dataframe\">\n",
       "  <thead>\n",
       "    <tr style=\"text-align: right;\">\n",
       "      <th></th>\n",
       "      <th>Country</th>\n",
       "      <th>7_Days_Incidence_Rate</th>\n",
       "    </tr>\n",
       "  </thead>\n",
       "  <tbody>\n",
       "    <tr>\n",
       "      <th>175</th>\n",
       "      <td>Liechtenstein</td>\n",
       "      <td>1206</td>\n",
       "    </tr>\n",
       "    <tr>\n",
       "      <th>150</th>\n",
       "      <td>Andorra</td>\n",
       "      <td>1047</td>\n",
       "    </tr>\n",
       "    <tr>\n",
       "      <th>34</th>\n",
       "      <td>Slovakia</td>\n",
       "      <td>994</td>\n",
       "    </tr>\n",
       "    <tr>\n",
       "      <th>21</th>\n",
       "      <td>Czechia</td>\n",
       "      <td>852</td>\n",
       "    </tr>\n",
       "    <tr>\n",
       "      <th>58</th>\n",
       "      <td>Denmark</td>\n",
       "      <td>786</td>\n",
       "    </tr>\n",
       "    <tr>\n",
       "      <th>25</th>\n",
       "      <td>Belgium</td>\n",
       "      <td>785</td>\n",
       "    </tr>\n",
       "    <tr>\n",
       "      <th>40</th>\n",
       "      <td>Switzerland</td>\n",
       "      <td>772</td>\n",
       "    </tr>\n",
       "    <tr>\n",
       "      <th>167</th>\n",
       "      <td>San Marino</td>\n",
       "      <td>727</td>\n",
       "    </tr>\n",
       "    <tr>\n",
       "      <th>18</th>\n",
       "      <td>Netherlands</td>\n",
       "      <td>707</td>\n",
       "    </tr>\n",
       "    <tr>\n",
       "      <th>54</th>\n",
       "      <td>Ireland</td>\n",
       "      <td>630</td>\n",
       "    </tr>\n",
       "  </tbody>\n",
       "</table>\n",
       "</div>"
      ],
      "text/plain": [
       "           Country  7_Days_Incidence_Rate\n",
       "175  Liechtenstein                   1206\n",
       "150        Andorra                   1047\n",
       "34        Slovakia                    994\n",
       "21         Czechia                    852\n",
       "58         Denmark                    786\n",
       "25         Belgium                    785\n",
       "40     Switzerland                    772\n",
       "167     San Marino                    727\n",
       "18     Netherlands                    707\n",
       "54         Ireland                    630"
      ]
     },
     "execution_count": 117,
     "metadata": {},
     "output_type": "execute_result"
    }
   ],
   "source": [
    "top10_table = countries_df.head(10)\n",
    "top10_table = top10_table[[\"Country_Region\",\"7_Days_Incidence_Rate\"]]\n",
    "top10_table = top10_table.rename(columns={'Country_Region': 'Country'})\n",
    "top10_table "
   ]
  },
  {
   "cell_type": "code",
   "execution_count": 105,
   "metadata": {},
   "outputs": [
    {
     "data": {
      "application/vnd.plotly.v1+json": {
       "config": {
        "plotlyServerURL": "https://plot.ly"
       },
       "data": [
        {
         "coloraxis": "coloraxis",
         "customdata": [
          [
           38137,
           25418,
           "Liechtenstein"
          ],
          [
           77265,
           50333,
           "Andorra"
          ],
          [
           5459643,
           2376046,
           "Slovakia"
          ],
          [
           10708982,
           6500611,
           "Czechia"
          ],
          [
           5837213,
           4496437,
           "Denmark"
          ],
          [
           11492641,
           8744657,
           "Belgium"
          ],
          [
           8654618,
           5765160,
           "Switzerland"
          ],
          [
           33938,
           23750,
           "San Marino"
          ],
          [
           17134873,
           12772175,
           "Netherlands"
          ],
          [
           4937796,
           3813808,
           "Ireland"
          ],
          [
           3989175,
           1052986,
           "Georgia"
          ],
          [
           5421242,
           3879920,
           "Norway"
          ],
          [
           4105268,
           2046615,
           "Croatia"
          ],
          [
           39244,
           23308,
           "Monaco"
          ],
          [
           67886004,
           46804609,
           "United Kingdom"
          ],
          [
           65249843,
           48052807,
           "France"
          ],
          [
           1160164,
           282886,
           "Eswatini"
          ],
          [
           2078932,
           1171573,
           "Slovenia"
          ],
          [
           83155031,
           57939197,
           "Germany"
          ],
          [
           9660350,
           5900371,
           "Hungary"
          ],
          [
           2722291,
           1806136,
           "Lithuania"
          ],
          [
           625976,
           429705,
           "Luxembourg"
          ],
          [
           37846605,
           20707123,
           "Poland"
          ],
          [
           10423056,
           6774449,
           "Greece"
          ],
          [
           1399491,
           654695,
           "Trinidad and Tobago"
          ],
          [
           1207361,
           593380,
           "Cyprus"
          ],
          [
           10203140,
           3834486,
           "Jordan"
          ],
          [
           9006400,
           6202258,
           "Austria"
          ],
          [
           46754783,
           37721347,
           "Spain"
          ],
          [
           10196707,
           9032694,
           "Portugal"
          ],
          [
           341250,
           282199,
           "Iceland"
          ],
          [
           329466283,
           202246698,
           "US"
          ],
          [
           1326539,
           802901,
           "Estonia"
          ],
          [
           1886202,
           1230975,
           "Latvia"
          ],
          [
           98340,
           78214,
           "Seychelles"
          ],
          [
           59308690,
           15410168,
           "South Africa"
          ],
          [
           287371,
           139979,
           "Barbados"
          ],
          [
           71991,
           27115,
           "Dominica"
          ],
          [
           628062,
           263962,
           "Montenegro"
          ],
          [
           60461828,
           44320576,
           "Italy"
          ],
          [
           5540718,
           4084341,
           "Finland"
          ],
          [
           14862927,
           2988363,
           "Zimbabwe"
          ],
          [
           10099270,
           7260558,
           "Sweden"
          ],
          [
           6825442,
           1750422,
           "Lebanon"
          ],
          [
           84339067,
           50961533,
           "Turkey"
          ],
          [
           540542,
           365604,
           "Maldives"
          ],
          [
           43733759,
           12565117,
           "Ukraine"
          ],
          [
           145934460,
           61430028,
           "Russia"
          ],
          [
           441539,
           434080,
           "Malta"
          ],
          [
           7275556,
           3099003,
           "Laos"
          ],
          [
           6948445,
           1844599,
           "Bulgaria"
          ],
          [
           2540916,
           319080,
           "Namibia"
          ],
          [
           8737370,
           3165137,
           "Serbia"
          ],
          [
           9449321,
           2865546,
           "Belarus"
          ],
          [
           97338583,
           57966204,
           "Vietnam"
          ],
          [
           3280815,
           720631,
           "Bosnia and Herzegovina"
          ],
          [
           2083380,
           789905,
           "North Macedonia"
          ],
          [
           32365998,
           25487292,
           "Malaysia"
          ],
          [
           51269183,
           41694809,
           "Korea, South"
          ],
          [
           110947,
           24175,
           "Saint Vincent and the Grenadines"
          ],
          [
           4033963,
           959284,
           "Moldova"
          ],
          [
           10139175,
           4617228,
           "Azerbaijan"
          ],
          [
           38246108,
           29217141,
           "Canada"
          ],
          [
           11673029,
           4369239,
           "Bolivia"
          ],
          [
           2877800,
           995500,
           "Albania"
          ],
          [
           5850343,
           4744632,
           "Singapore"
          ],
          [
           2963234,
           582624,
           "Armenia"
          ],
          [
           2142252,
           618414,
           "Lesotho"
          ],
          [
           3278292,
           2156124,
           "Mongolia"
          ],
          [
           19116209,
           16331698,
           "Chile"
          ],
          [
           397621,
           196741,
           "Belize"
          ],
          [
           8655541,
           5792666,
           "Israel"
          ],
          [
           6871287,
           750489,
           "Libya"
          ],
          [
           25459700,
           19329106,
           "Australia"
          ],
          [
           786559,
           283505,
           "Guyana"
          ],
          [
           3473727,
           2665972,
           "Uruguay"
          ],
          [
           4314768,
           2445629,
           "Panama"
          ],
          [
           2881060,
           2218292,
           "Qatar"
          ],
          [
           1271767,
           914936,
           "Mauritius"
          ],
          [
           437483,
           381720,
           "Brunei"
          ],
          [
           19237682,
           7653570,
           "Romania"
          ],
          [
           45195777,
           31094824,
           "Argentina"
          ],
          [
           69799978,
           43333522,
           "Thailand"
          ],
          [
           32971846,
           19807602,
           "Peru"
          ],
          [
           183629,
           47633,
           "Saint Lucia"
          ],
          [
           50882884,
           26245302,
           "Colombia"
          ],
          [
           586634,
           224568,
           "Suriname"
          ],
          [
           21413250,
           13789917,
           "Sri Lanka"
          ],
          [
           18776707,
           8290398,
           "Kazakhstan"
          ],
          [
           83992953,
           49150330,
           "Iran"
          ],
          [
           2351625,
           528046,
           "Botswana"
          ],
          [
           17643060,
           11759694,
           "Ecuador"
          ],
          [
           6486201,
           4117319,
           "El Salvador"
          ],
          [
           393248,
           143672,
           "Bahamas"
          ],
          [
           10847904,
           5657819,
           "Dominican Republic"
          ],
          [
           97928,
           57888,
           "Antigua and Barbuda"
          ],
          [
           212559409,
           139783903,
           "Brazil"
          ],
          [
           4822233,
           3758735,
           "New Zealand"
          ],
          [
           28435943,
           9858581,
           "Venezuela"
          ],
          [
           17915567,
           4364572,
           "Guatemala"
          ],
          [
           127792286,
           66225140,
           "Mexico"
          ],
          [
           1701583,
           1166321,
           "Bahrain"
          ],
          [
           53192,
           25165,
           "Saint Kitts and Nevis"
          ],
          [
           11818618,
           5377874,
           "Tunisia"
          ],
          [
           2961161,
           541880,
           "Jamaica"
          ],
          [
           40222503,
           5158731,
           "Iraq"
          ],
          [
           5094114,
           3364478,
           "Costa Rica"
          ],
          [
           29136808,
           8725785,
           "Nepal"
          ],
          [
           31255435,
           4624860,
           "Mozambique"
          ],
          [
           7132530,
           2768880,
           "Paraguay"
          ],
          [
           4649660,
           705910,
           "Mauritania"
          ],
          [
           112519,
           34963,
           "Grenada"
          ],
          [
           6524191,
           946238,
           "Kyrgyzstan"
          ],
          [
           9890400,
           9020203,
           "United Arab Emirates"
          ],
          [
           102334403,
           17567408,
           "Egypt"
          ],
          [
           18383956,
           839615,
           "Zambia"
          ],
          [
           4829764,
           334906,
           "Central African Republic"
          ],
          [
           8947027,
           216027,
           "Papua New Guinea"
          ],
          [
           11326616,
           9362628,
           "Cuba"
          ],
          [
           4270563,
           3187039,
           "Kuwait"
          ],
          [
           33469199,
           5882086,
           "Uzbekistan"
          ],
          [
           54409794,
           11858598,
           "Burma"
          ],
          [
           1380004385,
           517558003,
           "India"
          ],
          [
           9904608,
           3891577,
           "Honduras"
          ],
          [
           2225728,
           173123,
           "Gabon"
          ],
          [
           27691019,
           541160,
           "Madagascar"
          ],
          [
           11890781,
           2076,
           "Burundi"
          ],
          [
           896444,
           598125,
           "Fiji"
          ],
          [
           20250834,
           348728,
           "Mali"
          ],
          [
           17500657,
           739210,
           "Syria"
          ],
          [
           43851043,
           5391232,
           "Algeria"
          ],
          [
           869595,
           244741,
           "Comoros"
          ],
          [
           36910558,
           22872596,
           "Morocco"
          ],
          [
           5106622,
           2828176,
           "Oman"
          ],
          [
           19129955,
           634909,
           "Malawi"
          ],
          [
           53771300,
           3260603,
           "Kenya"
          ],
          [
           43849269,
           1234386,
           "Sudan"
          ],
          [
           20903278,
           323767,
           "Burkina Faso"
          ],
          [
           12952209,
           3880262,
           "Rwanda"
          ],
          [
           26545864,
           613607,
           "Cameroon"
          ],
          [
           109581085,
           41513071,
           "Philippines"
          ],
          [
           2416664,
           228236,
           "Gambia"
          ],
          [
           206139587,
           3969325,
           "Nigeria"
          ],
          [
           8278737,
           810069,
           "Togo"
          ],
          [
           164689383,
           43330500,
           "Bangladesh"
          ],
          [
           6624554,
           2540334,
           "Nicaragua"
          ],
          [
           11402533,
           66888,
           "Haiti"
          ],
          [
           771612,
           564611,
           "Bhutan"
          ],
          [
           34813867,
           22809730,
           "Saudi Arabia"
          ],
          [
           220892331,
           57364128,
           "Pakistan"
          ],
          [
           31072945,
           842225,
           "Ghana"
          ],
          [
           1402985,
           198691,
           "Equatorial Guinea"
          ],
          [
           114963583,
           1453286,
           "Ethiopia"
          ],
          [
           45741000,
           1287799,
           "Uganda"
          ],
          [
           11193729,
           177419,
           "South Sudan"
          ],
          [
           126476458,
           98105016,
           "Japan"
          ],
          [
           988002,
           26087,
           "Djibouti"
          ],
          [
           16718971,
           13559316,
           "Cambodia"
          ],
          [
           273523621,
           103098857,
           "Indonesia"
          ],
          [
           32866268,
           3315757,
           "Angola"
          ],
          [
           38928341,
           3566192,
           "Afghanistan"
          ],
          [
           16743930,
           936623,
           "Senegal"
          ],
          [
           23816775,
           15104174,
           "Taiwan*"
          ],
          [
           26378275,
           1505936,
           "Cote d'Ivoire"
          ],
          [
           24206636,
           464413,
           "Niger"
          ],
          [
           5057677,
           575654,
           "Liberia"
          ],
          [
           12123198,
           877113,
           "Benin"
          ],
          [
           7976985,
           385232,
           "Sierra Leone"
          ],
          [
           13132792,
           818351,
           "Guinea"
          ],
          [
           1967998,
           21215,
           "Guinea-Bissau"
          ],
          [
           15893219,
           664422,
           "Somalia"
          ],
          [
           29825968,
           366587,
           "Yemen"
          ],
          [
           59734213,
           1078102,
           "Tanzania"
          ],
          [
           1411778724,
           1162488000,
           "China"
          ],
          [
           117606,
           22675,
           "Kiribati"
          ],
          [
           196130,
           121539,
           "Samoa"
          ],
          [
           292680,
           47345,
           "Vanuatu"
          ],
          [
           9537642,
           2592830,
           "Tajikistan"
          ],
          [
           652858,
           52319,
           "Solomon Islands"
          ],
          [
           219161,
           48928,
           "Sao Tome and Principe"
          ],
          [
           16425859,
           80663,
           "Chad"
          ]
         ],
         "geo": "geo",
         "hovertemplate": "<b>%{hovertext}</b><br><br>Population=%{customdata[0]:,}<br>People_fully_vaccinated=%{customdata[1]:,}<br>Fully_vaccinated_percent=%{z}<extra></extra>",
         "hovertext": [
          "Liechtenstein",
          "Andorra",
          "Slovakia",
          "Czechia",
          "Denmark",
          "Belgium",
          "Switzerland",
          "San Marino",
          "Netherlands",
          "Ireland",
          "Georgia",
          "Norway",
          "Croatia",
          "Monaco",
          "United Kingdom",
          "France",
          "Eswatini",
          "Slovenia",
          "Germany",
          "Hungary",
          "Lithuania",
          "Luxembourg",
          "Poland",
          "Greece",
          "Trinidad and Tobago",
          "Cyprus",
          "Jordan",
          "Austria",
          "Spain",
          "Portugal",
          "Iceland",
          "US",
          "Estonia",
          "Latvia",
          "Seychelles",
          "South Africa",
          "Barbados",
          "Dominica",
          "Montenegro",
          "Italy",
          "Finland",
          "Zimbabwe",
          "Sweden",
          "Lebanon",
          "Turkey",
          "Maldives",
          "Ukraine",
          "Russia",
          "Malta",
          "Laos",
          "Bulgaria",
          "Namibia",
          "Serbia",
          "Belarus",
          "Vietnam",
          "Bosnia and Herzegovina",
          "North Macedonia",
          "Malaysia",
          "Korea, South",
          "Saint Vincent and the Grenadines",
          "Moldova",
          "Azerbaijan",
          "Canada",
          "Bolivia",
          "Albania",
          "Singapore",
          "Armenia",
          "Lesotho",
          "Mongolia",
          "Chile",
          "Belize",
          "Israel",
          "Libya",
          "Australia",
          "Guyana",
          "Uruguay",
          "Panama",
          "Qatar",
          "Mauritius",
          "Brunei",
          "Romania",
          "Argentina",
          "Thailand",
          "Peru",
          "Saint Lucia",
          "Colombia",
          "Suriname",
          "Sri Lanka",
          "Kazakhstan",
          "Iran",
          "Botswana",
          "Ecuador",
          "El Salvador",
          "Bahamas",
          "Dominican Republic",
          "Antigua and Barbuda",
          "Brazil",
          "New Zealand",
          "Venezuela",
          "Guatemala",
          "Mexico",
          "Bahrain",
          "Saint Kitts and Nevis",
          "Tunisia",
          "Jamaica",
          "Iraq",
          "Costa Rica",
          "Nepal",
          "Mozambique",
          "Paraguay",
          "Mauritania",
          "Grenada",
          "Kyrgyzstan",
          "United Arab Emirates",
          "Egypt",
          "Zambia",
          "Central African Republic",
          "Papua New Guinea",
          "Cuba",
          "Kuwait",
          "Uzbekistan",
          "Burma",
          "India",
          "Honduras",
          "Gabon",
          "Madagascar",
          "Burundi",
          "Fiji",
          "Mali",
          "Syria",
          "Algeria",
          "Comoros",
          "Morocco",
          "Oman",
          "Malawi",
          "Kenya",
          "Sudan",
          "Burkina Faso",
          "Rwanda",
          "Cameroon",
          "Philippines",
          "Gambia",
          "Nigeria",
          "Togo",
          "Bangladesh",
          "Nicaragua",
          "Haiti",
          "Bhutan",
          "Saudi Arabia",
          "Pakistan",
          "Ghana",
          "Equatorial Guinea",
          "Ethiopia",
          "Uganda",
          "South Sudan",
          "Japan",
          "Djibouti",
          "Cambodia",
          "Indonesia",
          "Angola",
          "Afghanistan",
          "Senegal",
          "Taiwan*",
          "Cote d'Ivoire",
          "Niger",
          "Liberia",
          "Benin",
          "Sierra Leone",
          "Guinea",
          "Guinea-Bissau",
          "Somalia",
          "Yemen",
          "Tanzania",
          "China",
          "Kiribati",
          "Samoa",
          "Vanuatu",
          "Tajikistan",
          "Solomon Islands",
          "Sao Tome and Principe",
          "Chad"
         ],
         "locationmode": "country names",
         "locations": [
          "Liechtenstein",
          "Andorra",
          "Slovakia",
          "Czechia",
          "Denmark",
          "Belgium",
          "Switzerland",
          "San Marino",
          "Netherlands",
          "Ireland",
          "Georgia",
          "Norway",
          "Croatia",
          "Monaco",
          "United Kingdom",
          "France",
          "Eswatini",
          "Slovenia",
          "Germany",
          "Hungary",
          "Lithuania",
          "Luxembourg",
          "Poland",
          "Greece",
          "Trinidad and Tobago",
          "Cyprus",
          "Jordan",
          "Austria",
          "Spain",
          "Portugal",
          "Iceland",
          "US",
          "Estonia",
          "Latvia",
          "Seychelles",
          "South Africa",
          "Barbados",
          "Dominica",
          "Montenegro",
          "Italy",
          "Finland",
          "Zimbabwe",
          "Sweden",
          "Lebanon",
          "Turkey",
          "Maldives",
          "Ukraine",
          "Russia",
          "Malta",
          "Laos",
          "Bulgaria",
          "Namibia",
          "Serbia",
          "Belarus",
          "Vietnam",
          "Bosnia and Herzegovina",
          "North Macedonia",
          "Malaysia",
          "Korea, South",
          "Saint Vincent and the Grenadines",
          "Moldova",
          "Azerbaijan",
          "Canada",
          "Bolivia",
          "Albania",
          "Singapore",
          "Armenia",
          "Lesotho",
          "Mongolia",
          "Chile",
          "Belize",
          "Israel",
          "Libya",
          "Australia",
          "Guyana",
          "Uruguay",
          "Panama",
          "Qatar",
          "Mauritius",
          "Brunei",
          "Romania",
          "Argentina",
          "Thailand",
          "Peru",
          "Saint Lucia",
          "Colombia",
          "Suriname",
          "Sri Lanka",
          "Kazakhstan",
          "Iran",
          "Botswana",
          "Ecuador",
          "El Salvador",
          "Bahamas",
          "Dominican Republic",
          "Antigua and Barbuda",
          "Brazil",
          "New Zealand",
          "Venezuela",
          "Guatemala",
          "Mexico",
          "Bahrain",
          "Saint Kitts and Nevis",
          "Tunisia",
          "Jamaica",
          "Iraq",
          "Costa Rica",
          "Nepal",
          "Mozambique",
          "Paraguay",
          "Mauritania",
          "Grenada",
          "Kyrgyzstan",
          "United Arab Emirates",
          "Egypt",
          "Zambia",
          "Central African Republic",
          "Papua New Guinea",
          "Cuba",
          "Kuwait",
          "Uzbekistan",
          "Burma",
          "India",
          "Honduras",
          "Gabon",
          "Madagascar",
          "Burundi",
          "Fiji",
          "Mali",
          "Syria",
          "Algeria",
          "Comoros",
          "Morocco",
          "Oman",
          "Malawi",
          "Kenya",
          "Sudan",
          "Burkina Faso",
          "Rwanda",
          "Cameroon",
          "Philippines",
          "Gambia",
          "Nigeria",
          "Togo",
          "Bangladesh",
          "Nicaragua",
          "Haiti",
          "Bhutan",
          "Saudi Arabia",
          "Pakistan",
          "Ghana",
          "Equatorial Guinea",
          "Ethiopia",
          "Uganda",
          "South Sudan",
          "Japan",
          "Djibouti",
          "Cambodia",
          "Indonesia",
          "Angola",
          "Afghanistan",
          "Senegal",
          "Taiwan*",
          "Cote d'Ivoire",
          "Niger",
          "Liberia",
          "Benin",
          "Sierra Leone",
          "Guinea",
          "Guinea-Bissau",
          "Somalia",
          "Yemen",
          "Tanzania",
          "China",
          "Kiribati",
          "Samoa",
          "Vanuatu",
          "Tajikistan",
          "Solomon Islands",
          "Sao Tome and Principe",
          "Chad"
         ],
         "name": "",
         "type": "choropleth",
         "z": [
          66.65,
          65.14,
          43.52,
          60.7,
          77.03,
          76.09,
          66.61,
          69.98,
          74.54,
          77.24,
          26.4,
          71.57,
          49.85,
          59.39,
          68.95,
          73.64,
          24.38,
          56.35,
          69.68,
          61.08,
          66.35,
          68.65,
          54.71,
          64.99,
          46.78,
          49.15,
          37.58,
          68.87,
          80.68,
          88.58,
          82.7,
          61.39,
          60.53,
          65.26,
          79.53,
          25.98,
          48.71,
          37.66,
          42.03,
          73.3,
          73.72,
          20.11,
          71.89,
          25.65,
          60.42,
          67.64,
          28.73,
          42.09,
          98.31,
          42.59,
          26.55,
          12.56,
          36.23,
          30.33,
          59.55,
          21.96,
          37.91,
          78.75,
          81.33,
          21.79,
          23.78,
          45.54,
          76.39,
          37.43,
          34.59,
          81.1,
          19.66,
          28.87,
          65.77,
          85.43,
          49.48,
          66.92,
          10.92,
          75.92,
          36.04,
          76.75,
          56.68,
          77,
          71.94,
          87.25,
          39.78,
          68.8,
          62.08,
          60.07,
          25.94,
          51.58,
          38.28,
          64.4,
          44.15,
          58.52,
          22.45,
          66.65,
          63.48,
          36.53,
          52.16,
          59.11,
          65.76,
          77.95,
          34.67,
          24.36,
          51.82,
          68.54,
          47.31,
          45.5,
          18.3,
          12.83,
          66.05,
          29.95,
          14.8,
          38.82,
          15.18,
          31.07,
          14.5,
          91.2,
          17.17,
          4.57,
          6.93,
          2.41,
          82.66,
          74.63,
          17.57,
          21.79,
          37.5,
          39.29,
          7.78,
          1.95,
          0.02,
          66.72,
          1.72,
          4.22,
          12.29,
          28.14,
          61.97,
          55.38,
          3.32,
          6.06,
          2.82,
          1.55,
          29.96,
          2.31,
          37.88,
          9.44,
          1.93,
          9.78,
          26.31,
          38.35,
          0.59,
          73.17,
          65.52,
          25.97,
          2.71,
          14.16,
          1.26,
          2.82,
          1.58,
          77.57,
          2.64,
          81.1,
          37.69,
          10.09,
          9.16,
          5.59,
          63.42,
          5.71,
          1.92,
          11.38,
          7.23,
          4.83,
          6.23,
          1.08,
          4.18,
          1.23,
          1.8,
          82.34,
          19.28,
          61.97,
          16.18,
          27.19,
          8.01,
          22.33,
          0.49
         ]
        }
       ],
       "layout": {
        "coloraxis": {
         "colorbar": {
          "title": {
           "text": "Fully_vaccinated_percent"
          }
         },
         "colorscale": [
          [
           0,
           "rgb(236, 218, 154)"
          ],
          [
           0.16666666666666666,
           "rgb(239, 196, 126)"
          ],
          [
           0.3333333333333333,
           "rgb(243, 173, 106)"
          ],
          [
           0.5,
           "rgb(247, 148, 93)"
          ],
          [
           0.6666666666666666,
           "rgb(249, 123, 87)"
          ],
          [
           0.8333333333333334,
           "rgb(246, 99, 86)"
          ],
          [
           1,
           "rgb(238, 77, 90)"
          ]
         ]
        },
        "geo": {
         "center": {},
         "domain": {
          "x": [
           0,
           1
          ],
          "y": [
           0,
           1
          ]
         },
         "projection": {
          "type": "natural earth"
         }
        },
        "legend": {
         "tracegroupgap": 0
        },
        "margin": {
         "b": 50,
         "l": 0,
         "r": 0,
         "t": 50
        },
        "template": {
         "data": {
          "bar": [
           {
            "error_x": {
             "color": "#f2f5fa"
            },
            "error_y": {
             "color": "#f2f5fa"
            },
            "marker": {
             "line": {
              "color": "rgb(17,17,17)",
              "width": 0.5
             },
             "pattern": {
              "fillmode": "overlay",
              "size": 10,
              "solidity": 0.2
             }
            },
            "type": "bar"
           }
          ],
          "barpolar": [
           {
            "marker": {
             "line": {
              "color": "rgb(17,17,17)",
              "width": 0.5
             },
             "pattern": {
              "fillmode": "overlay",
              "size": 10,
              "solidity": 0.2
             }
            },
            "type": "barpolar"
           }
          ],
          "carpet": [
           {
            "aaxis": {
             "endlinecolor": "#A2B1C6",
             "gridcolor": "#506784",
             "linecolor": "#506784",
             "minorgridcolor": "#506784",
             "startlinecolor": "#A2B1C6"
            },
            "baxis": {
             "endlinecolor": "#A2B1C6",
             "gridcolor": "#506784",
             "linecolor": "#506784",
             "minorgridcolor": "#506784",
             "startlinecolor": "#A2B1C6"
            },
            "type": "carpet"
           }
          ],
          "choropleth": [
           {
            "colorbar": {
             "outlinewidth": 0,
             "ticks": ""
            },
            "type": "choropleth"
           }
          ],
          "contour": [
           {
            "colorbar": {
             "outlinewidth": 0,
             "ticks": ""
            },
            "colorscale": [
             [
              0,
              "#0d0887"
             ],
             [
              0.1111111111111111,
              "#46039f"
             ],
             [
              0.2222222222222222,
              "#7201a8"
             ],
             [
              0.3333333333333333,
              "#9c179e"
             ],
             [
              0.4444444444444444,
              "#bd3786"
             ],
             [
              0.5555555555555556,
              "#d8576b"
             ],
             [
              0.6666666666666666,
              "#ed7953"
             ],
             [
              0.7777777777777778,
              "#fb9f3a"
             ],
             [
              0.8888888888888888,
              "#fdca26"
             ],
             [
              1,
              "#f0f921"
             ]
            ],
            "type": "contour"
           }
          ],
          "contourcarpet": [
           {
            "colorbar": {
             "outlinewidth": 0,
             "ticks": ""
            },
            "type": "contourcarpet"
           }
          ],
          "heatmap": [
           {
            "colorbar": {
             "outlinewidth": 0,
             "ticks": ""
            },
            "colorscale": [
             [
              0,
              "#0d0887"
             ],
             [
              0.1111111111111111,
              "#46039f"
             ],
             [
              0.2222222222222222,
              "#7201a8"
             ],
             [
              0.3333333333333333,
              "#9c179e"
             ],
             [
              0.4444444444444444,
              "#bd3786"
             ],
             [
              0.5555555555555556,
              "#d8576b"
             ],
             [
              0.6666666666666666,
              "#ed7953"
             ],
             [
              0.7777777777777778,
              "#fb9f3a"
             ],
             [
              0.8888888888888888,
              "#fdca26"
             ],
             [
              1,
              "#f0f921"
             ]
            ],
            "type": "heatmap"
           }
          ],
          "heatmapgl": [
           {
            "colorbar": {
             "outlinewidth": 0,
             "ticks": ""
            },
            "colorscale": [
             [
              0,
              "#0d0887"
             ],
             [
              0.1111111111111111,
              "#46039f"
             ],
             [
              0.2222222222222222,
              "#7201a8"
             ],
             [
              0.3333333333333333,
              "#9c179e"
             ],
             [
              0.4444444444444444,
              "#bd3786"
             ],
             [
              0.5555555555555556,
              "#d8576b"
             ],
             [
              0.6666666666666666,
              "#ed7953"
             ],
             [
              0.7777777777777778,
              "#fb9f3a"
             ],
             [
              0.8888888888888888,
              "#fdca26"
             ],
             [
              1,
              "#f0f921"
             ]
            ],
            "type": "heatmapgl"
           }
          ],
          "histogram": [
           {
            "marker": {
             "pattern": {
              "fillmode": "overlay",
              "size": 10,
              "solidity": 0.2
             }
            },
            "type": "histogram"
           }
          ],
          "histogram2d": [
           {
            "colorbar": {
             "outlinewidth": 0,
             "ticks": ""
            },
            "colorscale": [
             [
              0,
              "#0d0887"
             ],
             [
              0.1111111111111111,
              "#46039f"
             ],
             [
              0.2222222222222222,
              "#7201a8"
             ],
             [
              0.3333333333333333,
              "#9c179e"
             ],
             [
              0.4444444444444444,
              "#bd3786"
             ],
             [
              0.5555555555555556,
              "#d8576b"
             ],
             [
              0.6666666666666666,
              "#ed7953"
             ],
             [
              0.7777777777777778,
              "#fb9f3a"
             ],
             [
              0.8888888888888888,
              "#fdca26"
             ],
             [
              1,
              "#f0f921"
             ]
            ],
            "type": "histogram2d"
           }
          ],
          "histogram2dcontour": [
           {
            "colorbar": {
             "outlinewidth": 0,
             "ticks": ""
            },
            "colorscale": [
             [
              0,
              "#0d0887"
             ],
             [
              0.1111111111111111,
              "#46039f"
             ],
             [
              0.2222222222222222,
              "#7201a8"
             ],
             [
              0.3333333333333333,
              "#9c179e"
             ],
             [
              0.4444444444444444,
              "#bd3786"
             ],
             [
              0.5555555555555556,
              "#d8576b"
             ],
             [
              0.6666666666666666,
              "#ed7953"
             ],
             [
              0.7777777777777778,
              "#fb9f3a"
             ],
             [
              0.8888888888888888,
              "#fdca26"
             ],
             [
              1,
              "#f0f921"
             ]
            ],
            "type": "histogram2dcontour"
           }
          ],
          "mesh3d": [
           {
            "colorbar": {
             "outlinewidth": 0,
             "ticks": ""
            },
            "type": "mesh3d"
           }
          ],
          "parcoords": [
           {
            "line": {
             "colorbar": {
              "outlinewidth": 0,
              "ticks": ""
             }
            },
            "type": "parcoords"
           }
          ],
          "pie": [
           {
            "automargin": true,
            "type": "pie"
           }
          ],
          "scatter": [
           {
            "marker": {
             "line": {
              "color": "#283442"
             }
            },
            "type": "scatter"
           }
          ],
          "scatter3d": [
           {
            "line": {
             "colorbar": {
              "outlinewidth": 0,
              "ticks": ""
             }
            },
            "marker": {
             "colorbar": {
              "outlinewidth": 0,
              "ticks": ""
             }
            },
            "type": "scatter3d"
           }
          ],
          "scattercarpet": [
           {
            "marker": {
             "colorbar": {
              "outlinewidth": 0,
              "ticks": ""
             }
            },
            "type": "scattercarpet"
           }
          ],
          "scattergeo": [
           {
            "marker": {
             "colorbar": {
              "outlinewidth": 0,
              "ticks": ""
             }
            },
            "type": "scattergeo"
           }
          ],
          "scattergl": [
           {
            "marker": {
             "line": {
              "color": "#283442"
             }
            },
            "type": "scattergl"
           }
          ],
          "scattermapbox": [
           {
            "marker": {
             "colorbar": {
              "outlinewidth": 0,
              "ticks": ""
             }
            },
            "type": "scattermapbox"
           }
          ],
          "scatterpolar": [
           {
            "marker": {
             "colorbar": {
              "outlinewidth": 0,
              "ticks": ""
             }
            },
            "type": "scatterpolar"
           }
          ],
          "scatterpolargl": [
           {
            "marker": {
             "colorbar": {
              "outlinewidth": 0,
              "ticks": ""
             }
            },
            "type": "scatterpolargl"
           }
          ],
          "scatterternary": [
           {
            "marker": {
             "colorbar": {
              "outlinewidth": 0,
              "ticks": ""
             }
            },
            "type": "scatterternary"
           }
          ],
          "surface": [
           {
            "colorbar": {
             "outlinewidth": 0,
             "ticks": ""
            },
            "colorscale": [
             [
              0,
              "#0d0887"
             ],
             [
              0.1111111111111111,
              "#46039f"
             ],
             [
              0.2222222222222222,
              "#7201a8"
             ],
             [
              0.3333333333333333,
              "#9c179e"
             ],
             [
              0.4444444444444444,
              "#bd3786"
             ],
             [
              0.5555555555555556,
              "#d8576b"
             ],
             [
              0.6666666666666666,
              "#ed7953"
             ],
             [
              0.7777777777777778,
              "#fb9f3a"
             ],
             [
              0.8888888888888888,
              "#fdca26"
             ],
             [
              1,
              "#f0f921"
             ]
            ],
            "type": "surface"
           }
          ],
          "table": [
           {
            "cells": {
             "fill": {
              "color": "#506784"
             },
             "line": {
              "color": "rgb(17,17,17)"
             }
            },
            "header": {
             "fill": {
              "color": "#2a3f5f"
             },
             "line": {
              "color": "rgb(17,17,17)"
             }
            },
            "type": "table"
           }
          ]
         },
         "layout": {
          "annotationdefaults": {
           "arrowcolor": "#f2f5fa",
           "arrowhead": 0,
           "arrowwidth": 1
          },
          "autotypenumbers": "strict",
          "coloraxis": {
           "colorbar": {
            "outlinewidth": 0,
            "ticks": ""
           }
          },
          "colorscale": {
           "diverging": [
            [
             0,
             "#8e0152"
            ],
            [
             0.1,
             "#c51b7d"
            ],
            [
             0.2,
             "#de77ae"
            ],
            [
             0.3,
             "#f1b6da"
            ],
            [
             0.4,
             "#fde0ef"
            ],
            [
             0.5,
             "#f7f7f7"
            ],
            [
             0.6,
             "#e6f5d0"
            ],
            [
             0.7,
             "#b8e186"
            ],
            [
             0.8,
             "#7fbc41"
            ],
            [
             0.9,
             "#4d9221"
            ],
            [
             1,
             "#276419"
            ]
           ],
           "sequential": [
            [
             0,
             "#0d0887"
            ],
            [
             0.1111111111111111,
             "#46039f"
            ],
            [
             0.2222222222222222,
             "#7201a8"
            ],
            [
             0.3333333333333333,
             "#9c179e"
            ],
            [
             0.4444444444444444,
             "#bd3786"
            ],
            [
             0.5555555555555556,
             "#d8576b"
            ],
            [
             0.6666666666666666,
             "#ed7953"
            ],
            [
             0.7777777777777778,
             "#fb9f3a"
            ],
            [
             0.8888888888888888,
             "#fdca26"
            ],
            [
             1,
             "#f0f921"
            ]
           ],
           "sequentialminus": [
            [
             0,
             "#0d0887"
            ],
            [
             0.1111111111111111,
             "#46039f"
            ],
            [
             0.2222222222222222,
             "#7201a8"
            ],
            [
             0.3333333333333333,
             "#9c179e"
            ],
            [
             0.4444444444444444,
             "#bd3786"
            ],
            [
             0.5555555555555556,
             "#d8576b"
            ],
            [
             0.6666666666666666,
             "#ed7953"
            ],
            [
             0.7777777777777778,
             "#fb9f3a"
            ],
            [
             0.8888888888888888,
             "#fdca26"
            ],
            [
             1,
             "#f0f921"
            ]
           ]
          },
          "colorway": [
           "#636efa",
           "#EF553B",
           "#00cc96",
           "#ab63fa",
           "#FFA15A",
           "#19d3f3",
           "#FF6692",
           "#B6E880",
           "#FF97FF",
           "#FECB52"
          ],
          "font": {
           "color": "#f2f5fa"
          },
          "geo": {
           "bgcolor": "rgb(17,17,17)",
           "lakecolor": "rgb(17,17,17)",
           "landcolor": "rgb(17,17,17)",
           "showlakes": true,
           "showland": true,
           "subunitcolor": "#506784"
          },
          "hoverlabel": {
           "align": "left"
          },
          "hovermode": "closest",
          "mapbox": {
           "style": "dark"
          },
          "paper_bgcolor": "rgb(17,17,17)",
          "plot_bgcolor": "rgb(17,17,17)",
          "polar": {
           "angularaxis": {
            "gridcolor": "#506784",
            "linecolor": "#506784",
            "ticks": ""
           },
           "bgcolor": "rgb(17,17,17)",
           "radialaxis": {
            "gridcolor": "#506784",
            "linecolor": "#506784",
            "ticks": ""
           }
          },
          "scene": {
           "xaxis": {
            "backgroundcolor": "rgb(17,17,17)",
            "gridcolor": "#506784",
            "gridwidth": 2,
            "linecolor": "#506784",
            "showbackground": true,
            "ticks": "",
            "zerolinecolor": "#C8D4E3"
           },
           "yaxis": {
            "backgroundcolor": "rgb(17,17,17)",
            "gridcolor": "#506784",
            "gridwidth": 2,
            "linecolor": "#506784",
            "showbackground": true,
            "ticks": "",
            "zerolinecolor": "#C8D4E3"
           },
           "zaxis": {
            "backgroundcolor": "rgb(17,17,17)",
            "gridcolor": "#506784",
            "gridwidth": 2,
            "linecolor": "#506784",
            "showbackground": true,
            "ticks": "",
            "zerolinecolor": "#C8D4E3"
           }
          },
          "shapedefaults": {
           "line": {
            "color": "#f2f5fa"
           }
          },
          "sliderdefaults": {
           "bgcolor": "#C8D4E3",
           "bordercolor": "rgb(17,17,17)",
           "borderwidth": 1,
           "tickwidth": 0
          },
          "ternary": {
           "aaxis": {
            "gridcolor": "#506784",
            "linecolor": "#506784",
            "ticks": ""
           },
           "baxis": {
            "gridcolor": "#506784",
            "linecolor": "#506784",
            "ticks": ""
           },
           "bgcolor": "rgb(17,17,17)",
           "caxis": {
            "gridcolor": "#506784",
            "linecolor": "#506784",
            "ticks": ""
           }
          },
          "title": {
           "x": 0.05
          },
          "updatemenudefaults": {
           "bgcolor": "#506784",
           "borderwidth": 0
          },
          "xaxis": {
           "automargin": true,
           "gridcolor": "#283442",
           "linecolor": "#506784",
           "ticks": "",
           "title": {
            "standoff": 15
           },
           "zerolinecolor": "#283442",
           "zerolinewidth": 2
          },
          "yaxis": {
           "automargin": true,
           "gridcolor": "#283442",
           "linecolor": "#506784",
           "ticks": "",
           "title": {
            "standoff": 15
           },
           "zerolinecolor": "#283442",
           "zerolinewidth": 2
          }
         }
        },
        "title": {
         "font": {
          "size": 28
         },
         "text": "% of the population fully vaccinated against COVID-19",
         "x": 0.424,
         "xanchor": "center",
         "y": 0.97,
         "yanchor": "top"
        }
       }
      },
      "text/html": [
       "<div>                            <div id=\"84145ffc-48b7-454b-a53b-d3f604d5d4d5\" class=\"plotly-graph-div\" style=\"height:525px; width:100%;\"></div>            <script type=\"text/javascript\">                require([\"plotly\"], function(Plotly) {                    window.PLOTLYENV=window.PLOTLYENV || {};                                    if (document.getElementById(\"84145ffc-48b7-454b-a53b-d3f604d5d4d5\")) {                    Plotly.newPlot(                        \"84145ffc-48b7-454b-a53b-d3f604d5d4d5\",                        [{\"coloraxis\":\"coloraxis\",\"customdata\":[[38137,25418,\"Liechtenstein\"],[77265,50333,\"Andorra\"],[5459643,2376046,\"Slovakia\"],[10708982,6500611,\"Czechia\"],[5837213,4496437,\"Denmark\"],[11492641,8744657,\"Belgium\"],[8654618,5765160,\"Switzerland\"],[33938,23750,\"San Marino\"],[17134873,12772175,\"Netherlands\"],[4937796,3813808,\"Ireland\"],[3989175,1052986,\"Georgia\"],[5421242,3879920,\"Norway\"],[4105268,2046615,\"Croatia\"],[39244,23308,\"Monaco\"],[67886004,46804609,\"United Kingdom\"],[65249843,48052807,\"France\"],[1160164,282886,\"Eswatini\"],[2078932,1171573,\"Slovenia\"],[83155031,57939197,\"Germany\"],[9660350,5900371,\"Hungary\"],[2722291,1806136,\"Lithuania\"],[625976,429705,\"Luxembourg\"],[37846605,20707123,\"Poland\"],[10423056,6774449,\"Greece\"],[1399491,654695,\"Trinidad and Tobago\"],[1207361,593380,\"Cyprus\"],[10203140,3834486,\"Jordan\"],[9006400,6202258,\"Austria\"],[46754783,37721347,\"Spain\"],[10196707,9032694,\"Portugal\"],[341250,282199,\"Iceland\"],[329466283,202246698,\"US\"],[1326539,802901,\"Estonia\"],[1886202,1230975,\"Latvia\"],[98340,78214,\"Seychelles\"],[59308690,15410168,\"South Africa\"],[287371,139979,\"Barbados\"],[71991,27115,\"Dominica\"],[628062,263962,\"Montenegro\"],[60461828,44320576,\"Italy\"],[5540718,4084341,\"Finland\"],[14862927,2988363,\"Zimbabwe\"],[10099270,7260558,\"Sweden\"],[6825442,1750422,\"Lebanon\"],[84339067,50961533,\"Turkey\"],[540542,365604,\"Maldives\"],[43733759,12565117,\"Ukraine\"],[145934460,61430028,\"Russia\"],[441539,434080,\"Malta\"],[7275556,3099003,\"Laos\"],[6948445,1844599,\"Bulgaria\"],[2540916,319080,\"Namibia\"],[8737370,3165137,\"Serbia\"],[9449321,2865546,\"Belarus\"],[97338583,57966204,\"Vietnam\"],[3280815,720631,\"Bosnia and Herzegovina\"],[2083380,789905,\"North Macedonia\"],[32365998,25487292,\"Malaysia\"],[51269183,41694809,\"Korea, South\"],[110947,24175,\"Saint Vincent and the Grenadines\"],[4033963,959284,\"Moldova\"],[10139175,4617228,\"Azerbaijan\"],[38246108,29217141,\"Canada\"],[11673029,4369239,\"Bolivia\"],[2877800,995500,\"Albania\"],[5850343,4744632,\"Singapore\"],[2963234,582624,\"Armenia\"],[2142252,618414,\"Lesotho\"],[3278292,2156124,\"Mongolia\"],[19116209,16331698,\"Chile\"],[397621,196741,\"Belize\"],[8655541,5792666,\"Israel\"],[6871287,750489,\"Libya\"],[25459700,19329106,\"Australia\"],[786559,283505,\"Guyana\"],[3473727,2665972,\"Uruguay\"],[4314768,2445629,\"Panama\"],[2881060,2218292,\"Qatar\"],[1271767,914936,\"Mauritius\"],[437483,381720,\"Brunei\"],[19237682,7653570,\"Romania\"],[45195777,31094824,\"Argentina\"],[69799978,43333522,\"Thailand\"],[32971846,19807602,\"Peru\"],[183629,47633,\"Saint Lucia\"],[50882884,26245302,\"Colombia\"],[586634,224568,\"Suriname\"],[21413250,13789917,\"Sri Lanka\"],[18776707,8290398,\"Kazakhstan\"],[83992953,49150330,\"Iran\"],[2351625,528046,\"Botswana\"],[17643060,11759694,\"Ecuador\"],[6486201,4117319,\"El Salvador\"],[393248,143672,\"Bahamas\"],[10847904,5657819,\"Dominican Republic\"],[97928,57888,\"Antigua and Barbuda\"],[212559409,139783903,\"Brazil\"],[4822233,3758735,\"New Zealand\"],[28435943,9858581,\"Venezuela\"],[17915567,4364572,\"Guatemala\"],[127792286,66225140,\"Mexico\"],[1701583,1166321,\"Bahrain\"],[53192,25165,\"Saint Kitts and Nevis\"],[11818618,5377874,\"Tunisia\"],[2961161,541880,\"Jamaica\"],[40222503,5158731,\"Iraq\"],[5094114,3364478,\"Costa Rica\"],[29136808,8725785,\"Nepal\"],[31255435,4624860,\"Mozambique\"],[7132530,2768880,\"Paraguay\"],[4649660,705910,\"Mauritania\"],[112519,34963,\"Grenada\"],[6524191,946238,\"Kyrgyzstan\"],[9890400,9020203,\"United Arab Emirates\"],[102334403,17567408,\"Egypt\"],[18383956,839615,\"Zambia\"],[4829764,334906,\"Central African Republic\"],[8947027,216027,\"Papua New Guinea\"],[11326616,9362628,\"Cuba\"],[4270563,3187039,\"Kuwait\"],[33469199,5882086,\"Uzbekistan\"],[54409794,11858598,\"Burma\"],[1380004385,517558003,\"India\"],[9904608,3891577,\"Honduras\"],[2225728,173123,\"Gabon\"],[27691019,541160,\"Madagascar\"],[11890781,2076,\"Burundi\"],[896444,598125,\"Fiji\"],[20250834,348728,\"Mali\"],[17500657,739210,\"Syria\"],[43851043,5391232,\"Algeria\"],[869595,244741,\"Comoros\"],[36910558,22872596,\"Morocco\"],[5106622,2828176,\"Oman\"],[19129955,634909,\"Malawi\"],[53771300,3260603,\"Kenya\"],[43849269,1234386,\"Sudan\"],[20903278,323767,\"Burkina Faso\"],[12952209,3880262,\"Rwanda\"],[26545864,613607,\"Cameroon\"],[109581085,41513071,\"Philippines\"],[2416664,228236,\"Gambia\"],[206139587,3969325,\"Nigeria\"],[8278737,810069,\"Togo\"],[164689383,43330500,\"Bangladesh\"],[6624554,2540334,\"Nicaragua\"],[11402533,66888,\"Haiti\"],[771612,564611,\"Bhutan\"],[34813867,22809730,\"Saudi Arabia\"],[220892331,57364128,\"Pakistan\"],[31072945,842225,\"Ghana\"],[1402985,198691,\"Equatorial Guinea\"],[114963583,1453286,\"Ethiopia\"],[45741000,1287799,\"Uganda\"],[11193729,177419,\"South Sudan\"],[126476458,98105016,\"Japan\"],[988002,26087,\"Djibouti\"],[16718971,13559316,\"Cambodia\"],[273523621,103098857,\"Indonesia\"],[32866268,3315757,\"Angola\"],[38928341,3566192,\"Afghanistan\"],[16743930,936623,\"Senegal\"],[23816775,15104174,\"Taiwan*\"],[26378275,1505936,\"Cote d'Ivoire\"],[24206636,464413,\"Niger\"],[5057677,575654,\"Liberia\"],[12123198,877113,\"Benin\"],[7976985,385232,\"Sierra Leone\"],[13132792,818351,\"Guinea\"],[1967998,21215,\"Guinea-Bissau\"],[15893219,664422,\"Somalia\"],[29825968,366587,\"Yemen\"],[59734213,1078102,\"Tanzania\"],[1411778724,1162488000,\"China\"],[117606,22675,\"Kiribati\"],[196130,121539,\"Samoa\"],[292680,47345,\"Vanuatu\"],[9537642,2592830,\"Tajikistan\"],[652858,52319,\"Solomon Islands\"],[219161,48928,\"Sao Tome and Principe\"],[16425859,80663,\"Chad\"]],\"geo\":\"geo\",\"hovertemplate\":\"<b>%{hovertext}</b><br><br>Population=%{customdata[0]:,}<br>People_fully_vaccinated=%{customdata[1]:,}<br>Fully_vaccinated_percent=%{z}<extra></extra>\",\"hovertext\":[\"Liechtenstein\",\"Andorra\",\"Slovakia\",\"Czechia\",\"Denmark\",\"Belgium\",\"Switzerland\",\"San Marino\",\"Netherlands\",\"Ireland\",\"Georgia\",\"Norway\",\"Croatia\",\"Monaco\",\"United Kingdom\",\"France\",\"Eswatini\",\"Slovenia\",\"Germany\",\"Hungary\",\"Lithuania\",\"Luxembourg\",\"Poland\",\"Greece\",\"Trinidad and Tobago\",\"Cyprus\",\"Jordan\",\"Austria\",\"Spain\",\"Portugal\",\"Iceland\",\"US\",\"Estonia\",\"Latvia\",\"Seychelles\",\"South Africa\",\"Barbados\",\"Dominica\",\"Montenegro\",\"Italy\",\"Finland\",\"Zimbabwe\",\"Sweden\",\"Lebanon\",\"Turkey\",\"Maldives\",\"Ukraine\",\"Russia\",\"Malta\",\"Laos\",\"Bulgaria\",\"Namibia\",\"Serbia\",\"Belarus\",\"Vietnam\",\"Bosnia and Herzegovina\",\"North Macedonia\",\"Malaysia\",\"Korea, South\",\"Saint Vincent and the Grenadines\",\"Moldova\",\"Azerbaijan\",\"Canada\",\"Bolivia\",\"Albania\",\"Singapore\",\"Armenia\",\"Lesotho\",\"Mongolia\",\"Chile\",\"Belize\",\"Israel\",\"Libya\",\"Australia\",\"Guyana\",\"Uruguay\",\"Panama\",\"Qatar\",\"Mauritius\",\"Brunei\",\"Romania\",\"Argentina\",\"Thailand\",\"Peru\",\"Saint Lucia\",\"Colombia\",\"Suriname\",\"Sri Lanka\",\"Kazakhstan\",\"Iran\",\"Botswana\",\"Ecuador\",\"El Salvador\",\"Bahamas\",\"Dominican Republic\",\"Antigua and Barbuda\",\"Brazil\",\"New Zealand\",\"Venezuela\",\"Guatemala\",\"Mexico\",\"Bahrain\",\"Saint Kitts and Nevis\",\"Tunisia\",\"Jamaica\",\"Iraq\",\"Costa Rica\",\"Nepal\",\"Mozambique\",\"Paraguay\",\"Mauritania\",\"Grenada\",\"Kyrgyzstan\",\"United Arab Emirates\",\"Egypt\",\"Zambia\",\"Central African Republic\",\"Papua New Guinea\",\"Cuba\",\"Kuwait\",\"Uzbekistan\",\"Burma\",\"India\",\"Honduras\",\"Gabon\",\"Madagascar\",\"Burundi\",\"Fiji\",\"Mali\",\"Syria\",\"Algeria\",\"Comoros\",\"Morocco\",\"Oman\",\"Malawi\",\"Kenya\",\"Sudan\",\"Burkina Faso\",\"Rwanda\",\"Cameroon\",\"Philippines\",\"Gambia\",\"Nigeria\",\"Togo\",\"Bangladesh\",\"Nicaragua\",\"Haiti\",\"Bhutan\",\"Saudi Arabia\",\"Pakistan\",\"Ghana\",\"Equatorial Guinea\",\"Ethiopia\",\"Uganda\",\"South Sudan\",\"Japan\",\"Djibouti\",\"Cambodia\",\"Indonesia\",\"Angola\",\"Afghanistan\",\"Senegal\",\"Taiwan*\",\"Cote d'Ivoire\",\"Niger\",\"Liberia\",\"Benin\",\"Sierra Leone\",\"Guinea\",\"Guinea-Bissau\",\"Somalia\",\"Yemen\",\"Tanzania\",\"China\",\"Kiribati\",\"Samoa\",\"Vanuatu\",\"Tajikistan\",\"Solomon Islands\",\"Sao Tome and Principe\",\"Chad\"],\"locationmode\":\"country names\",\"locations\":[\"Liechtenstein\",\"Andorra\",\"Slovakia\",\"Czechia\",\"Denmark\",\"Belgium\",\"Switzerland\",\"San Marino\",\"Netherlands\",\"Ireland\",\"Georgia\",\"Norway\",\"Croatia\",\"Monaco\",\"United Kingdom\",\"France\",\"Eswatini\",\"Slovenia\",\"Germany\",\"Hungary\",\"Lithuania\",\"Luxembourg\",\"Poland\",\"Greece\",\"Trinidad and Tobago\",\"Cyprus\",\"Jordan\",\"Austria\",\"Spain\",\"Portugal\",\"Iceland\",\"US\",\"Estonia\",\"Latvia\",\"Seychelles\",\"South Africa\",\"Barbados\",\"Dominica\",\"Montenegro\",\"Italy\",\"Finland\",\"Zimbabwe\",\"Sweden\",\"Lebanon\",\"Turkey\",\"Maldives\",\"Ukraine\",\"Russia\",\"Malta\",\"Laos\",\"Bulgaria\",\"Namibia\",\"Serbia\",\"Belarus\",\"Vietnam\",\"Bosnia and Herzegovina\",\"North Macedonia\",\"Malaysia\",\"Korea, South\",\"Saint Vincent and the Grenadines\",\"Moldova\",\"Azerbaijan\",\"Canada\",\"Bolivia\",\"Albania\",\"Singapore\",\"Armenia\",\"Lesotho\",\"Mongolia\",\"Chile\",\"Belize\",\"Israel\",\"Libya\",\"Australia\",\"Guyana\",\"Uruguay\",\"Panama\",\"Qatar\",\"Mauritius\",\"Brunei\",\"Romania\",\"Argentina\",\"Thailand\",\"Peru\",\"Saint Lucia\",\"Colombia\",\"Suriname\",\"Sri Lanka\",\"Kazakhstan\",\"Iran\",\"Botswana\",\"Ecuador\",\"El Salvador\",\"Bahamas\",\"Dominican Republic\",\"Antigua and Barbuda\",\"Brazil\",\"New Zealand\",\"Venezuela\",\"Guatemala\",\"Mexico\",\"Bahrain\",\"Saint Kitts and Nevis\",\"Tunisia\",\"Jamaica\",\"Iraq\",\"Costa Rica\",\"Nepal\",\"Mozambique\",\"Paraguay\",\"Mauritania\",\"Grenada\",\"Kyrgyzstan\",\"United Arab Emirates\",\"Egypt\",\"Zambia\",\"Central African Republic\",\"Papua New Guinea\",\"Cuba\",\"Kuwait\",\"Uzbekistan\",\"Burma\",\"India\",\"Honduras\",\"Gabon\",\"Madagascar\",\"Burundi\",\"Fiji\",\"Mali\",\"Syria\",\"Algeria\",\"Comoros\",\"Morocco\",\"Oman\",\"Malawi\",\"Kenya\",\"Sudan\",\"Burkina Faso\",\"Rwanda\",\"Cameroon\",\"Philippines\",\"Gambia\",\"Nigeria\",\"Togo\",\"Bangladesh\",\"Nicaragua\",\"Haiti\",\"Bhutan\",\"Saudi Arabia\",\"Pakistan\",\"Ghana\",\"Equatorial Guinea\",\"Ethiopia\",\"Uganda\",\"South Sudan\",\"Japan\",\"Djibouti\",\"Cambodia\",\"Indonesia\",\"Angola\",\"Afghanistan\",\"Senegal\",\"Taiwan*\",\"Cote d'Ivoire\",\"Niger\",\"Liberia\",\"Benin\",\"Sierra Leone\",\"Guinea\",\"Guinea-Bissau\",\"Somalia\",\"Yemen\",\"Tanzania\",\"China\",\"Kiribati\",\"Samoa\",\"Vanuatu\",\"Tajikistan\",\"Solomon Islands\",\"Sao Tome and Principe\",\"Chad\"],\"name\":\"\",\"z\":[66.65,65.14,43.52,60.7,77.03,76.09,66.61,69.98,74.54,77.24,26.4,71.57,49.85,59.39,68.95,73.64,24.38,56.35,69.68,61.08,66.35,68.65,54.71,64.99,46.78,49.15,37.58,68.87,80.68,88.58,82.7,61.39,60.53,65.26,79.53,25.98,48.71,37.66,42.03,73.3,73.72,20.11,71.89,25.65,60.42,67.64,28.73,42.09,98.31,42.59,26.55,12.56,36.23,30.33,59.55,21.96,37.91,78.75,81.33,21.79,23.78,45.54,76.39,37.43,34.59,81.1,19.66,28.87,65.77,85.43,49.48,66.92,10.92,75.92,36.04,76.75,56.68,77.0,71.94,87.25,39.78,68.8,62.08,60.07,25.94,51.58,38.28,64.4,44.15,58.52,22.45,66.65,63.48,36.53,52.16,59.11,65.76,77.95,34.67,24.36,51.82,68.54,47.31,45.5,18.3,12.83,66.05,29.95,14.8,38.82,15.18,31.07,14.5,91.2,17.17,4.57,6.93,2.41,82.66,74.63,17.57,21.79,37.5,39.29,7.78,1.95,0.02,66.72,1.72,4.22,12.29,28.14,61.97,55.38,3.32,6.06,2.82,1.55,29.96,2.31,37.88,9.44,1.93,9.78,26.31,38.35,0.59,73.17,65.52,25.97,2.71,14.16,1.26,2.82,1.58,77.57,2.64,81.1,37.69,10.09,9.16,5.59,63.42,5.71,1.92,11.38,7.23,4.83,6.23,1.08,4.18,1.23,1.8,82.34,19.28,61.97,16.18,27.19,8.01,22.33,0.49],\"type\":\"choropleth\"}],                        {\"template\":{\"data\":{\"barpolar\":[{\"marker\":{\"line\":{\"color\":\"rgb(17,17,17)\",\"width\":0.5},\"pattern\":{\"fillmode\":\"overlay\",\"size\":10,\"solidity\":0.2}},\"type\":\"barpolar\"}],\"bar\":[{\"error_x\":{\"color\":\"#f2f5fa\"},\"error_y\":{\"color\":\"#f2f5fa\"},\"marker\":{\"line\":{\"color\":\"rgb(17,17,17)\",\"width\":0.5},\"pattern\":{\"fillmode\":\"overlay\",\"size\":10,\"solidity\":0.2}},\"type\":\"bar\"}],\"carpet\":[{\"aaxis\":{\"endlinecolor\":\"#A2B1C6\",\"gridcolor\":\"#506784\",\"linecolor\":\"#506784\",\"minorgridcolor\":\"#506784\",\"startlinecolor\":\"#A2B1C6\"},\"baxis\":{\"endlinecolor\":\"#A2B1C6\",\"gridcolor\":\"#506784\",\"linecolor\":\"#506784\",\"minorgridcolor\":\"#506784\",\"startlinecolor\":\"#A2B1C6\"},\"type\":\"carpet\"}],\"choropleth\":[{\"colorbar\":{\"outlinewidth\":0,\"ticks\":\"\"},\"type\":\"choropleth\"}],\"contourcarpet\":[{\"colorbar\":{\"outlinewidth\":0,\"ticks\":\"\"},\"type\":\"contourcarpet\"}],\"contour\":[{\"colorbar\":{\"outlinewidth\":0,\"ticks\":\"\"},\"colorscale\":[[0.0,\"#0d0887\"],[0.1111111111111111,\"#46039f\"],[0.2222222222222222,\"#7201a8\"],[0.3333333333333333,\"#9c179e\"],[0.4444444444444444,\"#bd3786\"],[0.5555555555555556,\"#d8576b\"],[0.6666666666666666,\"#ed7953\"],[0.7777777777777778,\"#fb9f3a\"],[0.8888888888888888,\"#fdca26\"],[1.0,\"#f0f921\"]],\"type\":\"contour\"}],\"heatmapgl\":[{\"colorbar\":{\"outlinewidth\":0,\"ticks\":\"\"},\"colorscale\":[[0.0,\"#0d0887\"],[0.1111111111111111,\"#46039f\"],[0.2222222222222222,\"#7201a8\"],[0.3333333333333333,\"#9c179e\"],[0.4444444444444444,\"#bd3786\"],[0.5555555555555556,\"#d8576b\"],[0.6666666666666666,\"#ed7953\"],[0.7777777777777778,\"#fb9f3a\"],[0.8888888888888888,\"#fdca26\"],[1.0,\"#f0f921\"]],\"type\":\"heatmapgl\"}],\"heatmap\":[{\"colorbar\":{\"outlinewidth\":0,\"ticks\":\"\"},\"colorscale\":[[0.0,\"#0d0887\"],[0.1111111111111111,\"#46039f\"],[0.2222222222222222,\"#7201a8\"],[0.3333333333333333,\"#9c179e\"],[0.4444444444444444,\"#bd3786\"],[0.5555555555555556,\"#d8576b\"],[0.6666666666666666,\"#ed7953\"],[0.7777777777777778,\"#fb9f3a\"],[0.8888888888888888,\"#fdca26\"],[1.0,\"#f0f921\"]],\"type\":\"heatmap\"}],\"histogram2dcontour\":[{\"colorbar\":{\"outlinewidth\":0,\"ticks\":\"\"},\"colorscale\":[[0.0,\"#0d0887\"],[0.1111111111111111,\"#46039f\"],[0.2222222222222222,\"#7201a8\"],[0.3333333333333333,\"#9c179e\"],[0.4444444444444444,\"#bd3786\"],[0.5555555555555556,\"#d8576b\"],[0.6666666666666666,\"#ed7953\"],[0.7777777777777778,\"#fb9f3a\"],[0.8888888888888888,\"#fdca26\"],[1.0,\"#f0f921\"]],\"type\":\"histogram2dcontour\"}],\"histogram2d\":[{\"colorbar\":{\"outlinewidth\":0,\"ticks\":\"\"},\"colorscale\":[[0.0,\"#0d0887\"],[0.1111111111111111,\"#46039f\"],[0.2222222222222222,\"#7201a8\"],[0.3333333333333333,\"#9c179e\"],[0.4444444444444444,\"#bd3786\"],[0.5555555555555556,\"#d8576b\"],[0.6666666666666666,\"#ed7953\"],[0.7777777777777778,\"#fb9f3a\"],[0.8888888888888888,\"#fdca26\"],[1.0,\"#f0f921\"]],\"type\":\"histogram2d\"}],\"histogram\":[{\"marker\":{\"pattern\":{\"fillmode\":\"overlay\",\"size\":10,\"solidity\":0.2}},\"type\":\"histogram\"}],\"mesh3d\":[{\"colorbar\":{\"outlinewidth\":0,\"ticks\":\"\"},\"type\":\"mesh3d\"}],\"parcoords\":[{\"line\":{\"colorbar\":{\"outlinewidth\":0,\"ticks\":\"\"}},\"type\":\"parcoords\"}],\"pie\":[{\"automargin\":true,\"type\":\"pie\"}],\"scatter3d\":[{\"line\":{\"colorbar\":{\"outlinewidth\":0,\"ticks\":\"\"}},\"marker\":{\"colorbar\":{\"outlinewidth\":0,\"ticks\":\"\"}},\"type\":\"scatter3d\"}],\"scattercarpet\":[{\"marker\":{\"colorbar\":{\"outlinewidth\":0,\"ticks\":\"\"}},\"type\":\"scattercarpet\"}],\"scattergeo\":[{\"marker\":{\"colorbar\":{\"outlinewidth\":0,\"ticks\":\"\"}},\"type\":\"scattergeo\"}],\"scattergl\":[{\"marker\":{\"line\":{\"color\":\"#283442\"}},\"type\":\"scattergl\"}],\"scattermapbox\":[{\"marker\":{\"colorbar\":{\"outlinewidth\":0,\"ticks\":\"\"}},\"type\":\"scattermapbox\"}],\"scatterpolargl\":[{\"marker\":{\"colorbar\":{\"outlinewidth\":0,\"ticks\":\"\"}},\"type\":\"scatterpolargl\"}],\"scatterpolar\":[{\"marker\":{\"colorbar\":{\"outlinewidth\":0,\"ticks\":\"\"}},\"type\":\"scatterpolar\"}],\"scatter\":[{\"marker\":{\"line\":{\"color\":\"#283442\"}},\"type\":\"scatter\"}],\"scatterternary\":[{\"marker\":{\"colorbar\":{\"outlinewidth\":0,\"ticks\":\"\"}},\"type\":\"scatterternary\"}],\"surface\":[{\"colorbar\":{\"outlinewidth\":0,\"ticks\":\"\"},\"colorscale\":[[0.0,\"#0d0887\"],[0.1111111111111111,\"#46039f\"],[0.2222222222222222,\"#7201a8\"],[0.3333333333333333,\"#9c179e\"],[0.4444444444444444,\"#bd3786\"],[0.5555555555555556,\"#d8576b\"],[0.6666666666666666,\"#ed7953\"],[0.7777777777777778,\"#fb9f3a\"],[0.8888888888888888,\"#fdca26\"],[1.0,\"#f0f921\"]],\"type\":\"surface\"}],\"table\":[{\"cells\":{\"fill\":{\"color\":\"#506784\"},\"line\":{\"color\":\"rgb(17,17,17)\"}},\"header\":{\"fill\":{\"color\":\"#2a3f5f\"},\"line\":{\"color\":\"rgb(17,17,17)\"}},\"type\":\"table\"}]},\"layout\":{\"annotationdefaults\":{\"arrowcolor\":\"#f2f5fa\",\"arrowhead\":0,\"arrowwidth\":1},\"autotypenumbers\":\"strict\",\"coloraxis\":{\"colorbar\":{\"outlinewidth\":0,\"ticks\":\"\"}},\"colorscale\":{\"diverging\":[[0,\"#8e0152\"],[0.1,\"#c51b7d\"],[0.2,\"#de77ae\"],[0.3,\"#f1b6da\"],[0.4,\"#fde0ef\"],[0.5,\"#f7f7f7\"],[0.6,\"#e6f5d0\"],[0.7,\"#b8e186\"],[0.8,\"#7fbc41\"],[0.9,\"#4d9221\"],[1,\"#276419\"]],\"sequential\":[[0.0,\"#0d0887\"],[0.1111111111111111,\"#46039f\"],[0.2222222222222222,\"#7201a8\"],[0.3333333333333333,\"#9c179e\"],[0.4444444444444444,\"#bd3786\"],[0.5555555555555556,\"#d8576b\"],[0.6666666666666666,\"#ed7953\"],[0.7777777777777778,\"#fb9f3a\"],[0.8888888888888888,\"#fdca26\"],[1.0,\"#f0f921\"]],\"sequentialminus\":[[0.0,\"#0d0887\"],[0.1111111111111111,\"#46039f\"],[0.2222222222222222,\"#7201a8\"],[0.3333333333333333,\"#9c179e\"],[0.4444444444444444,\"#bd3786\"],[0.5555555555555556,\"#d8576b\"],[0.6666666666666666,\"#ed7953\"],[0.7777777777777778,\"#fb9f3a\"],[0.8888888888888888,\"#fdca26\"],[1.0,\"#f0f921\"]]},\"colorway\":[\"#636efa\",\"#EF553B\",\"#00cc96\",\"#ab63fa\",\"#FFA15A\",\"#19d3f3\",\"#FF6692\",\"#B6E880\",\"#FF97FF\",\"#FECB52\"],\"font\":{\"color\":\"#f2f5fa\"},\"geo\":{\"bgcolor\":\"rgb(17,17,17)\",\"lakecolor\":\"rgb(17,17,17)\",\"landcolor\":\"rgb(17,17,17)\",\"showlakes\":true,\"showland\":true,\"subunitcolor\":\"#506784\"},\"hoverlabel\":{\"align\":\"left\"},\"hovermode\":\"closest\",\"mapbox\":{\"style\":\"dark\"},\"paper_bgcolor\":\"rgb(17,17,17)\",\"plot_bgcolor\":\"rgb(17,17,17)\",\"polar\":{\"angularaxis\":{\"gridcolor\":\"#506784\",\"linecolor\":\"#506784\",\"ticks\":\"\"},\"bgcolor\":\"rgb(17,17,17)\",\"radialaxis\":{\"gridcolor\":\"#506784\",\"linecolor\":\"#506784\",\"ticks\":\"\"}},\"scene\":{\"xaxis\":{\"backgroundcolor\":\"rgb(17,17,17)\",\"gridcolor\":\"#506784\",\"gridwidth\":2,\"linecolor\":\"#506784\",\"showbackground\":true,\"ticks\":\"\",\"zerolinecolor\":\"#C8D4E3\"},\"yaxis\":{\"backgroundcolor\":\"rgb(17,17,17)\",\"gridcolor\":\"#506784\",\"gridwidth\":2,\"linecolor\":\"#506784\",\"showbackground\":true,\"ticks\":\"\",\"zerolinecolor\":\"#C8D4E3\"},\"zaxis\":{\"backgroundcolor\":\"rgb(17,17,17)\",\"gridcolor\":\"#506784\",\"gridwidth\":2,\"linecolor\":\"#506784\",\"showbackground\":true,\"ticks\":\"\",\"zerolinecolor\":\"#C8D4E3\"}},\"shapedefaults\":{\"line\":{\"color\":\"#f2f5fa\"}},\"sliderdefaults\":{\"bgcolor\":\"#C8D4E3\",\"bordercolor\":\"rgb(17,17,17)\",\"borderwidth\":1,\"tickwidth\":0},\"ternary\":{\"aaxis\":{\"gridcolor\":\"#506784\",\"linecolor\":\"#506784\",\"ticks\":\"\"},\"baxis\":{\"gridcolor\":\"#506784\",\"linecolor\":\"#506784\",\"ticks\":\"\"},\"bgcolor\":\"rgb(17,17,17)\",\"caxis\":{\"gridcolor\":\"#506784\",\"linecolor\":\"#506784\",\"ticks\":\"\"}},\"title\":{\"x\":0.05},\"updatemenudefaults\":{\"bgcolor\":\"#506784\",\"borderwidth\":0},\"xaxis\":{\"automargin\":true,\"gridcolor\":\"#283442\",\"linecolor\":\"#506784\",\"ticks\":\"\",\"title\":{\"standoff\":15},\"zerolinecolor\":\"#283442\",\"zerolinewidth\":2},\"yaxis\":{\"automargin\":true,\"gridcolor\":\"#283442\",\"linecolor\":\"#506784\",\"ticks\":\"\",\"title\":{\"standoff\":15},\"zerolinecolor\":\"#283442\",\"zerolinewidth\":2}}},\"geo\":{\"domain\":{\"x\":[0.0,1.0],\"y\":[0.0,1.0]},\"projection\":{\"type\":\"natural earth\"},\"center\":{}},\"coloraxis\":{\"colorbar\":{\"title\":{\"text\":\"Fully_vaccinated_percent\"}},\"colorscale\":[[0.0,\"rgb(236, 218, 154)\"],[0.16666666666666666,\"rgb(239, 196, 126)\"],[0.3333333333333333,\"rgb(243, 173, 106)\"],[0.5,\"rgb(247, 148, 93)\"],[0.6666666666666666,\"rgb(249, 123, 87)\"],[0.8333333333333334,\"rgb(246, 99, 86)\"],[1.0,\"rgb(238, 77, 90)\"]]},\"legend\":{\"tracegroupgap\":0},\"margin\":{\"t\":50,\"l\":0,\"r\":0,\"b\":50},\"title\":{\"font\":{\"size\":28},\"text\":\"% of the population fully vaccinated against COVID-19\",\"y\":0.97,\"x\":0.424,\"xanchor\":\"center\",\"yanchor\":\"top\"}},                        {\"responsive\": true}                    ).then(function(){\n",
       "                            \n",
       "var gd = document.getElementById('84145ffc-48b7-454b-a53b-d3f604d5d4d5');\n",
       "var x = new MutationObserver(function (mutations, observer) {{\n",
       "        var display = window.getComputedStyle(gd).display;\n",
       "        if (!display || display === 'none') {{\n",
       "            console.log([gd, 'removed!']);\n",
       "            Plotly.purge(gd);\n",
       "            observer.disconnect();\n",
       "        }}\n",
       "}});\n",
       "\n",
       "// Listen for the removal of the full notebook cells\n",
       "var notebookContainer = gd.closest('#notebook-container');\n",
       "if (notebookContainer) {{\n",
       "    x.observe(notebookContainer, {childList: true});\n",
       "}}\n",
       "\n",
       "// Listen for the clearing of the current output cell\n",
       "var outputEl = gd.closest('.output');\n",
       "if (outputEl) {{\n",
       "    x.observe(outputEl, {childList: true});\n",
       "}}\n",
       "\n",
       "                        })                };                });            </script>        </div>"
      ]
     },
     "metadata": {},
     "output_type": "display_data"
    }
   ],
   "source": [
    "choro_vaccine_map = px.choropleth(countries_df, locations=\"Country_Region\",\n",
    "                    locationmode=\"country names\",\n",
    "                    color=\"Fully_vaccinated_percent\",\n",
    "                    template=\"plotly_dark\",\n",
    "                    projection=\"natural earth\",\n",
    "                    hover_name=\"Country_Region\",\n",
    "                    hover_data={\n",
    "                                \"Population\": \":,\",\n",
    "                                \"People_fully_vaccinated\": \":,\",\n",
    "                                 \"Country_Region\": False\n",
    "                            },\n",
    "                    color_continuous_scale=px.colors.sequential.Oryel)\n",
    "\n",
    "choro_vaccine_map.update_layout(\n",
    "    margin=dict(l=0, r=0, t=50, b=50),\n",
    "    title={\n",
    "        'text': \"% of the population fully vaccinated against COVID-19\",\n",
    "        'y':0.97,\n",
    "        'x':0.424,\n",
    "        'xanchor': 'center',\n",
    "        'yanchor': 'top'},\n",
    "    title_font=dict(size=28))\n",
    "choro_vaccine_map.show()"
   ]
  },
  {
   "cell_type": "code",
   "execution_count": 106,
   "metadata": {},
   "outputs": [
    {
     "data": {
      "application/vnd.plotly.v1+json": {
       "config": {
        "plotlyServerURL": "https://plot.ly"
       },
       "data": [
        {
         "customdata": [
          [
           5401,
           67,
           38137,
           74,
           "Liechtenstein"
          ],
          [
           19440,
           133,
           77265,
           0,
           "Andorra"
          ],
          [
           1289252,
           15415,
           5459643,
           2916,
           "Slovakia"
          ],
          [
           2338402,
           34551,
           10708982,
           4113,
           "Czechia"
          ],
          [
           568477,
           3036,
           5837213,
           7799,
           "Denmark"
          ],
          [
           1959193,
           27631,
           11492641,
           29421,
           "Belgium"
          ],
          [
           1135363,
           11793,
           8654618,
           23440,
           "Switzerland"
          ],
          [
           6464,
           94,
           33938,
           0,
           "San Marino"
          ],
          [
           2936170,
           20596,
           17134873,
           13783,
           "Netherlands"
          ],
          [
           628306,
           5788,
           4937796,
           4683,
           "Ireland"
          ],
          [
           890813,
           12777,
           3989175,
           1527,
           "Georgia"
          ],
          [
           317880,
           1136,
           5421242,
           0,
           "Norway"
          ],
          [
           654655,
           11666,
           4105268,
           453,
           "Croatia"
          ],
          [
           4114,
           36,
           39244,
           21,
           "Monaco"
          ],
          [
           10935244,
           146935,
           67886004,
           53953,
           "United Kingdom"
          ],
          [
           8374944,
           121659,
           65249843,
           11465,
           "France"
          ],
          [
           53509,
           1252,
           1160164,
           866,
           "Eswatini"
          ],
          [
           440633,
           5425,
           2078932,
           681,
           "Slovenia"
          ],
          [
           6581433,
           106231,
           83155031,
           35423,
           "Germany"
          ],
          [
           1198939,
           36884,
           9660350,
           16017,
           "Hungary"
          ],
          [
           491953,
           6989,
           2722291,
           831,
           "Lithuania"
          ],
          [
           94300,
           895,
           625976,
           871,
           "Luxembourg"
          ],
          [
           3839625,
           88508,
           37846605,
           11377,
           "Poland"
          ],
          [
           1006706,
           19345,
           10423056,
           3829,
           "Greece"
          ],
          [
           80607,
           2407,
           1399491,
           0,
           "Trinidad and Tobago"
          ],
          [
           141566,
           611,
           1207361,
           715,
           "Cyprus"
          ],
          [
           1015289,
           12024,
           10203140,
           5256,
           "Jordan"
          ],
          [
           1232204,
           13218,
           9006400,
           4170,
           "Austria"
          ],
          [
           5339992,
           88484,
           46754783,
           49802,
           "Spain"
          ],
          [
           1196602,
           18673,
           10196707,
           2314,
           "Portugal"
          ],
          [
           19547,
           36,
           341250,
           388,
           "Iceland"
          ],
          [
           50117198,
           798710,
           329466283,
           195793,
           "US"
          ],
          [
           228596,
           1865,
           1326539,
           317,
           "Estonia"
          ],
          [
           262215,
           4376,
           1886202,
           271,
           "Latvia"
          ],
          [
           23901,
           129,
           98340,
           95,
           "Seychelles"
          ],
          [
           3180785,
           90148,
           59308690,
           13288,
           "South Africa"
          ],
          [
           26814,
           253,
           287371,
           74,
           "Barbados"
          ],
          [
           6233,
           42,
           71991,
           0,
           "Dominica"
          ],
          [
           159901,
           2357,
           628062,
           113,
           "Montenegro"
          ],
          [
           5238221,
           134929,
           60461828,
           12704,
           "Italy"
          ],
          [
           205357,
           1442,
           5540718,
           4306,
           "Finland"
          ],
          [
           167140,
           4738,
           14862927,
           0,
           "Zimbabwe"
          ],
          [
           1229217,
           15191,
           10099270,
           0,
           "Sweden"
          ],
          [
           690841,
           8860,
           6825442,
           787,
           "Lebanon"
          ],
          [
           9060945,
           79322,
           84339067,
           18796,
           "Turkey"
          ],
          [
           93246,
           258,
           540542,
           127,
           "Maldives"
          ],
          [
           3738390,
           96910,
           43733759,
           4423,
           "Ukraine"
          ],
          [
           9871229,
           284909,
           145934460,
           29208,
           "Russia"
          ],
          [
           40624,
           471,
           441539,
           78,
           "Malta"
          ],
          [
           90458,
           250,
           7275556,
           1138,
           "Laos"
          ],
          [
           714688,
           29536,
           6948445,
           0,
           "Bulgaria"
          ],
          [
           133090,
           3578,
           2540916,
           241,
           "Namibia"
          ],
          [
           1275214,
           12209,
           8737370,
           1167,
           "Serbia"
          ],
          [
           675734,
           5286,
           9449321,
           1011,
           "Belarus"
          ],
          [
           1428428,
           28081,
           97338583,
           15377,
           "Vietnam"
          ],
          [
           281903,
           12999,
           3280815,
           923,
           "Bosnia and Herzegovina"
          ],
          [
           219490,
           7740,
           2083380,
           82,
           "North Macedonia"
          ],
          [
           2695143,
           30908,
           32365998,
           3504,
           "Malaysia"
          ],
          [
           528652,
           4387,
           51269183,
           5564,
           "Korea, South"
          ],
          [
           5722,
           77,
           110947,
           0,
           "Saint Vincent and the Grenadines"
          ],
          [
           370003,
           9393,
           4033963,
           344,
           "Moldova"
          ],
          [
           604998,
           8104,
           10139175,
           518,
           "Azerbaijan"
          ],
          [
           1849762,
           29994,
           38246108,
           8090,
           "Canada"
          ],
          [
           553108,
           19317,
           11673029,
           0,
           "Bolivia"
          ],
          [
           203925,
           3140,
           2877800,
           138,
           "Albania"
          ],
          [
           273701,
           798,
           5850343,
           339,
           "Singapore"
          ],
          [
           342604,
           7819,
           2963234,
           66,
           "Armenia"
          ],
          [
           23102,
           664,
           2142252,
           0,
           "Lesotho"
          ],
          [
           385447,
           2036,
           3278292,
           0,
           "Mongolia"
          ],
          [
           1784165,
           38716,
           19116209,
           1361,
           "Chile"
          ],
          [
           31033,
           586,
           397621,
           0,
           "Belize"
          ],
          [
           1351015,
           8223,
           8655541,
           800,
           "Israel"
          ],
          [
           378816,
           5561,
           6871287,
           711,
           "Libya"
          ],
          [
           232738,
           2113,
           25459700,
           1970,
           "Australia"
          ],
          [
           38554,
           1020,
           786559,
           0,
           "Guyana"
          ],
          [
           402509,
           6145,
           3473727,
           0,
           "Uruguay"
          ],
          [
           480781,
           7386,
           4314768,
           0,
           "Panama"
          ],
          [
           245523,
           613,
           2881060,
           169,
           "Qatar"
          ],
          [
           22651,
           240,
           1271767,
           190,
           "Mauritius"
          ],
          [
           15362,
           98,
           437483,
           14,
           "Brunei"
          ],
          [
           1793643,
           57741,
           19237682,
           494,
           "Romania"
          ],
          [
           5358455,
           116771,
           45195777,
           0,
           "Argentina"
          ],
          [
           2172044,
           21194,
           69799978,
           3398,
           "Thailand"
          ],
          [
           2254373,
           201770,
           32971846,
           0,
           "Peru"
          ],
          [
           13098,
           283,
           183629,
           12,
           "Saint Lucia"
          ],
          [
           5095821,
           129163,
           50882884,
           2287,
           "Colombia"
          ],
          [
           51202,
           1177,
           586634,
           0,
           "Suriname"
          ],
          [
           573649,
           14641,
           21413250,
           747,
           "Sri Lanka"
          ],
          [
           1063809,
           18049,
           18776707,
           399,
           "Kazakhstan"
          ],
          [
           6157519,
           130764,
           83992953,
           2706,
           "Iran"
          ],
          [
           196090,
           2421,
           2351625,
           0,
           "Botswana"
          ],
          [
           533190,
           33558,
           17643060,
           0,
           "Ecuador"
          ],
          [
           121200,
           3797,
           6486201,
           73,
           "El Salvador"
          ],
          [
           22907,
           708,
           393248,
           26,
           "Bahamas"
          ],
          [
           410412,
           4219,
           10847904,
           147,
           "Dominican Republic"
          ],
          [
           4162,
           117,
           97928,
           0,
           "Antigua and Barbuda"
          ],
          [
           22177059,
           616457,
           212559409,
           0,
           "Brazil"
          ],
          [
           13069,
           47,
           4822233,
           81,
           "New Zealand"
          ],
          [
           438683,
           5239,
           28435943,
           0,
           "Venezuela"
          ],
          [
           622237,
           16048,
           17915567,
           8,
           "Guatemala"
          ],
          [
           3918216,
           296672,
           127792286,
           855,
           "Mexico"
          ],
          [
           278065,
           1394,
           1701583,
           0,
           "Bahrain"
          ],
          [
           2796,
           28,
           53192,
           0,
           "Saint Kitts and Nevis"
          ],
          [
           719586,
           25432,
           11818618,
           0,
           "Tunisia"
          ],
          [
           91802,
           2428,
           2961161,
           37,
           "Jamaica"
          ],
          [
           2088359,
           23994,
           40222503,
           522,
           "Iraq"
          ],
          [
           567995,
           7332,
           5094114,
           0,
           "Costa Rica"
          ],
          [
           824535,
           11557,
           29136808,
           313,
           "Nepal"
          ],
          [
           153787,
           1945,
           31255435,
           113,
           "Mozambique"
          ],
          [
           463828,
           16513,
           7132530,
           178,
           "Paraguay"
          ],
          [
           39834,
           850,
           4649660,
           28,
           "Mauritania"
          ],
          [
           5915,
           200,
           112519,
           0,
           "Grenada"
          ],
          [
           183991,
           2770,
           6524191,
           26,
           "Kyrgyzstan"
          ],
          [
           742894,
           2151,
           9890400,
           92,
           "United Arab Emirates"
          ],
          [
           369198,
           21060,
           102334403,
           0,
           "Egypt"
          ],
          [
           211234,
           3670,
           18383956,
           157,
           "Zambia"
          ],
          [
           11961,
           101,
           4829764,
           49,
           "Central African Republic"
          ],
          [
           35937,
           586,
           8947027,
           10,
           "Papua New Guinea"
          ],
          [
           963693,
           8313,
           11326616,
           65,
           "Cuba"
          ],
          [
           413711,
           2466,
           4270563,
           0,
           "Kuwait"
          ],
          [
           195958,
           1440,
           33469199,
           211,
           "Uzbekistan"
          ],
          [
           526911,
           19188,
           54409794,
           250,
           "Burma"
          ],
          [
           34703644,
           475888,
           1380004385,
           5784,
           "India"
          ],
          [
           378615,
           10423,
           9904608,
           192,
           "Honduras"
          ],
          [
           37591,
           282,
           2225728,
           0,
           "Gabon"
          ],
          [
           45794,
           980,
           27691019,
           0,
           "Madagascar"
          ],
          [
           20886,
           38,
           11890781,
           220,
           "Burundi"
          ],
          [
           52593,
           697,
           896444,
           16,
           "Fiji"
          ],
          [
           18627,
           630,
           20250834,
           36,
           "Mali"
          ],
          [
           49272,
           2814,
           17500657,
           0,
           "Syria"
          ],
          [
           213058,
           6151,
           43851043,
           210,
           "Algeria"
          ],
          [
           4569,
           151,
           869595,
           2,
           "Comoros"
          ],
          [
           951544,
           14798,
           36910558,
           62,
           "Morocco"
          ],
          [
           304724,
           4113,
           5106622,
           10,
           "Oman"
          ],
          [
           62380,
           2308,
           19129955,
           115,
           "Malawi"
          ],
          [
           256484,
           5349,
           53771300,
           149,
           "Kenya"
          ],
          [
           44877,
           3244,
           43849269,
           348,
           "Sudan"
          ],
          [
           16334,
           290,
           20903278,
           0,
           "Burkina Faso"
          ],
          [
           100634,
           1344,
           12952209,
           0,
           "Rwanda"
          ],
          [
           107549,
           1823,
           26545864,
           0,
           "Cameroon"
          ],
          [
           2836803,
           50341,
           109581085,
           211,
           "Philippines"
          ],
          [
           10034,
           342,
           2416664,
           0,
           "Gambia"
          ],
          [
           217481,
           2981,
           206139587,
           0,
           "Nigeria"
          ],
          [
           26416,
           243,
           8278737,
           16,
           "Togo"
          ],
          [
           1579710,
           28031,
           164689383,
           385,
           "Bangladesh"
          ],
          [
           17328,
           214,
           6624554,
           0,
           "Nicaragua"
          ],
          [
           25758,
           761,
           11402533,
           14,
           "Haiti"
          ],
          [
           2649,
           3,
           771612,
           0,
           "Bhutan"
          ],
          [
           550304,
           8855,
           34813867,
           64,
           "Saudi Arabia"
          ],
          [
           1289543,
           28839,
           220892331,
           250,
           "Pakistan"
          ],
          [
           131547,
           1243,
           31072945,
           0,
           "Ghana"
          ],
          [
           13612,
           175,
           1402985,
           0,
           "Equatorial Guinea"
          ],
          [
           373240,
           6833,
           114963583,
           125,
           "Ethiopia"
          ],
          [
           128100,
           3269,
           45741000,
           127,
           "Uganda"
          ],
          [
           12904,
           133,
           11193729,
           31,
           "South Sudan"
          ],
          [
           1728090,
           18370,
           126476458,
           67,
           "Japan"
          ],
          [
           13514,
           189,
           988002,
           0,
           "Djibouti"
          ],
          [
           120370,
           2989,
           16718971,
           15,
           "Cambodia"
          ],
          [
           4259249,
           143948,
           273523621,
           106,
           "Indonesia"
          ],
          [
           65404,
           1737,
           32866268,
           0,
           "Angola"
          ],
          [
           157648,
           7328,
           38928341,
           -210,
           "Afghanistan"
          ],
          [
           74092,
           1886,
           16743930,
           6,
           "Senegal"
          ],
          [
           16742,
           848,
           23816775,
           5,
           "Taiwan*"
          ],
          [
           61905,
           706,
           26378275,
           0,
           "Cote d'Ivoire"
          ],
          [
           7163,
           269,
           24206636,
           9,
           "Niger"
          ],
          [
           5844,
           287,
           5057677,
           9,
           "Liberia"
          ],
          [
           24897,
           161,
           12123198,
           0,
           "Benin"
          ],
          [
           6422,
           121,
           7976985,
           1,
           "Sierra Leone"
          ],
          [
           30798,
           388,
           13132792,
           0,
           "Guinea"
          ],
          [
           6448,
           149,
           1967998,
           0,
           "Guinea-Bissau"
          ],
          [
           23074,
           1333,
           15893219,
           0,
           "Somalia"
          ],
          [
           10072,
           1972,
           29825968,
           3,
           "Yemen"
          ],
          [
           26309,
           734,
           59734213,
           0,
           "Tanzania"
          ],
          [
           112423,
           4849,
           1411778724,
           78,
           "China"
          ],
          [
           2,
           0,
           117606,
           0,
           "Kiribati"
          ],
          [
           3,
           0,
           196130,
           0,
           "Samoa"
          ],
          [
           6,
           1,
           292680,
           0,
           "Vanuatu"
          ],
          [
           17493,
           125,
           9537642,
           0,
           "Tajikistan"
          ],
          [
           20,
           0,
           652858,
           0,
           "Solomon Islands"
          ],
          [
           3733,
           57,
           219161,
           0,
           "Sao Tome and Principe"
          ],
          [
           5703,
           181,
           16425859,
           0,
           "Chad"
          ]
         ],
         "geo": "geo",
         "hovertemplate": "<b>%{hovertext}</b><br><br>7_Days_Incidence_Rate=%{marker.color}<br>Confirmed=%{customdata[0]:,}<br>Deaths=%{customdata[1]:,}<br>Population=%{customdata[2]:,}<br>Yesterday_Confirmed=%{customdata[3]:,}<extra></extra>",
         "hovertext": [
          "Liechtenstein",
          "Andorra",
          "Slovakia",
          "Czechia",
          "Denmark",
          "Belgium",
          "Switzerland",
          "San Marino",
          "Netherlands",
          "Ireland",
          "Georgia",
          "Norway",
          "Croatia",
          "Monaco",
          "United Kingdom",
          "France",
          "Eswatini",
          "Slovenia",
          "Germany",
          "Hungary",
          "Lithuania",
          "Luxembourg",
          "Poland",
          "Greece",
          "Trinidad and Tobago",
          "Cyprus",
          "Jordan",
          "Austria",
          "Spain",
          "Portugal",
          "Iceland",
          "US",
          "Estonia",
          "Latvia",
          "Seychelles",
          "South Africa",
          "Barbados",
          "Dominica",
          "Montenegro",
          "Italy",
          "Finland",
          "Zimbabwe",
          "Sweden",
          "Lebanon",
          "Turkey",
          "Maldives",
          "Ukraine",
          "Russia",
          "Malta",
          "Laos",
          "Bulgaria",
          "Namibia",
          "Serbia",
          "Belarus",
          "Vietnam",
          "Bosnia and Herzegovina",
          "North Macedonia",
          "Malaysia",
          "Korea, South",
          "Saint Vincent and the Grenadines",
          "Moldova",
          "Azerbaijan",
          "Canada",
          "Bolivia",
          "Albania",
          "Singapore",
          "Armenia",
          "Lesotho",
          "Mongolia",
          "Chile",
          "Belize",
          "Israel",
          "Libya",
          "Australia",
          "Guyana",
          "Uruguay",
          "Panama",
          "Qatar",
          "Mauritius",
          "Brunei",
          "Romania",
          "Argentina",
          "Thailand",
          "Peru",
          "Saint Lucia",
          "Colombia",
          "Suriname",
          "Sri Lanka",
          "Kazakhstan",
          "Iran",
          "Botswana",
          "Ecuador",
          "El Salvador",
          "Bahamas",
          "Dominican Republic",
          "Antigua and Barbuda",
          "Brazil",
          "New Zealand",
          "Venezuela",
          "Guatemala",
          "Mexico",
          "Bahrain",
          "Saint Kitts and Nevis",
          "Tunisia",
          "Jamaica",
          "Iraq",
          "Costa Rica",
          "Nepal",
          "Mozambique",
          "Paraguay",
          "Mauritania",
          "Grenada",
          "Kyrgyzstan",
          "United Arab Emirates",
          "Egypt",
          "Zambia",
          "Central African Republic",
          "Papua New Guinea",
          "Cuba",
          "Kuwait",
          "Uzbekistan",
          "Burma",
          "India",
          "Honduras",
          "Gabon",
          "Madagascar",
          "Burundi",
          "Fiji",
          "Mali",
          "Syria",
          "Algeria",
          "Comoros",
          "Morocco",
          "Oman",
          "Malawi",
          "Kenya",
          "Sudan",
          "Burkina Faso",
          "Rwanda",
          "Cameroon",
          "Philippines",
          "Gambia",
          "Nigeria",
          "Togo",
          "Bangladesh",
          "Nicaragua",
          "Haiti",
          "Bhutan",
          "Saudi Arabia",
          "Pakistan",
          "Ghana",
          "Equatorial Guinea",
          "Ethiopia",
          "Uganda",
          "South Sudan",
          "Japan",
          "Djibouti",
          "Cambodia",
          "Indonesia",
          "Angola",
          "Afghanistan",
          "Senegal",
          "Taiwan*",
          "Cote d'Ivoire",
          "Niger",
          "Liberia",
          "Benin",
          "Sierra Leone",
          "Guinea",
          "Guinea-Bissau",
          "Somalia",
          "Yemen",
          "Tanzania",
          "China",
          "Kiribati",
          "Samoa",
          "Vanuatu",
          "Tajikistan",
          "Solomon Islands",
          "Sao Tome and Principe",
          "Chad"
         ],
         "legendgroup": "",
         "locationmode": "country names",
         "locations": [
          "Liechtenstein",
          "Andorra",
          "Slovakia",
          "Czechia",
          "Denmark",
          "Belgium",
          "Switzerland",
          "San Marino",
          "Netherlands",
          "Ireland",
          "Georgia",
          "Norway",
          "Croatia",
          "Monaco",
          "United Kingdom",
          "France",
          "Eswatini",
          "Slovenia",
          "Germany",
          "Hungary",
          "Lithuania",
          "Luxembourg",
          "Poland",
          "Greece",
          "Trinidad and Tobago",
          "Cyprus",
          "Jordan",
          "Austria",
          "Spain",
          "Portugal",
          "Iceland",
          "US",
          "Estonia",
          "Latvia",
          "Seychelles",
          "South Africa",
          "Barbados",
          "Dominica",
          "Montenegro",
          "Italy",
          "Finland",
          "Zimbabwe",
          "Sweden",
          "Lebanon",
          "Turkey",
          "Maldives",
          "Ukraine",
          "Russia",
          "Malta",
          "Laos",
          "Bulgaria",
          "Namibia",
          "Serbia",
          "Belarus",
          "Vietnam",
          "Bosnia and Herzegovina",
          "North Macedonia",
          "Malaysia",
          "Korea, South",
          "Saint Vincent and the Grenadines",
          "Moldova",
          "Azerbaijan",
          "Canada",
          "Bolivia",
          "Albania",
          "Singapore",
          "Armenia",
          "Lesotho",
          "Mongolia",
          "Chile",
          "Belize",
          "Israel",
          "Libya",
          "Australia",
          "Guyana",
          "Uruguay",
          "Panama",
          "Qatar",
          "Mauritius",
          "Brunei",
          "Romania",
          "Argentina",
          "Thailand",
          "Peru",
          "Saint Lucia",
          "Colombia",
          "Suriname",
          "Sri Lanka",
          "Kazakhstan",
          "Iran",
          "Botswana",
          "Ecuador",
          "El Salvador",
          "Bahamas",
          "Dominican Republic",
          "Antigua and Barbuda",
          "Brazil",
          "New Zealand",
          "Venezuela",
          "Guatemala",
          "Mexico",
          "Bahrain",
          "Saint Kitts and Nevis",
          "Tunisia",
          "Jamaica",
          "Iraq",
          "Costa Rica",
          "Nepal",
          "Mozambique",
          "Paraguay",
          "Mauritania",
          "Grenada",
          "Kyrgyzstan",
          "United Arab Emirates",
          "Egypt",
          "Zambia",
          "Central African Republic",
          "Papua New Guinea",
          "Cuba",
          "Kuwait",
          "Uzbekistan",
          "Burma",
          "India",
          "Honduras",
          "Gabon",
          "Madagascar",
          "Burundi",
          "Fiji",
          "Mali",
          "Syria",
          "Algeria",
          "Comoros",
          "Morocco",
          "Oman",
          "Malawi",
          "Kenya",
          "Sudan",
          "Burkina Faso",
          "Rwanda",
          "Cameroon",
          "Philippines",
          "Gambia",
          "Nigeria",
          "Togo",
          "Bangladesh",
          "Nicaragua",
          "Haiti",
          "Bhutan",
          "Saudi Arabia",
          "Pakistan",
          "Ghana",
          "Equatorial Guinea",
          "Ethiopia",
          "Uganda",
          "South Sudan",
          "Japan",
          "Djibouti",
          "Cambodia",
          "Indonesia",
          "Angola",
          "Afghanistan",
          "Senegal",
          "Taiwan*",
          "Cote d'Ivoire",
          "Niger",
          "Liberia",
          "Benin",
          "Sierra Leone",
          "Guinea",
          "Guinea-Bissau",
          "Somalia",
          "Yemen",
          "Tanzania",
          "China",
          "Kiribati",
          "Samoa",
          "Vanuatu",
          "Tajikistan",
          "Solomon Islands",
          "Sao Tome and Principe",
          "Chad"
         ],
         "marker": {
          "color": [
           1206,
           1047,
           994,
           852,
           786,
           785,
           772,
           727,
           707,
           630,
           595,
           567,
           557,
           540,
           527,
           518,
           487,
           471,
           435,
           428,
           427,
           413,
           409,
           341,
           333,
           333,
           328,
           323,
           293,
           270,
           265,
           253,
           248,
           246,
           241,
           240,
           213,
           204,
           203,
           197,
           193,
           189,
           169,
           164,
           163,
           162,
           147,
           143,
           137,
           133,
           130,
           129,
           114,
           112,
           107,
           103,
           100,
           99,
           90,
           89,
           80,
           79,
           76,
           72,
           70,
           65,
           60,
           59,
           53,
           52,
           52,
           50,
           48,
           47,
           42,
           40,
           40,
           39,
           38,
           36,
           35,
           33,
           33,
           33,
           27,
           25,
           25,
           24,
           23,
           23,
           22,
           21,
           21,
           17,
           15,
           14,
           13,
           13,
           13,
           13,
           12,
           12,
           11,
           9,
           8,
           8,
           7,
           5,
           5,
           5,
           5,
           5,
           5,
           5,
           5,
           4,
           4,
           4,
           4,
           4,
           4,
           4,
           4,
           3,
           3,
           3,
           3,
           3,
           3,
           3,
           3,
           2,
           2,
           2,
           2,
           1,
           1,
           1,
           1,
           1,
           1,
           1,
           1,
           1,
           1,
           1,
           1,
           1,
           1,
           0,
           0,
           0,
           0,
           0,
           0,
           0,
           0,
           0,
           0,
           0,
           0,
           0,
           0,
           0,
           0,
           0,
           0,
           0,
           0,
           0,
           0,
           0,
           0,
           0,
           0,
           0,
           0,
           0,
           0,
           0,
           0
          ],
          "coloraxis": "coloraxis",
          "size": [
           1206,
           1047,
           994,
           852,
           786,
           785,
           772,
           727,
           707,
           630,
           595,
           567,
           557,
           540,
           527,
           518,
           487,
           471,
           435,
           428,
           427,
           413,
           409,
           341,
           333,
           333,
           328,
           323,
           293,
           270,
           265,
           253,
           248,
           246,
           241,
           240,
           213,
           204,
           203,
           197,
           193,
           189,
           169,
           164,
           163,
           162,
           147,
           143,
           137,
           133,
           130,
           129,
           114,
           112,
           107,
           103,
           100,
           99,
           90,
           89,
           80,
           79,
           76,
           72,
           70,
           65,
           60,
           59,
           53,
           52,
           52,
           50,
           48,
           47,
           42,
           40,
           40,
           39,
           38,
           36,
           35,
           33,
           33,
           33,
           27,
           25,
           25,
           24,
           23,
           23,
           22,
           21,
           21,
           17,
           15,
           14,
           13,
           13,
           13,
           13,
           12,
           12,
           11,
           9,
           8,
           8,
           7,
           5,
           5,
           5,
           5,
           5,
           5,
           5,
           5,
           4,
           4,
           4,
           4,
           4,
           4,
           4,
           4,
           3,
           3,
           3,
           3,
           3,
           3,
           3,
           3,
           2,
           2,
           2,
           2,
           1,
           1,
           1,
           1,
           1,
           1,
           1,
           1,
           1,
           1,
           1,
           1,
           1,
           1,
           0,
           0,
           0,
           0,
           0,
           0,
           0,
           0,
           0,
           0,
           0,
           0,
           0,
           0,
           0,
           0,
           0,
           0,
           0,
           0,
           0,
           0,
           0,
           0,
           0,
           0,
           0,
           0,
           0,
           0,
           0,
           0
          ],
          "sizemode": "area",
          "sizeref": 1.34,
          "symbol": "circle"
         },
         "mode": "markers",
         "name": "",
         "showlegend": false,
         "type": "scattergeo"
        }
       ],
       "layout": {
        "coloraxis": {
         "colorbar": {
          "title": {
           "text": "7_Days_Incidence_Rate"
          }
         },
         "colorscale": [
          [
           0,
           "rgb(230, 240, 240)"
          ],
          [
           0.09090909090909091,
           "rgb(191, 221, 229)"
          ],
          [
           0.18181818181818182,
           "rgb(156, 201, 226)"
          ],
          [
           0.2727272727272727,
           "rgb(129, 180, 227)"
          ],
          [
           0.36363636363636365,
           "rgb(115, 154, 228)"
          ],
          [
           0.45454545454545453,
           "rgb(117, 127, 221)"
          ],
          [
           0.5454545454545454,
           "rgb(120, 100, 202)"
          ],
          [
           0.6363636363636364,
           "rgb(119, 74, 175)"
          ],
          [
           0.7272727272727273,
           "rgb(113, 50, 141)"
          ],
          [
           0.8181818181818182,
           "rgb(100, 31, 104)"
          ],
          [
           0.9090909090909091,
           "rgb(80, 20, 66)"
          ],
          [
           1,
           "rgb(54, 14, 36)"
          ]
         ]
        },
        "geo": {
         "center": {},
         "domain": {
          "x": [
           0,
           1
          ],
          "y": [
           0,
           1
          ]
         },
         "projection": {
          "type": "natural earth"
         }
        },
        "legend": {
         "itemsizing": "constant",
         "tracegroupgap": 0
        },
        "margin": {
         "b": 50,
         "l": 0,
         "r": 0,
         "t": 50
        },
        "template": {
         "data": {
          "bar": [
           {
            "error_x": {
             "color": "#f2f5fa"
            },
            "error_y": {
             "color": "#f2f5fa"
            },
            "marker": {
             "line": {
              "color": "rgb(17,17,17)",
              "width": 0.5
             },
             "pattern": {
              "fillmode": "overlay",
              "size": 10,
              "solidity": 0.2
             }
            },
            "type": "bar"
           }
          ],
          "barpolar": [
           {
            "marker": {
             "line": {
              "color": "rgb(17,17,17)",
              "width": 0.5
             },
             "pattern": {
              "fillmode": "overlay",
              "size": 10,
              "solidity": 0.2
             }
            },
            "type": "barpolar"
           }
          ],
          "carpet": [
           {
            "aaxis": {
             "endlinecolor": "#A2B1C6",
             "gridcolor": "#506784",
             "linecolor": "#506784",
             "minorgridcolor": "#506784",
             "startlinecolor": "#A2B1C6"
            },
            "baxis": {
             "endlinecolor": "#A2B1C6",
             "gridcolor": "#506784",
             "linecolor": "#506784",
             "minorgridcolor": "#506784",
             "startlinecolor": "#A2B1C6"
            },
            "type": "carpet"
           }
          ],
          "choropleth": [
           {
            "colorbar": {
             "outlinewidth": 0,
             "ticks": ""
            },
            "type": "choropleth"
           }
          ],
          "contour": [
           {
            "colorbar": {
             "outlinewidth": 0,
             "ticks": ""
            },
            "colorscale": [
             [
              0,
              "#0d0887"
             ],
             [
              0.1111111111111111,
              "#46039f"
             ],
             [
              0.2222222222222222,
              "#7201a8"
             ],
             [
              0.3333333333333333,
              "#9c179e"
             ],
             [
              0.4444444444444444,
              "#bd3786"
             ],
             [
              0.5555555555555556,
              "#d8576b"
             ],
             [
              0.6666666666666666,
              "#ed7953"
             ],
             [
              0.7777777777777778,
              "#fb9f3a"
             ],
             [
              0.8888888888888888,
              "#fdca26"
             ],
             [
              1,
              "#f0f921"
             ]
            ],
            "type": "contour"
           }
          ],
          "contourcarpet": [
           {
            "colorbar": {
             "outlinewidth": 0,
             "ticks": ""
            },
            "type": "contourcarpet"
           }
          ],
          "heatmap": [
           {
            "colorbar": {
             "outlinewidth": 0,
             "ticks": ""
            },
            "colorscale": [
             [
              0,
              "#0d0887"
             ],
             [
              0.1111111111111111,
              "#46039f"
             ],
             [
              0.2222222222222222,
              "#7201a8"
             ],
             [
              0.3333333333333333,
              "#9c179e"
             ],
             [
              0.4444444444444444,
              "#bd3786"
             ],
             [
              0.5555555555555556,
              "#d8576b"
             ],
             [
              0.6666666666666666,
              "#ed7953"
             ],
             [
              0.7777777777777778,
              "#fb9f3a"
             ],
             [
              0.8888888888888888,
              "#fdca26"
             ],
             [
              1,
              "#f0f921"
             ]
            ],
            "type": "heatmap"
           }
          ],
          "heatmapgl": [
           {
            "colorbar": {
             "outlinewidth": 0,
             "ticks": ""
            },
            "colorscale": [
             [
              0,
              "#0d0887"
             ],
             [
              0.1111111111111111,
              "#46039f"
             ],
             [
              0.2222222222222222,
              "#7201a8"
             ],
             [
              0.3333333333333333,
              "#9c179e"
             ],
             [
              0.4444444444444444,
              "#bd3786"
             ],
             [
              0.5555555555555556,
              "#d8576b"
             ],
             [
              0.6666666666666666,
              "#ed7953"
             ],
             [
              0.7777777777777778,
              "#fb9f3a"
             ],
             [
              0.8888888888888888,
              "#fdca26"
             ],
             [
              1,
              "#f0f921"
             ]
            ],
            "type": "heatmapgl"
           }
          ],
          "histogram": [
           {
            "marker": {
             "pattern": {
              "fillmode": "overlay",
              "size": 10,
              "solidity": 0.2
             }
            },
            "type": "histogram"
           }
          ],
          "histogram2d": [
           {
            "colorbar": {
             "outlinewidth": 0,
             "ticks": ""
            },
            "colorscale": [
             [
              0,
              "#0d0887"
             ],
             [
              0.1111111111111111,
              "#46039f"
             ],
             [
              0.2222222222222222,
              "#7201a8"
             ],
             [
              0.3333333333333333,
              "#9c179e"
             ],
             [
              0.4444444444444444,
              "#bd3786"
             ],
             [
              0.5555555555555556,
              "#d8576b"
             ],
             [
              0.6666666666666666,
              "#ed7953"
             ],
             [
              0.7777777777777778,
              "#fb9f3a"
             ],
             [
              0.8888888888888888,
              "#fdca26"
             ],
             [
              1,
              "#f0f921"
             ]
            ],
            "type": "histogram2d"
           }
          ],
          "histogram2dcontour": [
           {
            "colorbar": {
             "outlinewidth": 0,
             "ticks": ""
            },
            "colorscale": [
             [
              0,
              "#0d0887"
             ],
             [
              0.1111111111111111,
              "#46039f"
             ],
             [
              0.2222222222222222,
              "#7201a8"
             ],
             [
              0.3333333333333333,
              "#9c179e"
             ],
             [
              0.4444444444444444,
              "#bd3786"
             ],
             [
              0.5555555555555556,
              "#d8576b"
             ],
             [
              0.6666666666666666,
              "#ed7953"
             ],
             [
              0.7777777777777778,
              "#fb9f3a"
             ],
             [
              0.8888888888888888,
              "#fdca26"
             ],
             [
              1,
              "#f0f921"
             ]
            ],
            "type": "histogram2dcontour"
           }
          ],
          "mesh3d": [
           {
            "colorbar": {
             "outlinewidth": 0,
             "ticks": ""
            },
            "type": "mesh3d"
           }
          ],
          "parcoords": [
           {
            "line": {
             "colorbar": {
              "outlinewidth": 0,
              "ticks": ""
             }
            },
            "type": "parcoords"
           }
          ],
          "pie": [
           {
            "automargin": true,
            "type": "pie"
           }
          ],
          "scatter": [
           {
            "marker": {
             "line": {
              "color": "#283442"
             }
            },
            "type": "scatter"
           }
          ],
          "scatter3d": [
           {
            "line": {
             "colorbar": {
              "outlinewidth": 0,
              "ticks": ""
             }
            },
            "marker": {
             "colorbar": {
              "outlinewidth": 0,
              "ticks": ""
             }
            },
            "type": "scatter3d"
           }
          ],
          "scattercarpet": [
           {
            "marker": {
             "colorbar": {
              "outlinewidth": 0,
              "ticks": ""
             }
            },
            "type": "scattercarpet"
           }
          ],
          "scattergeo": [
           {
            "marker": {
             "colorbar": {
              "outlinewidth": 0,
              "ticks": ""
             }
            },
            "type": "scattergeo"
           }
          ],
          "scattergl": [
           {
            "marker": {
             "line": {
              "color": "#283442"
             }
            },
            "type": "scattergl"
           }
          ],
          "scattermapbox": [
           {
            "marker": {
             "colorbar": {
              "outlinewidth": 0,
              "ticks": ""
             }
            },
            "type": "scattermapbox"
           }
          ],
          "scatterpolar": [
           {
            "marker": {
             "colorbar": {
              "outlinewidth": 0,
              "ticks": ""
             }
            },
            "type": "scatterpolar"
           }
          ],
          "scatterpolargl": [
           {
            "marker": {
             "colorbar": {
              "outlinewidth": 0,
              "ticks": ""
             }
            },
            "type": "scatterpolargl"
           }
          ],
          "scatterternary": [
           {
            "marker": {
             "colorbar": {
              "outlinewidth": 0,
              "ticks": ""
             }
            },
            "type": "scatterternary"
           }
          ],
          "surface": [
           {
            "colorbar": {
             "outlinewidth": 0,
             "ticks": ""
            },
            "colorscale": [
             [
              0,
              "#0d0887"
             ],
             [
              0.1111111111111111,
              "#46039f"
             ],
             [
              0.2222222222222222,
              "#7201a8"
             ],
             [
              0.3333333333333333,
              "#9c179e"
             ],
             [
              0.4444444444444444,
              "#bd3786"
             ],
             [
              0.5555555555555556,
              "#d8576b"
             ],
             [
              0.6666666666666666,
              "#ed7953"
             ],
             [
              0.7777777777777778,
              "#fb9f3a"
             ],
             [
              0.8888888888888888,
              "#fdca26"
             ],
             [
              1,
              "#f0f921"
             ]
            ],
            "type": "surface"
           }
          ],
          "table": [
           {
            "cells": {
             "fill": {
              "color": "#506784"
             },
             "line": {
              "color": "rgb(17,17,17)"
             }
            },
            "header": {
             "fill": {
              "color": "#2a3f5f"
             },
             "line": {
              "color": "rgb(17,17,17)"
             }
            },
            "type": "table"
           }
          ]
         },
         "layout": {
          "annotationdefaults": {
           "arrowcolor": "#f2f5fa",
           "arrowhead": 0,
           "arrowwidth": 1
          },
          "autotypenumbers": "strict",
          "coloraxis": {
           "colorbar": {
            "outlinewidth": 0,
            "ticks": ""
           }
          },
          "colorscale": {
           "diverging": [
            [
             0,
             "#8e0152"
            ],
            [
             0.1,
             "#c51b7d"
            ],
            [
             0.2,
             "#de77ae"
            ],
            [
             0.3,
             "#f1b6da"
            ],
            [
             0.4,
             "#fde0ef"
            ],
            [
             0.5,
             "#f7f7f7"
            ],
            [
             0.6,
             "#e6f5d0"
            ],
            [
             0.7,
             "#b8e186"
            ],
            [
             0.8,
             "#7fbc41"
            ],
            [
             0.9,
             "#4d9221"
            ],
            [
             1,
             "#276419"
            ]
           ],
           "sequential": [
            [
             0,
             "#0d0887"
            ],
            [
             0.1111111111111111,
             "#46039f"
            ],
            [
             0.2222222222222222,
             "#7201a8"
            ],
            [
             0.3333333333333333,
             "#9c179e"
            ],
            [
             0.4444444444444444,
             "#bd3786"
            ],
            [
             0.5555555555555556,
             "#d8576b"
            ],
            [
             0.6666666666666666,
             "#ed7953"
            ],
            [
             0.7777777777777778,
             "#fb9f3a"
            ],
            [
             0.8888888888888888,
             "#fdca26"
            ],
            [
             1,
             "#f0f921"
            ]
           ],
           "sequentialminus": [
            [
             0,
             "#0d0887"
            ],
            [
             0.1111111111111111,
             "#46039f"
            ],
            [
             0.2222222222222222,
             "#7201a8"
            ],
            [
             0.3333333333333333,
             "#9c179e"
            ],
            [
             0.4444444444444444,
             "#bd3786"
            ],
            [
             0.5555555555555556,
             "#d8576b"
            ],
            [
             0.6666666666666666,
             "#ed7953"
            ],
            [
             0.7777777777777778,
             "#fb9f3a"
            ],
            [
             0.8888888888888888,
             "#fdca26"
            ],
            [
             1,
             "#f0f921"
            ]
           ]
          },
          "colorway": [
           "#636efa",
           "#EF553B",
           "#00cc96",
           "#ab63fa",
           "#FFA15A",
           "#19d3f3",
           "#FF6692",
           "#B6E880",
           "#FF97FF",
           "#FECB52"
          ],
          "font": {
           "color": "#f2f5fa"
          },
          "geo": {
           "bgcolor": "rgb(17,17,17)",
           "lakecolor": "rgb(17,17,17)",
           "landcolor": "rgb(17,17,17)",
           "showlakes": true,
           "showland": true,
           "subunitcolor": "#506784"
          },
          "hoverlabel": {
           "align": "left"
          },
          "hovermode": "closest",
          "mapbox": {
           "style": "dark"
          },
          "paper_bgcolor": "rgb(17,17,17)",
          "plot_bgcolor": "rgb(17,17,17)",
          "polar": {
           "angularaxis": {
            "gridcolor": "#506784",
            "linecolor": "#506784",
            "ticks": ""
           },
           "bgcolor": "rgb(17,17,17)",
           "radialaxis": {
            "gridcolor": "#506784",
            "linecolor": "#506784",
            "ticks": ""
           }
          },
          "scene": {
           "xaxis": {
            "backgroundcolor": "rgb(17,17,17)",
            "gridcolor": "#506784",
            "gridwidth": 2,
            "linecolor": "#506784",
            "showbackground": true,
            "ticks": "",
            "zerolinecolor": "#C8D4E3"
           },
           "yaxis": {
            "backgroundcolor": "rgb(17,17,17)",
            "gridcolor": "#506784",
            "gridwidth": 2,
            "linecolor": "#506784",
            "showbackground": true,
            "ticks": "",
            "zerolinecolor": "#C8D4E3"
           },
           "zaxis": {
            "backgroundcolor": "rgb(17,17,17)",
            "gridcolor": "#506784",
            "gridwidth": 2,
            "linecolor": "#506784",
            "showbackground": true,
            "ticks": "",
            "zerolinecolor": "#C8D4E3"
           }
          },
          "shapedefaults": {
           "line": {
            "color": "#f2f5fa"
           }
          },
          "sliderdefaults": {
           "bgcolor": "#C8D4E3",
           "bordercolor": "rgb(17,17,17)",
           "borderwidth": 1,
           "tickwidth": 0
          },
          "ternary": {
           "aaxis": {
            "gridcolor": "#506784",
            "linecolor": "#506784",
            "ticks": ""
           },
           "baxis": {
            "gridcolor": "#506784",
            "linecolor": "#506784",
            "ticks": ""
           },
           "bgcolor": "rgb(17,17,17)",
           "caxis": {
            "gridcolor": "#506784",
            "linecolor": "#506784",
            "ticks": ""
           }
          },
          "title": {
           "x": 0.05
          },
          "updatemenudefaults": {
           "bgcolor": "#506784",
           "borderwidth": 0
          },
          "xaxis": {
           "automargin": true,
           "gridcolor": "#283442",
           "linecolor": "#506784",
           "ticks": "",
           "title": {
            "standoff": 15
           },
           "zerolinecolor": "#283442",
           "zerolinewidth": 2
          },
          "yaxis": {
           "automargin": true,
           "gridcolor": "#283442",
           "linecolor": "#506784",
           "ticks": "",
           "title": {
            "standoff": 15
           },
           "zerolinecolor": "#283442",
           "zerolinewidth": 2
          }
         }
        },
        "title": {
         "font": {
          "size": 28
         },
         "text": "7 Days COVID-19 Incidence Rate By Country",
         "x": 0.424,
         "xanchor": "center",
         "y": 0.97,
         "yanchor": "top"
        }
       }
      },
      "text/html": [
       "<div>                            <div id=\"7fe77edb-9937-4886-bbd1-46565e5f1f63\" class=\"plotly-graph-div\" style=\"height:525px; width:100%;\"></div>            <script type=\"text/javascript\">                require([\"plotly\"], function(Plotly) {                    window.PLOTLYENV=window.PLOTLYENV || {};                                    if (document.getElementById(\"7fe77edb-9937-4886-bbd1-46565e5f1f63\")) {                    Plotly.newPlot(                        \"7fe77edb-9937-4886-bbd1-46565e5f1f63\",                        [{\"customdata\":[[5401,67,38137,74,\"Liechtenstein\"],[19440,133,77265,0,\"Andorra\"],[1289252,15415,5459643,2916,\"Slovakia\"],[2338402,34551,10708982,4113,\"Czechia\"],[568477,3036,5837213,7799,\"Denmark\"],[1959193,27631,11492641,29421,\"Belgium\"],[1135363,11793,8654618,23440,\"Switzerland\"],[6464,94,33938,0,\"San Marino\"],[2936170,20596,17134873,13783,\"Netherlands\"],[628306,5788,4937796,4683,\"Ireland\"],[890813,12777,3989175,1527,\"Georgia\"],[317880,1136,5421242,0,\"Norway\"],[654655,11666,4105268,453,\"Croatia\"],[4114,36,39244,21,\"Monaco\"],[10935244,146935,67886004,53953,\"United Kingdom\"],[8374944,121659,65249843,11465,\"France\"],[53509,1252,1160164,866,\"Eswatini\"],[440633,5425,2078932,681,\"Slovenia\"],[6581433,106231,83155031,35423,\"Germany\"],[1198939,36884,9660350,16017,\"Hungary\"],[491953,6989,2722291,831,\"Lithuania\"],[94300,895,625976,871,\"Luxembourg\"],[3839625,88508,37846605,11377,\"Poland\"],[1006706,19345,10423056,3829,\"Greece\"],[80607,2407,1399491,0,\"Trinidad and Tobago\"],[141566,611,1207361,715,\"Cyprus\"],[1015289,12024,10203140,5256,\"Jordan\"],[1232204,13218,9006400,4170,\"Austria\"],[5339992,88484,46754783,49802,\"Spain\"],[1196602,18673,10196707,2314,\"Portugal\"],[19547,36,341250,388,\"Iceland\"],[50117198,798710,329466283,195793,\"US\"],[228596,1865,1326539,317,\"Estonia\"],[262215,4376,1886202,271,\"Latvia\"],[23901,129,98340,95,\"Seychelles\"],[3180785,90148,59308690,13288,\"South Africa\"],[26814,253,287371,74,\"Barbados\"],[6233,42,71991,0,\"Dominica\"],[159901,2357,628062,113,\"Montenegro\"],[5238221,134929,60461828,12704,\"Italy\"],[205357,1442,5540718,4306,\"Finland\"],[167140,4738,14862927,0,\"Zimbabwe\"],[1229217,15191,10099270,0,\"Sweden\"],[690841,8860,6825442,787,\"Lebanon\"],[9060945,79322,84339067,18796,\"Turkey\"],[93246,258,540542,127,\"Maldives\"],[3738390,96910,43733759,4423,\"Ukraine\"],[9871229,284909,145934460,29208,\"Russia\"],[40624,471,441539,78,\"Malta\"],[90458,250,7275556,1138,\"Laos\"],[714688,29536,6948445,0,\"Bulgaria\"],[133090,3578,2540916,241,\"Namibia\"],[1275214,12209,8737370,1167,\"Serbia\"],[675734,5286,9449321,1011,\"Belarus\"],[1428428,28081,97338583,15377,\"Vietnam\"],[281903,12999,3280815,923,\"Bosnia and Herzegovina\"],[219490,7740,2083380,82,\"North Macedonia\"],[2695143,30908,32365998,3504,\"Malaysia\"],[528652,4387,51269183,5564,\"Korea, South\"],[5722,77,110947,0,\"Saint Vincent and the Grenadines\"],[370003,9393,4033963,344,\"Moldova\"],[604998,8104,10139175,518,\"Azerbaijan\"],[1849762,29994,38246108,8090,\"Canada\"],[553108,19317,11673029,0,\"Bolivia\"],[203925,3140,2877800,138,\"Albania\"],[273701,798,5850343,339,\"Singapore\"],[342604,7819,2963234,66,\"Armenia\"],[23102,664,2142252,0,\"Lesotho\"],[385447,2036,3278292,0,\"Mongolia\"],[1784165,38716,19116209,1361,\"Chile\"],[31033,586,397621,0,\"Belize\"],[1351015,8223,8655541,800,\"Israel\"],[378816,5561,6871287,711,\"Libya\"],[232738,2113,25459700,1970,\"Australia\"],[38554,1020,786559,0,\"Guyana\"],[402509,6145,3473727,0,\"Uruguay\"],[480781,7386,4314768,0,\"Panama\"],[245523,613,2881060,169,\"Qatar\"],[22651,240,1271767,190,\"Mauritius\"],[15362,98,437483,14,\"Brunei\"],[1793643,57741,19237682,494,\"Romania\"],[5358455,116771,45195777,0,\"Argentina\"],[2172044,21194,69799978,3398,\"Thailand\"],[2254373,201770,32971846,0,\"Peru\"],[13098,283,183629,12,\"Saint Lucia\"],[5095821,129163,50882884,2287,\"Colombia\"],[51202,1177,586634,0,\"Suriname\"],[573649,14641,21413250,747,\"Sri Lanka\"],[1063809,18049,18776707,399,\"Kazakhstan\"],[6157519,130764,83992953,2706,\"Iran\"],[196090,2421,2351625,0,\"Botswana\"],[533190,33558,17643060,0,\"Ecuador\"],[121200,3797,6486201,73,\"El Salvador\"],[22907,708,393248,26,\"Bahamas\"],[410412,4219,10847904,147,\"Dominican Republic\"],[4162,117,97928,0,\"Antigua and Barbuda\"],[22177059,616457,212559409,0,\"Brazil\"],[13069,47,4822233,81,\"New Zealand\"],[438683,5239,28435943,0,\"Venezuela\"],[622237,16048,17915567,8,\"Guatemala\"],[3918216,296672,127792286,855,\"Mexico\"],[278065,1394,1701583,0,\"Bahrain\"],[2796,28,53192,0,\"Saint Kitts and Nevis\"],[719586,25432,11818618,0,\"Tunisia\"],[91802,2428,2961161,37,\"Jamaica\"],[2088359,23994,40222503,522,\"Iraq\"],[567995,7332,5094114,0,\"Costa Rica\"],[824535,11557,29136808,313,\"Nepal\"],[153787,1945,31255435,113,\"Mozambique\"],[463828,16513,7132530,178,\"Paraguay\"],[39834,850,4649660,28,\"Mauritania\"],[5915,200,112519,0,\"Grenada\"],[183991,2770,6524191,26,\"Kyrgyzstan\"],[742894,2151,9890400,92,\"United Arab Emirates\"],[369198,21060,102334403,0,\"Egypt\"],[211234,3670,18383956,157,\"Zambia\"],[11961,101,4829764,49,\"Central African Republic\"],[35937,586,8947027,10,\"Papua New Guinea\"],[963693,8313,11326616,65,\"Cuba\"],[413711,2466,4270563,0,\"Kuwait\"],[195958,1440,33469199,211,\"Uzbekistan\"],[526911,19188,54409794,250,\"Burma\"],[34703644,475888,1380004385,5784,\"India\"],[378615,10423,9904608,192,\"Honduras\"],[37591,282,2225728,0,\"Gabon\"],[45794,980,27691019,0,\"Madagascar\"],[20886,38,11890781,220,\"Burundi\"],[52593,697,896444,16,\"Fiji\"],[18627,630,20250834,36,\"Mali\"],[49272,2814,17500657,0,\"Syria\"],[213058,6151,43851043,210,\"Algeria\"],[4569,151,869595,2,\"Comoros\"],[951544,14798,36910558,62,\"Morocco\"],[304724,4113,5106622,10,\"Oman\"],[62380,2308,19129955,115,\"Malawi\"],[256484,5349,53771300,149,\"Kenya\"],[44877,3244,43849269,348,\"Sudan\"],[16334,290,20903278,0,\"Burkina Faso\"],[100634,1344,12952209,0,\"Rwanda\"],[107549,1823,26545864,0,\"Cameroon\"],[2836803,50341,109581085,211,\"Philippines\"],[10034,342,2416664,0,\"Gambia\"],[217481,2981,206139587,0,\"Nigeria\"],[26416,243,8278737,16,\"Togo\"],[1579710,28031,164689383,385,\"Bangladesh\"],[17328,214,6624554,0,\"Nicaragua\"],[25758,761,11402533,14,\"Haiti\"],[2649,3,771612,0,\"Bhutan\"],[550304,8855,34813867,64,\"Saudi Arabia\"],[1289543,28839,220892331,250,\"Pakistan\"],[131547,1243,31072945,0,\"Ghana\"],[13612,175,1402985,0,\"Equatorial Guinea\"],[373240,6833,114963583,125,\"Ethiopia\"],[128100,3269,45741000,127,\"Uganda\"],[12904,133,11193729,31,\"South Sudan\"],[1728090,18370,126476458,67,\"Japan\"],[13514,189,988002,0,\"Djibouti\"],[120370,2989,16718971,15,\"Cambodia\"],[4259249,143948,273523621,106,\"Indonesia\"],[65404,1737,32866268,0,\"Angola\"],[157648,7328,38928341,-210,\"Afghanistan\"],[74092,1886,16743930,6,\"Senegal\"],[16742,848,23816775,5,\"Taiwan*\"],[61905,706,26378275,0,\"Cote d'Ivoire\"],[7163,269,24206636,9,\"Niger\"],[5844,287,5057677,9,\"Liberia\"],[24897,161,12123198,0,\"Benin\"],[6422,121,7976985,1,\"Sierra Leone\"],[30798,388,13132792,0,\"Guinea\"],[6448,149,1967998,0,\"Guinea-Bissau\"],[23074,1333,15893219,0,\"Somalia\"],[10072,1972,29825968,3,\"Yemen\"],[26309,734,59734213,0,\"Tanzania\"],[112423,4849,1411778724,78,\"China\"],[2,0,117606,0,\"Kiribati\"],[3,0,196130,0,\"Samoa\"],[6,1,292680,0,\"Vanuatu\"],[17493,125,9537642,0,\"Tajikistan\"],[20,0,652858,0,\"Solomon Islands\"],[3733,57,219161,0,\"Sao Tome and Principe\"],[5703,181,16425859,0,\"Chad\"]],\"geo\":\"geo\",\"hovertemplate\":\"<b>%{hovertext}</b><br><br>7_Days_Incidence_Rate=%{marker.color}<br>Confirmed=%{customdata[0]:,}<br>Deaths=%{customdata[1]:,}<br>Population=%{customdata[2]:,}<br>Yesterday_Confirmed=%{customdata[3]:,}<extra></extra>\",\"hovertext\":[\"Liechtenstein\",\"Andorra\",\"Slovakia\",\"Czechia\",\"Denmark\",\"Belgium\",\"Switzerland\",\"San Marino\",\"Netherlands\",\"Ireland\",\"Georgia\",\"Norway\",\"Croatia\",\"Monaco\",\"United Kingdom\",\"France\",\"Eswatini\",\"Slovenia\",\"Germany\",\"Hungary\",\"Lithuania\",\"Luxembourg\",\"Poland\",\"Greece\",\"Trinidad and Tobago\",\"Cyprus\",\"Jordan\",\"Austria\",\"Spain\",\"Portugal\",\"Iceland\",\"US\",\"Estonia\",\"Latvia\",\"Seychelles\",\"South Africa\",\"Barbados\",\"Dominica\",\"Montenegro\",\"Italy\",\"Finland\",\"Zimbabwe\",\"Sweden\",\"Lebanon\",\"Turkey\",\"Maldives\",\"Ukraine\",\"Russia\",\"Malta\",\"Laos\",\"Bulgaria\",\"Namibia\",\"Serbia\",\"Belarus\",\"Vietnam\",\"Bosnia and Herzegovina\",\"North Macedonia\",\"Malaysia\",\"Korea, South\",\"Saint Vincent and the Grenadines\",\"Moldova\",\"Azerbaijan\",\"Canada\",\"Bolivia\",\"Albania\",\"Singapore\",\"Armenia\",\"Lesotho\",\"Mongolia\",\"Chile\",\"Belize\",\"Israel\",\"Libya\",\"Australia\",\"Guyana\",\"Uruguay\",\"Panama\",\"Qatar\",\"Mauritius\",\"Brunei\",\"Romania\",\"Argentina\",\"Thailand\",\"Peru\",\"Saint Lucia\",\"Colombia\",\"Suriname\",\"Sri Lanka\",\"Kazakhstan\",\"Iran\",\"Botswana\",\"Ecuador\",\"El Salvador\",\"Bahamas\",\"Dominican Republic\",\"Antigua and Barbuda\",\"Brazil\",\"New Zealand\",\"Venezuela\",\"Guatemala\",\"Mexico\",\"Bahrain\",\"Saint Kitts and Nevis\",\"Tunisia\",\"Jamaica\",\"Iraq\",\"Costa Rica\",\"Nepal\",\"Mozambique\",\"Paraguay\",\"Mauritania\",\"Grenada\",\"Kyrgyzstan\",\"United Arab Emirates\",\"Egypt\",\"Zambia\",\"Central African Republic\",\"Papua New Guinea\",\"Cuba\",\"Kuwait\",\"Uzbekistan\",\"Burma\",\"India\",\"Honduras\",\"Gabon\",\"Madagascar\",\"Burundi\",\"Fiji\",\"Mali\",\"Syria\",\"Algeria\",\"Comoros\",\"Morocco\",\"Oman\",\"Malawi\",\"Kenya\",\"Sudan\",\"Burkina Faso\",\"Rwanda\",\"Cameroon\",\"Philippines\",\"Gambia\",\"Nigeria\",\"Togo\",\"Bangladesh\",\"Nicaragua\",\"Haiti\",\"Bhutan\",\"Saudi Arabia\",\"Pakistan\",\"Ghana\",\"Equatorial Guinea\",\"Ethiopia\",\"Uganda\",\"South Sudan\",\"Japan\",\"Djibouti\",\"Cambodia\",\"Indonesia\",\"Angola\",\"Afghanistan\",\"Senegal\",\"Taiwan*\",\"Cote d'Ivoire\",\"Niger\",\"Liberia\",\"Benin\",\"Sierra Leone\",\"Guinea\",\"Guinea-Bissau\",\"Somalia\",\"Yemen\",\"Tanzania\",\"China\",\"Kiribati\",\"Samoa\",\"Vanuatu\",\"Tajikistan\",\"Solomon Islands\",\"Sao Tome and Principe\",\"Chad\"],\"legendgroup\":\"\",\"locationmode\":\"country names\",\"locations\":[\"Liechtenstein\",\"Andorra\",\"Slovakia\",\"Czechia\",\"Denmark\",\"Belgium\",\"Switzerland\",\"San Marino\",\"Netherlands\",\"Ireland\",\"Georgia\",\"Norway\",\"Croatia\",\"Monaco\",\"United Kingdom\",\"France\",\"Eswatini\",\"Slovenia\",\"Germany\",\"Hungary\",\"Lithuania\",\"Luxembourg\",\"Poland\",\"Greece\",\"Trinidad and Tobago\",\"Cyprus\",\"Jordan\",\"Austria\",\"Spain\",\"Portugal\",\"Iceland\",\"US\",\"Estonia\",\"Latvia\",\"Seychelles\",\"South Africa\",\"Barbados\",\"Dominica\",\"Montenegro\",\"Italy\",\"Finland\",\"Zimbabwe\",\"Sweden\",\"Lebanon\",\"Turkey\",\"Maldives\",\"Ukraine\",\"Russia\",\"Malta\",\"Laos\",\"Bulgaria\",\"Namibia\",\"Serbia\",\"Belarus\",\"Vietnam\",\"Bosnia and Herzegovina\",\"North Macedonia\",\"Malaysia\",\"Korea, South\",\"Saint Vincent and the Grenadines\",\"Moldova\",\"Azerbaijan\",\"Canada\",\"Bolivia\",\"Albania\",\"Singapore\",\"Armenia\",\"Lesotho\",\"Mongolia\",\"Chile\",\"Belize\",\"Israel\",\"Libya\",\"Australia\",\"Guyana\",\"Uruguay\",\"Panama\",\"Qatar\",\"Mauritius\",\"Brunei\",\"Romania\",\"Argentina\",\"Thailand\",\"Peru\",\"Saint Lucia\",\"Colombia\",\"Suriname\",\"Sri Lanka\",\"Kazakhstan\",\"Iran\",\"Botswana\",\"Ecuador\",\"El Salvador\",\"Bahamas\",\"Dominican Republic\",\"Antigua and Barbuda\",\"Brazil\",\"New Zealand\",\"Venezuela\",\"Guatemala\",\"Mexico\",\"Bahrain\",\"Saint Kitts and Nevis\",\"Tunisia\",\"Jamaica\",\"Iraq\",\"Costa Rica\",\"Nepal\",\"Mozambique\",\"Paraguay\",\"Mauritania\",\"Grenada\",\"Kyrgyzstan\",\"United Arab Emirates\",\"Egypt\",\"Zambia\",\"Central African Republic\",\"Papua New Guinea\",\"Cuba\",\"Kuwait\",\"Uzbekistan\",\"Burma\",\"India\",\"Honduras\",\"Gabon\",\"Madagascar\",\"Burundi\",\"Fiji\",\"Mali\",\"Syria\",\"Algeria\",\"Comoros\",\"Morocco\",\"Oman\",\"Malawi\",\"Kenya\",\"Sudan\",\"Burkina Faso\",\"Rwanda\",\"Cameroon\",\"Philippines\",\"Gambia\",\"Nigeria\",\"Togo\",\"Bangladesh\",\"Nicaragua\",\"Haiti\",\"Bhutan\",\"Saudi Arabia\",\"Pakistan\",\"Ghana\",\"Equatorial Guinea\",\"Ethiopia\",\"Uganda\",\"South Sudan\",\"Japan\",\"Djibouti\",\"Cambodia\",\"Indonesia\",\"Angola\",\"Afghanistan\",\"Senegal\",\"Taiwan*\",\"Cote d'Ivoire\",\"Niger\",\"Liberia\",\"Benin\",\"Sierra Leone\",\"Guinea\",\"Guinea-Bissau\",\"Somalia\",\"Yemen\",\"Tanzania\",\"China\",\"Kiribati\",\"Samoa\",\"Vanuatu\",\"Tajikistan\",\"Solomon Islands\",\"Sao Tome and Principe\",\"Chad\"],\"marker\":{\"color\":[1206,1047,994,852,786,785,772,727,707,630,595,567,557,540,527,518,487,471,435,428,427,413,409,341,333,333,328,323,293,270,265,253,248,246,241,240,213,204,203,197,193,189,169,164,163,162,147,143,137,133,130,129,114,112,107,103,100,99,90,89,80,79,76,72,70,65,60,59,53,52,52,50,48,47,42,40,40,39,38,36,35,33,33,33,27,25,25,24,23,23,22,21,21,17,15,14,13,13,13,13,12,12,11,9,8,8,7,5,5,5,5,5,5,5,5,4,4,4,4,4,4,4,4,3,3,3,3,3,3,3,3,2,2,2,2,1,1,1,1,1,1,1,1,1,1,1,1,1,1,0,0,0,0,0,0,0,0,0,0,0,0,0,0,0,0,0,0,0,0,0,0,0,0,0,0,0,0,0,0,0,0],\"coloraxis\":\"coloraxis\",\"size\":[1206,1047,994,852,786,785,772,727,707,630,595,567,557,540,527,518,487,471,435,428,427,413,409,341,333,333,328,323,293,270,265,253,248,246,241,240,213,204,203,197,193,189,169,164,163,162,147,143,137,133,130,129,114,112,107,103,100,99,90,89,80,79,76,72,70,65,60,59,53,52,52,50,48,47,42,40,40,39,38,36,35,33,33,33,27,25,25,24,23,23,22,21,21,17,15,14,13,13,13,13,12,12,11,9,8,8,7,5,5,5,5,5,5,5,5,4,4,4,4,4,4,4,4,3,3,3,3,3,3,3,3,2,2,2,2,1,1,1,1,1,1,1,1,1,1,1,1,1,1,0,0,0,0,0,0,0,0,0,0,0,0,0,0,0,0,0,0,0,0,0,0,0,0,0,0,0,0,0,0,0,0],\"sizemode\":\"area\",\"sizeref\":1.34,\"symbol\":\"circle\"},\"mode\":\"markers\",\"name\":\"\",\"showlegend\":false,\"type\":\"scattergeo\"}],                        {\"template\":{\"data\":{\"barpolar\":[{\"marker\":{\"line\":{\"color\":\"rgb(17,17,17)\",\"width\":0.5},\"pattern\":{\"fillmode\":\"overlay\",\"size\":10,\"solidity\":0.2}},\"type\":\"barpolar\"}],\"bar\":[{\"error_x\":{\"color\":\"#f2f5fa\"},\"error_y\":{\"color\":\"#f2f5fa\"},\"marker\":{\"line\":{\"color\":\"rgb(17,17,17)\",\"width\":0.5},\"pattern\":{\"fillmode\":\"overlay\",\"size\":10,\"solidity\":0.2}},\"type\":\"bar\"}],\"carpet\":[{\"aaxis\":{\"endlinecolor\":\"#A2B1C6\",\"gridcolor\":\"#506784\",\"linecolor\":\"#506784\",\"minorgridcolor\":\"#506784\",\"startlinecolor\":\"#A2B1C6\"},\"baxis\":{\"endlinecolor\":\"#A2B1C6\",\"gridcolor\":\"#506784\",\"linecolor\":\"#506784\",\"minorgridcolor\":\"#506784\",\"startlinecolor\":\"#A2B1C6\"},\"type\":\"carpet\"}],\"choropleth\":[{\"colorbar\":{\"outlinewidth\":0,\"ticks\":\"\"},\"type\":\"choropleth\"}],\"contourcarpet\":[{\"colorbar\":{\"outlinewidth\":0,\"ticks\":\"\"},\"type\":\"contourcarpet\"}],\"contour\":[{\"colorbar\":{\"outlinewidth\":0,\"ticks\":\"\"},\"colorscale\":[[0.0,\"#0d0887\"],[0.1111111111111111,\"#46039f\"],[0.2222222222222222,\"#7201a8\"],[0.3333333333333333,\"#9c179e\"],[0.4444444444444444,\"#bd3786\"],[0.5555555555555556,\"#d8576b\"],[0.6666666666666666,\"#ed7953\"],[0.7777777777777778,\"#fb9f3a\"],[0.8888888888888888,\"#fdca26\"],[1.0,\"#f0f921\"]],\"type\":\"contour\"}],\"heatmapgl\":[{\"colorbar\":{\"outlinewidth\":0,\"ticks\":\"\"},\"colorscale\":[[0.0,\"#0d0887\"],[0.1111111111111111,\"#46039f\"],[0.2222222222222222,\"#7201a8\"],[0.3333333333333333,\"#9c179e\"],[0.4444444444444444,\"#bd3786\"],[0.5555555555555556,\"#d8576b\"],[0.6666666666666666,\"#ed7953\"],[0.7777777777777778,\"#fb9f3a\"],[0.8888888888888888,\"#fdca26\"],[1.0,\"#f0f921\"]],\"type\":\"heatmapgl\"}],\"heatmap\":[{\"colorbar\":{\"outlinewidth\":0,\"ticks\":\"\"},\"colorscale\":[[0.0,\"#0d0887\"],[0.1111111111111111,\"#46039f\"],[0.2222222222222222,\"#7201a8\"],[0.3333333333333333,\"#9c179e\"],[0.4444444444444444,\"#bd3786\"],[0.5555555555555556,\"#d8576b\"],[0.6666666666666666,\"#ed7953\"],[0.7777777777777778,\"#fb9f3a\"],[0.8888888888888888,\"#fdca26\"],[1.0,\"#f0f921\"]],\"type\":\"heatmap\"}],\"histogram2dcontour\":[{\"colorbar\":{\"outlinewidth\":0,\"ticks\":\"\"},\"colorscale\":[[0.0,\"#0d0887\"],[0.1111111111111111,\"#46039f\"],[0.2222222222222222,\"#7201a8\"],[0.3333333333333333,\"#9c179e\"],[0.4444444444444444,\"#bd3786\"],[0.5555555555555556,\"#d8576b\"],[0.6666666666666666,\"#ed7953\"],[0.7777777777777778,\"#fb9f3a\"],[0.8888888888888888,\"#fdca26\"],[1.0,\"#f0f921\"]],\"type\":\"histogram2dcontour\"}],\"histogram2d\":[{\"colorbar\":{\"outlinewidth\":0,\"ticks\":\"\"},\"colorscale\":[[0.0,\"#0d0887\"],[0.1111111111111111,\"#46039f\"],[0.2222222222222222,\"#7201a8\"],[0.3333333333333333,\"#9c179e\"],[0.4444444444444444,\"#bd3786\"],[0.5555555555555556,\"#d8576b\"],[0.6666666666666666,\"#ed7953\"],[0.7777777777777778,\"#fb9f3a\"],[0.8888888888888888,\"#fdca26\"],[1.0,\"#f0f921\"]],\"type\":\"histogram2d\"}],\"histogram\":[{\"marker\":{\"pattern\":{\"fillmode\":\"overlay\",\"size\":10,\"solidity\":0.2}},\"type\":\"histogram\"}],\"mesh3d\":[{\"colorbar\":{\"outlinewidth\":0,\"ticks\":\"\"},\"type\":\"mesh3d\"}],\"parcoords\":[{\"line\":{\"colorbar\":{\"outlinewidth\":0,\"ticks\":\"\"}},\"type\":\"parcoords\"}],\"pie\":[{\"automargin\":true,\"type\":\"pie\"}],\"scatter3d\":[{\"line\":{\"colorbar\":{\"outlinewidth\":0,\"ticks\":\"\"}},\"marker\":{\"colorbar\":{\"outlinewidth\":0,\"ticks\":\"\"}},\"type\":\"scatter3d\"}],\"scattercarpet\":[{\"marker\":{\"colorbar\":{\"outlinewidth\":0,\"ticks\":\"\"}},\"type\":\"scattercarpet\"}],\"scattergeo\":[{\"marker\":{\"colorbar\":{\"outlinewidth\":0,\"ticks\":\"\"}},\"type\":\"scattergeo\"}],\"scattergl\":[{\"marker\":{\"line\":{\"color\":\"#283442\"}},\"type\":\"scattergl\"}],\"scattermapbox\":[{\"marker\":{\"colorbar\":{\"outlinewidth\":0,\"ticks\":\"\"}},\"type\":\"scattermapbox\"}],\"scatterpolargl\":[{\"marker\":{\"colorbar\":{\"outlinewidth\":0,\"ticks\":\"\"}},\"type\":\"scatterpolargl\"}],\"scatterpolar\":[{\"marker\":{\"colorbar\":{\"outlinewidth\":0,\"ticks\":\"\"}},\"type\":\"scatterpolar\"}],\"scatter\":[{\"marker\":{\"line\":{\"color\":\"#283442\"}},\"type\":\"scatter\"}],\"scatterternary\":[{\"marker\":{\"colorbar\":{\"outlinewidth\":0,\"ticks\":\"\"}},\"type\":\"scatterternary\"}],\"surface\":[{\"colorbar\":{\"outlinewidth\":0,\"ticks\":\"\"},\"colorscale\":[[0.0,\"#0d0887\"],[0.1111111111111111,\"#46039f\"],[0.2222222222222222,\"#7201a8\"],[0.3333333333333333,\"#9c179e\"],[0.4444444444444444,\"#bd3786\"],[0.5555555555555556,\"#d8576b\"],[0.6666666666666666,\"#ed7953\"],[0.7777777777777778,\"#fb9f3a\"],[0.8888888888888888,\"#fdca26\"],[1.0,\"#f0f921\"]],\"type\":\"surface\"}],\"table\":[{\"cells\":{\"fill\":{\"color\":\"#506784\"},\"line\":{\"color\":\"rgb(17,17,17)\"}},\"header\":{\"fill\":{\"color\":\"#2a3f5f\"},\"line\":{\"color\":\"rgb(17,17,17)\"}},\"type\":\"table\"}]},\"layout\":{\"annotationdefaults\":{\"arrowcolor\":\"#f2f5fa\",\"arrowhead\":0,\"arrowwidth\":1},\"autotypenumbers\":\"strict\",\"coloraxis\":{\"colorbar\":{\"outlinewidth\":0,\"ticks\":\"\"}},\"colorscale\":{\"diverging\":[[0,\"#8e0152\"],[0.1,\"#c51b7d\"],[0.2,\"#de77ae\"],[0.3,\"#f1b6da\"],[0.4,\"#fde0ef\"],[0.5,\"#f7f7f7\"],[0.6,\"#e6f5d0\"],[0.7,\"#b8e186\"],[0.8,\"#7fbc41\"],[0.9,\"#4d9221\"],[1,\"#276419\"]],\"sequential\":[[0.0,\"#0d0887\"],[0.1111111111111111,\"#46039f\"],[0.2222222222222222,\"#7201a8\"],[0.3333333333333333,\"#9c179e\"],[0.4444444444444444,\"#bd3786\"],[0.5555555555555556,\"#d8576b\"],[0.6666666666666666,\"#ed7953\"],[0.7777777777777778,\"#fb9f3a\"],[0.8888888888888888,\"#fdca26\"],[1.0,\"#f0f921\"]],\"sequentialminus\":[[0.0,\"#0d0887\"],[0.1111111111111111,\"#46039f\"],[0.2222222222222222,\"#7201a8\"],[0.3333333333333333,\"#9c179e\"],[0.4444444444444444,\"#bd3786\"],[0.5555555555555556,\"#d8576b\"],[0.6666666666666666,\"#ed7953\"],[0.7777777777777778,\"#fb9f3a\"],[0.8888888888888888,\"#fdca26\"],[1.0,\"#f0f921\"]]},\"colorway\":[\"#636efa\",\"#EF553B\",\"#00cc96\",\"#ab63fa\",\"#FFA15A\",\"#19d3f3\",\"#FF6692\",\"#B6E880\",\"#FF97FF\",\"#FECB52\"],\"font\":{\"color\":\"#f2f5fa\"},\"geo\":{\"bgcolor\":\"rgb(17,17,17)\",\"lakecolor\":\"rgb(17,17,17)\",\"landcolor\":\"rgb(17,17,17)\",\"showlakes\":true,\"showland\":true,\"subunitcolor\":\"#506784\"},\"hoverlabel\":{\"align\":\"left\"},\"hovermode\":\"closest\",\"mapbox\":{\"style\":\"dark\"},\"paper_bgcolor\":\"rgb(17,17,17)\",\"plot_bgcolor\":\"rgb(17,17,17)\",\"polar\":{\"angularaxis\":{\"gridcolor\":\"#506784\",\"linecolor\":\"#506784\",\"ticks\":\"\"},\"bgcolor\":\"rgb(17,17,17)\",\"radialaxis\":{\"gridcolor\":\"#506784\",\"linecolor\":\"#506784\",\"ticks\":\"\"}},\"scene\":{\"xaxis\":{\"backgroundcolor\":\"rgb(17,17,17)\",\"gridcolor\":\"#506784\",\"gridwidth\":2,\"linecolor\":\"#506784\",\"showbackground\":true,\"ticks\":\"\",\"zerolinecolor\":\"#C8D4E3\"},\"yaxis\":{\"backgroundcolor\":\"rgb(17,17,17)\",\"gridcolor\":\"#506784\",\"gridwidth\":2,\"linecolor\":\"#506784\",\"showbackground\":true,\"ticks\":\"\",\"zerolinecolor\":\"#C8D4E3\"},\"zaxis\":{\"backgroundcolor\":\"rgb(17,17,17)\",\"gridcolor\":\"#506784\",\"gridwidth\":2,\"linecolor\":\"#506784\",\"showbackground\":true,\"ticks\":\"\",\"zerolinecolor\":\"#C8D4E3\"}},\"shapedefaults\":{\"line\":{\"color\":\"#f2f5fa\"}},\"sliderdefaults\":{\"bgcolor\":\"#C8D4E3\",\"bordercolor\":\"rgb(17,17,17)\",\"borderwidth\":1,\"tickwidth\":0},\"ternary\":{\"aaxis\":{\"gridcolor\":\"#506784\",\"linecolor\":\"#506784\",\"ticks\":\"\"},\"baxis\":{\"gridcolor\":\"#506784\",\"linecolor\":\"#506784\",\"ticks\":\"\"},\"bgcolor\":\"rgb(17,17,17)\",\"caxis\":{\"gridcolor\":\"#506784\",\"linecolor\":\"#506784\",\"ticks\":\"\"}},\"title\":{\"x\":0.05},\"updatemenudefaults\":{\"bgcolor\":\"#506784\",\"borderwidth\":0},\"xaxis\":{\"automargin\":true,\"gridcolor\":\"#283442\",\"linecolor\":\"#506784\",\"ticks\":\"\",\"title\":{\"standoff\":15},\"zerolinecolor\":\"#283442\",\"zerolinewidth\":2},\"yaxis\":{\"automargin\":true,\"gridcolor\":\"#283442\",\"linecolor\":\"#506784\",\"ticks\":\"\",\"title\":{\"standoff\":15},\"zerolinecolor\":\"#283442\",\"zerolinewidth\":2}}},\"geo\":{\"domain\":{\"x\":[0.0,1.0],\"y\":[0.0,1.0]},\"projection\":{\"type\":\"natural earth\"},\"center\":{}},\"coloraxis\":{\"colorbar\":{\"title\":{\"text\":\"7_Days_Incidence_Rate\"}},\"colorscale\":[[0.0,\"rgb(230, 240, 240)\"],[0.09090909090909091,\"rgb(191, 221, 229)\"],[0.18181818181818182,\"rgb(156, 201, 226)\"],[0.2727272727272727,\"rgb(129, 180, 227)\"],[0.36363636363636365,\"rgb(115, 154, 228)\"],[0.45454545454545453,\"rgb(117, 127, 221)\"],[0.5454545454545454,\"rgb(120, 100, 202)\"],[0.6363636363636364,\"rgb(119, 74, 175)\"],[0.7272727272727273,\"rgb(113, 50, 141)\"],[0.8181818181818182,\"rgb(100, 31, 104)\"],[0.9090909090909091,\"rgb(80, 20, 66)\"],[1.0,\"rgb(54, 14, 36)\"]]},\"legend\":{\"tracegroupgap\":0,\"itemsizing\":\"constant\"},\"margin\":{\"t\":50,\"l\":0,\"r\":0,\"b\":50},\"title\":{\"font\":{\"size\":28},\"text\":\"7 Days COVID-19 Incidence Rate By Country\",\"y\":0.97,\"x\":0.424,\"xanchor\":\"center\",\"yanchor\":\"top\"}},                        {\"responsive\": true}                    ).then(function(){\n",
       "                            \n",
       "var gd = document.getElementById('7fe77edb-9937-4886-bbd1-46565e5f1f63');\n",
       "var x = new MutationObserver(function (mutations, observer) {{\n",
       "        var display = window.getComputedStyle(gd).display;\n",
       "        if (!display || display === 'none') {{\n",
       "            console.log([gd, 'removed!']);\n",
       "            Plotly.purge(gd);\n",
       "            observer.disconnect();\n",
       "        }}\n",
       "}});\n",
       "\n",
       "// Listen for the removal of the full notebook cells\n",
       "var notebookContainer = gd.closest('#notebook-container');\n",
       "if (notebookContainer) {{\n",
       "    x.observe(notebookContainer, {childList: true});\n",
       "}}\n",
       "\n",
       "// Listen for the clearing of the current output cell\n",
       "var outputEl = gd.closest('.output');\n",
       "if (outputEl) {{\n",
       "    x.observe(outputEl, {childList: true});\n",
       "}}\n",
       "\n",
       "                        })                };                });            </script>        </div>"
      ]
     },
     "metadata": {},
     "output_type": "display_data"
    }
   ],
   "source": [
    "import plotly.express as px\n",
    "\n",
    "bubble_map = px.scatter_geo(countries_df,\n",
    "                            size=\"7_Days_Incidence_Rate\",\n",
    "                            hover_name=\"Country_Region\",\n",
    "                            color=\"7_Days_Incidence_Rate\",\n",
    "                            locations=\"Country_Region\",\n",
    "                            locationmode=\"country names\",\n",
    "                            size_max=30,\n",
    "                            template=\"plotly_dark\",\n",
    "                            color_continuous_scale=px.colors.sequential.dense,\n",
    "                            projection=\"natural earth\",\n",
    "                            hover_data={\n",
    "                                \"Confirmed\": \":,\",\n",
    "                                \"Deaths\": \":,\",\n",
    "                                \"Population\": \":,\",\n",
    "                                \"Yesterday_Confirmed\": \":,\",\n",
    "                                 \"Country_Region\": False\n",
    "                            })\n",
    "bubble_map.update_layout(\n",
    "    margin=dict(l=0, r=0, t=50, b=50),\n",
    "    title={\n",
    "        'text': \"7 Days COVID-19 Incidence Rate By Country\",\n",
    "        'y':0.97,\n",
    "        'x':0.424,\n",
    "        'xanchor': 'center',\n",
    "        'yanchor': 'top'},\n",
    "    title_font=dict(size=28))\n",
    "bubble_map"
   ]
  },
  {
   "cell_type": "code",
   "execution_count": 109,
   "metadata": {
    "scrolled": false
   },
   "outputs": [
    {
     "data": {
      "text/html": [
       "<div>\n",
       "<style scoped>\n",
       "    .dataframe tbody tr th:only-of-type {\n",
       "        vertical-align: middle;\n",
       "    }\n",
       "\n",
       "    .dataframe tbody tr th {\n",
       "        vertical-align: top;\n",
       "    }\n",
       "\n",
       "    .dataframe thead th {\n",
       "        text-align: right;\n",
       "    }\n",
       "</style>\n",
       "<table border=\"1\" class=\"dataframe\">\n",
       "  <thead>\n",
       "    <tr style=\"text-align: right;\">\n",
       "      <th></th>\n",
       "      <th>condition</th>\n",
       "      <th>count</th>\n",
       "    </tr>\n",
       "  </thead>\n",
       "  <tbody>\n",
       "    <tr>\n",
       "      <th>0</th>\n",
       "      <td>Confirmed</td>\n",
       "      <td>270021051</td>\n",
       "    </tr>\n",
       "    <tr>\n",
       "      <th>1</th>\n",
       "      <td>Deaths</td>\n",
       "      <td>5302690</td>\n",
       "    </tr>\n",
       "    <tr>\n",
       "      <th>2</th>\n",
       "      <td>People_fully_vaccinated</td>\n",
       "      <td>3633487663</td>\n",
       "    </tr>\n",
       "    <tr>\n",
       "      <th>3</th>\n",
       "      <td>Population</td>\n",
       "      <td>7794592576</td>\n",
       "    </tr>\n",
       "  </tbody>\n",
       "</table>\n",
       "</div>"
      ],
      "text/plain": [
       "                 condition       count\n",
       "0                Confirmed   270021051\n",
       "1                   Deaths     5302690\n",
       "2  People_fully_vaccinated  3633487663\n",
       "3               Population  7794592576"
      ]
     },
     "execution_count": 109,
     "metadata": {},
     "output_type": "execute_result"
    }
   ],
   "source": [
    "#totals_df = daily_df[[\"Confirmed\",\"Deaths\"]].sum().reset_index(name=\"count\")\n",
    "\n",
    "totals_df = countries_df[[\"Confirmed\",\"Deaths\",\"People_fully_vaccinated\"]].sum().reset_index(name=\"count\")\n",
    "totals_df = totals_df.rename(columns={'index':\"condition\"})\n",
    "\n",
    "df_pop_sum = pd.DataFrame(\n",
    "    {\n",
    "        \"condition\": [\"Population\"],\n",
    "        \"count\": [7794592576.0]\n",
    "    }\n",
    ")\n",
    "\n",
    "totals_df = totals_df.append(df_pop_sum, sort=False) #7794592576.0\n",
    "totals_df = totals_df.reset_index()\n",
    "totals_df = totals_df.drop('index', 1)\n",
    "totals_df['count'] =totals_df['count'].astype('Int64')\n",
    "totals_df \n",
    "totals_df_bar = totals_df.iloc[2:4]\n",
    "\n",
    "\n",
    "bars_graph = px.bar(totals_df_bar,\n",
    "                    x=\"condition\",\n",
    "                    y=\"count\",\n",
    "                    template=\"plotly_dark\",\n",
    "                    hover_data={'count': \":,\"},\n",
    "                    labels={\"condition\": \"Condition\", \"count\": \"Count\", \"color\": \"Condition\"})\n",
    "bars_graph.update_traces(marker_color=[\"#ff5e57\", \"#0be881\"])\n",
    "bars_graph.update_layout(\n",
    "    margin=dict(l=0, r=0, t=50, b=50),\n",
    "    title={\n",
    "        'text': \"Number of People Fully Vaccinated and World Population\",\n",
    "        'y':0.97,\n",
    "        'x':0.5,\n",
    "        'xanchor': 'center',\n",
    "        'yanchor': 'top'},\n",
    "    title_font=dict(size=28))\n",
    "bars_graph"
   ]
  },
  {
   "cell_type": "code",
   "execution_count": 110,
   "metadata": {},
   "outputs": [
    {
     "data": {
      "text/html": [
       "<div>\n",
       "<style scoped>\n",
       "    .dataframe tbody tr th:only-of-type {\n",
       "        vertical-align: middle;\n",
       "    }\n",
       "\n",
       "    .dataframe tbody tr th {\n",
       "        vertical-align: top;\n",
       "    }\n",
       "\n",
       "    .dataframe thead th {\n",
       "        text-align: right;\n",
       "    }\n",
       "</style>\n",
       "<table border=\"1\" class=\"dataframe\">\n",
       "  <thead>\n",
       "    <tr style=\"text-align: right;\">\n",
       "      <th></th>\n",
       "      <th>condition</th>\n",
       "      <th>count</th>\n",
       "    </tr>\n",
       "  </thead>\n",
       "  <tbody>\n",
       "    <tr>\n",
       "      <th>2</th>\n",
       "      <td>People_fully_vaccinated</td>\n",
       "      <td>3633487663</td>\n",
       "    </tr>\n",
       "    <tr>\n",
       "      <th>3</th>\n",
       "      <td>Population</td>\n",
       "      <td>7794592576</td>\n",
       "    </tr>\n",
       "  </tbody>\n",
       "</table>\n",
       "</div>"
      ],
      "text/plain": [
       "                 condition       count\n",
       "2  People_fully_vaccinated  3633487663\n",
       "3               Population  7794592576"
      ]
     },
     "execution_count": 110,
     "metadata": {},
     "output_type": "execute_result"
    }
   ],
   "source": []
  },
  {
   "cell_type": "code",
   "execution_count": 118,
   "metadata": {},
   "outputs": [
    {
     "data": {
      "application/vnd.plotly.v1+json": {
       "config": {
        "plotlyServerURL": "https://plot.ly"
       },
       "data": [
        {
         "alignmentgroup": "True",
         "hovertemplate": "Condition=%{x}<br>Count=%{y:,}<extra></extra>",
         "legendgroup": "",
         "marker": {
          "color": [
           "#ff5e57",
           "#0be881"
          ],
          "pattern": {
           "shape": ""
          }
         },
         "name": "",
         "offsetgroup": "",
         "orientation": "v",
         "showlegend": false,
         "textposition": "auto",
         "type": "bar",
         "x": [
          "People_fully_vaccinated",
          "Population"
         ],
         "xaxis": "x",
         "y": [
          3633487663,
          7794592576
         ],
         "yaxis": "y"
        }
       ],
       "layout": {
        "barmode": "relative",
        "legend": {
         "tracegroupgap": 0
        },
        "margin": {
         "b": 50,
         "l": 0,
         "r": 0,
         "t": 50
        },
        "template": {
         "data": {
          "bar": [
           {
            "error_x": {
             "color": "#f2f5fa"
            },
            "error_y": {
             "color": "#f2f5fa"
            },
            "marker": {
             "line": {
              "color": "rgb(17,17,17)",
              "width": 0.5
             },
             "pattern": {
              "fillmode": "overlay",
              "size": 10,
              "solidity": 0.2
             }
            },
            "type": "bar"
           }
          ],
          "barpolar": [
           {
            "marker": {
             "line": {
              "color": "rgb(17,17,17)",
              "width": 0.5
             },
             "pattern": {
              "fillmode": "overlay",
              "size": 10,
              "solidity": 0.2
             }
            },
            "type": "barpolar"
           }
          ],
          "carpet": [
           {
            "aaxis": {
             "endlinecolor": "#A2B1C6",
             "gridcolor": "#506784",
             "linecolor": "#506784",
             "minorgridcolor": "#506784",
             "startlinecolor": "#A2B1C6"
            },
            "baxis": {
             "endlinecolor": "#A2B1C6",
             "gridcolor": "#506784",
             "linecolor": "#506784",
             "minorgridcolor": "#506784",
             "startlinecolor": "#A2B1C6"
            },
            "type": "carpet"
           }
          ],
          "choropleth": [
           {
            "colorbar": {
             "outlinewidth": 0,
             "ticks": ""
            },
            "type": "choropleth"
           }
          ],
          "contour": [
           {
            "colorbar": {
             "outlinewidth": 0,
             "ticks": ""
            },
            "colorscale": [
             [
              0,
              "#0d0887"
             ],
             [
              0.1111111111111111,
              "#46039f"
             ],
             [
              0.2222222222222222,
              "#7201a8"
             ],
             [
              0.3333333333333333,
              "#9c179e"
             ],
             [
              0.4444444444444444,
              "#bd3786"
             ],
             [
              0.5555555555555556,
              "#d8576b"
             ],
             [
              0.6666666666666666,
              "#ed7953"
             ],
             [
              0.7777777777777778,
              "#fb9f3a"
             ],
             [
              0.8888888888888888,
              "#fdca26"
             ],
             [
              1,
              "#f0f921"
             ]
            ],
            "type": "contour"
           }
          ],
          "contourcarpet": [
           {
            "colorbar": {
             "outlinewidth": 0,
             "ticks": ""
            },
            "type": "contourcarpet"
           }
          ],
          "heatmap": [
           {
            "colorbar": {
             "outlinewidth": 0,
             "ticks": ""
            },
            "colorscale": [
             [
              0,
              "#0d0887"
             ],
             [
              0.1111111111111111,
              "#46039f"
             ],
             [
              0.2222222222222222,
              "#7201a8"
             ],
             [
              0.3333333333333333,
              "#9c179e"
             ],
             [
              0.4444444444444444,
              "#bd3786"
             ],
             [
              0.5555555555555556,
              "#d8576b"
             ],
             [
              0.6666666666666666,
              "#ed7953"
             ],
             [
              0.7777777777777778,
              "#fb9f3a"
             ],
             [
              0.8888888888888888,
              "#fdca26"
             ],
             [
              1,
              "#f0f921"
             ]
            ],
            "type": "heatmap"
           }
          ],
          "heatmapgl": [
           {
            "colorbar": {
             "outlinewidth": 0,
             "ticks": ""
            },
            "colorscale": [
             [
              0,
              "#0d0887"
             ],
             [
              0.1111111111111111,
              "#46039f"
             ],
             [
              0.2222222222222222,
              "#7201a8"
             ],
             [
              0.3333333333333333,
              "#9c179e"
             ],
             [
              0.4444444444444444,
              "#bd3786"
             ],
             [
              0.5555555555555556,
              "#d8576b"
             ],
             [
              0.6666666666666666,
              "#ed7953"
             ],
             [
              0.7777777777777778,
              "#fb9f3a"
             ],
             [
              0.8888888888888888,
              "#fdca26"
             ],
             [
              1,
              "#f0f921"
             ]
            ],
            "type": "heatmapgl"
           }
          ],
          "histogram": [
           {
            "marker": {
             "pattern": {
              "fillmode": "overlay",
              "size": 10,
              "solidity": 0.2
             }
            },
            "type": "histogram"
           }
          ],
          "histogram2d": [
           {
            "colorbar": {
             "outlinewidth": 0,
             "ticks": ""
            },
            "colorscale": [
             [
              0,
              "#0d0887"
             ],
             [
              0.1111111111111111,
              "#46039f"
             ],
             [
              0.2222222222222222,
              "#7201a8"
             ],
             [
              0.3333333333333333,
              "#9c179e"
             ],
             [
              0.4444444444444444,
              "#bd3786"
             ],
             [
              0.5555555555555556,
              "#d8576b"
             ],
             [
              0.6666666666666666,
              "#ed7953"
             ],
             [
              0.7777777777777778,
              "#fb9f3a"
             ],
             [
              0.8888888888888888,
              "#fdca26"
             ],
             [
              1,
              "#f0f921"
             ]
            ],
            "type": "histogram2d"
           }
          ],
          "histogram2dcontour": [
           {
            "colorbar": {
             "outlinewidth": 0,
             "ticks": ""
            },
            "colorscale": [
             [
              0,
              "#0d0887"
             ],
             [
              0.1111111111111111,
              "#46039f"
             ],
             [
              0.2222222222222222,
              "#7201a8"
             ],
             [
              0.3333333333333333,
              "#9c179e"
             ],
             [
              0.4444444444444444,
              "#bd3786"
             ],
             [
              0.5555555555555556,
              "#d8576b"
             ],
             [
              0.6666666666666666,
              "#ed7953"
             ],
             [
              0.7777777777777778,
              "#fb9f3a"
             ],
             [
              0.8888888888888888,
              "#fdca26"
             ],
             [
              1,
              "#f0f921"
             ]
            ],
            "type": "histogram2dcontour"
           }
          ],
          "mesh3d": [
           {
            "colorbar": {
             "outlinewidth": 0,
             "ticks": ""
            },
            "type": "mesh3d"
           }
          ],
          "parcoords": [
           {
            "line": {
             "colorbar": {
              "outlinewidth": 0,
              "ticks": ""
             }
            },
            "type": "parcoords"
           }
          ],
          "pie": [
           {
            "automargin": true,
            "type": "pie"
           }
          ],
          "scatter": [
           {
            "marker": {
             "line": {
              "color": "#283442"
             }
            },
            "type": "scatter"
           }
          ],
          "scatter3d": [
           {
            "line": {
             "colorbar": {
              "outlinewidth": 0,
              "ticks": ""
             }
            },
            "marker": {
             "colorbar": {
              "outlinewidth": 0,
              "ticks": ""
             }
            },
            "type": "scatter3d"
           }
          ],
          "scattercarpet": [
           {
            "marker": {
             "colorbar": {
              "outlinewidth": 0,
              "ticks": ""
             }
            },
            "type": "scattercarpet"
           }
          ],
          "scattergeo": [
           {
            "marker": {
             "colorbar": {
              "outlinewidth": 0,
              "ticks": ""
             }
            },
            "type": "scattergeo"
           }
          ],
          "scattergl": [
           {
            "marker": {
             "line": {
              "color": "#283442"
             }
            },
            "type": "scattergl"
           }
          ],
          "scattermapbox": [
           {
            "marker": {
             "colorbar": {
              "outlinewidth": 0,
              "ticks": ""
             }
            },
            "type": "scattermapbox"
           }
          ],
          "scatterpolar": [
           {
            "marker": {
             "colorbar": {
              "outlinewidth": 0,
              "ticks": ""
             }
            },
            "type": "scatterpolar"
           }
          ],
          "scatterpolargl": [
           {
            "marker": {
             "colorbar": {
              "outlinewidth": 0,
              "ticks": ""
             }
            },
            "type": "scatterpolargl"
           }
          ],
          "scatterternary": [
           {
            "marker": {
             "colorbar": {
              "outlinewidth": 0,
              "ticks": ""
             }
            },
            "type": "scatterternary"
           }
          ],
          "surface": [
           {
            "colorbar": {
             "outlinewidth": 0,
             "ticks": ""
            },
            "colorscale": [
             [
              0,
              "#0d0887"
             ],
             [
              0.1111111111111111,
              "#46039f"
             ],
             [
              0.2222222222222222,
              "#7201a8"
             ],
             [
              0.3333333333333333,
              "#9c179e"
             ],
             [
              0.4444444444444444,
              "#bd3786"
             ],
             [
              0.5555555555555556,
              "#d8576b"
             ],
             [
              0.6666666666666666,
              "#ed7953"
             ],
             [
              0.7777777777777778,
              "#fb9f3a"
             ],
             [
              0.8888888888888888,
              "#fdca26"
             ],
             [
              1,
              "#f0f921"
             ]
            ],
            "type": "surface"
           }
          ],
          "table": [
           {
            "cells": {
             "fill": {
              "color": "#506784"
             },
             "line": {
              "color": "rgb(17,17,17)"
             }
            },
            "header": {
             "fill": {
              "color": "#2a3f5f"
             },
             "line": {
              "color": "rgb(17,17,17)"
             }
            },
            "type": "table"
           }
          ]
         },
         "layout": {
          "annotationdefaults": {
           "arrowcolor": "#f2f5fa",
           "arrowhead": 0,
           "arrowwidth": 1
          },
          "autotypenumbers": "strict",
          "coloraxis": {
           "colorbar": {
            "outlinewidth": 0,
            "ticks": ""
           }
          },
          "colorscale": {
           "diverging": [
            [
             0,
             "#8e0152"
            ],
            [
             0.1,
             "#c51b7d"
            ],
            [
             0.2,
             "#de77ae"
            ],
            [
             0.3,
             "#f1b6da"
            ],
            [
             0.4,
             "#fde0ef"
            ],
            [
             0.5,
             "#f7f7f7"
            ],
            [
             0.6,
             "#e6f5d0"
            ],
            [
             0.7,
             "#b8e186"
            ],
            [
             0.8,
             "#7fbc41"
            ],
            [
             0.9,
             "#4d9221"
            ],
            [
             1,
             "#276419"
            ]
           ],
           "sequential": [
            [
             0,
             "#0d0887"
            ],
            [
             0.1111111111111111,
             "#46039f"
            ],
            [
             0.2222222222222222,
             "#7201a8"
            ],
            [
             0.3333333333333333,
             "#9c179e"
            ],
            [
             0.4444444444444444,
             "#bd3786"
            ],
            [
             0.5555555555555556,
             "#d8576b"
            ],
            [
             0.6666666666666666,
             "#ed7953"
            ],
            [
             0.7777777777777778,
             "#fb9f3a"
            ],
            [
             0.8888888888888888,
             "#fdca26"
            ],
            [
             1,
             "#f0f921"
            ]
           ],
           "sequentialminus": [
            [
             0,
             "#0d0887"
            ],
            [
             0.1111111111111111,
             "#46039f"
            ],
            [
             0.2222222222222222,
             "#7201a8"
            ],
            [
             0.3333333333333333,
             "#9c179e"
            ],
            [
             0.4444444444444444,
             "#bd3786"
            ],
            [
             0.5555555555555556,
             "#d8576b"
            ],
            [
             0.6666666666666666,
             "#ed7953"
            ],
            [
             0.7777777777777778,
             "#fb9f3a"
            ],
            [
             0.8888888888888888,
             "#fdca26"
            ],
            [
             1,
             "#f0f921"
            ]
           ]
          },
          "colorway": [
           "#636efa",
           "#EF553B",
           "#00cc96",
           "#ab63fa",
           "#FFA15A",
           "#19d3f3",
           "#FF6692",
           "#B6E880",
           "#FF97FF",
           "#FECB52"
          ],
          "font": {
           "color": "#f2f5fa"
          },
          "geo": {
           "bgcolor": "rgb(17,17,17)",
           "lakecolor": "rgb(17,17,17)",
           "landcolor": "rgb(17,17,17)",
           "showlakes": true,
           "showland": true,
           "subunitcolor": "#506784"
          },
          "hoverlabel": {
           "align": "left"
          },
          "hovermode": "closest",
          "mapbox": {
           "style": "dark"
          },
          "paper_bgcolor": "rgb(17,17,17)",
          "plot_bgcolor": "rgb(17,17,17)",
          "polar": {
           "angularaxis": {
            "gridcolor": "#506784",
            "linecolor": "#506784",
            "ticks": ""
           },
           "bgcolor": "rgb(17,17,17)",
           "radialaxis": {
            "gridcolor": "#506784",
            "linecolor": "#506784",
            "ticks": ""
           }
          },
          "scene": {
           "xaxis": {
            "backgroundcolor": "rgb(17,17,17)",
            "gridcolor": "#506784",
            "gridwidth": 2,
            "linecolor": "#506784",
            "showbackground": true,
            "ticks": "",
            "zerolinecolor": "#C8D4E3"
           },
           "yaxis": {
            "backgroundcolor": "rgb(17,17,17)",
            "gridcolor": "#506784",
            "gridwidth": 2,
            "linecolor": "#506784",
            "showbackground": true,
            "ticks": "",
            "zerolinecolor": "#C8D4E3"
           },
           "zaxis": {
            "backgroundcolor": "rgb(17,17,17)",
            "gridcolor": "#506784",
            "gridwidth": 2,
            "linecolor": "#506784",
            "showbackground": true,
            "ticks": "",
            "zerolinecolor": "#C8D4E3"
           }
          },
          "shapedefaults": {
           "line": {
            "color": "#f2f5fa"
           }
          },
          "sliderdefaults": {
           "bgcolor": "#C8D4E3",
           "bordercolor": "rgb(17,17,17)",
           "borderwidth": 1,
           "tickwidth": 0
          },
          "ternary": {
           "aaxis": {
            "gridcolor": "#506784",
            "linecolor": "#506784",
            "ticks": ""
           },
           "baxis": {
            "gridcolor": "#506784",
            "linecolor": "#506784",
            "ticks": ""
           },
           "bgcolor": "rgb(17,17,17)",
           "caxis": {
            "gridcolor": "#506784",
            "linecolor": "#506784",
            "ticks": ""
           }
          },
          "title": {
           "x": 0.05
          },
          "updatemenudefaults": {
           "bgcolor": "#506784",
           "borderwidth": 0
          },
          "xaxis": {
           "automargin": true,
           "gridcolor": "#283442",
           "linecolor": "#506784",
           "ticks": "",
           "title": {
            "standoff": 15
           },
           "zerolinecolor": "#283442",
           "zerolinewidth": 2
          },
          "yaxis": {
           "automargin": true,
           "gridcolor": "#283442",
           "linecolor": "#506784",
           "ticks": "",
           "title": {
            "standoff": 15
           },
           "zerolinecolor": "#283442",
           "zerolinewidth": 2
          }
         }
        },
        "title": {
         "font": {
          "size": 28
         },
         "text": "Number of People Fully Vaccinated and World Population",
         "x": 0.5,
         "xanchor": "center",
         "y": 0.97,
         "yanchor": "top"
        },
        "xaxis": {
         "anchor": "y",
         "domain": [
          0,
          1
         ],
         "title": {
          "text": "Condition"
         }
        },
        "yaxis": {
         "anchor": "x",
         "domain": [
          0,
          1
         ],
         "title": {
          "text": "Count"
         }
        }
       }
      },
      "text/html": [
       "<div>                            <div id=\"a68de709-cb30-4869-bb3c-10b17545e7e6\" class=\"plotly-graph-div\" style=\"height:525px; width:100%;\"></div>            <script type=\"text/javascript\">                require([\"plotly\"], function(Plotly) {                    window.PLOTLYENV=window.PLOTLYENV || {};                                    if (document.getElementById(\"a68de709-cb30-4869-bb3c-10b17545e7e6\")) {                    Plotly.newPlot(                        \"a68de709-cb30-4869-bb3c-10b17545e7e6\",                        [{\"alignmentgroup\":\"True\",\"hovertemplate\":\"Condition=%{x}<br>Count=%{y:,}<extra></extra>\",\"legendgroup\":\"\",\"marker\":{\"color\":[\"#ff5e57\",\"#0be881\"],\"pattern\":{\"shape\":\"\"}},\"name\":\"\",\"offsetgroup\":\"\",\"orientation\":\"v\",\"showlegend\":false,\"textposition\":\"auto\",\"x\":[\"People_fully_vaccinated\",\"Population\"],\"xaxis\":\"x\",\"y\":[3633487663,7794592576],\"yaxis\":\"y\",\"type\":\"bar\"}],                        {\"template\":{\"data\":{\"barpolar\":[{\"marker\":{\"line\":{\"color\":\"rgb(17,17,17)\",\"width\":0.5},\"pattern\":{\"fillmode\":\"overlay\",\"size\":10,\"solidity\":0.2}},\"type\":\"barpolar\"}],\"bar\":[{\"error_x\":{\"color\":\"#f2f5fa\"},\"error_y\":{\"color\":\"#f2f5fa\"},\"marker\":{\"line\":{\"color\":\"rgb(17,17,17)\",\"width\":0.5},\"pattern\":{\"fillmode\":\"overlay\",\"size\":10,\"solidity\":0.2}},\"type\":\"bar\"}],\"carpet\":[{\"aaxis\":{\"endlinecolor\":\"#A2B1C6\",\"gridcolor\":\"#506784\",\"linecolor\":\"#506784\",\"minorgridcolor\":\"#506784\",\"startlinecolor\":\"#A2B1C6\"},\"baxis\":{\"endlinecolor\":\"#A2B1C6\",\"gridcolor\":\"#506784\",\"linecolor\":\"#506784\",\"minorgridcolor\":\"#506784\",\"startlinecolor\":\"#A2B1C6\"},\"type\":\"carpet\"}],\"choropleth\":[{\"colorbar\":{\"outlinewidth\":0,\"ticks\":\"\"},\"type\":\"choropleth\"}],\"contourcarpet\":[{\"colorbar\":{\"outlinewidth\":0,\"ticks\":\"\"},\"type\":\"contourcarpet\"}],\"contour\":[{\"colorbar\":{\"outlinewidth\":0,\"ticks\":\"\"},\"colorscale\":[[0.0,\"#0d0887\"],[0.1111111111111111,\"#46039f\"],[0.2222222222222222,\"#7201a8\"],[0.3333333333333333,\"#9c179e\"],[0.4444444444444444,\"#bd3786\"],[0.5555555555555556,\"#d8576b\"],[0.6666666666666666,\"#ed7953\"],[0.7777777777777778,\"#fb9f3a\"],[0.8888888888888888,\"#fdca26\"],[1.0,\"#f0f921\"]],\"type\":\"contour\"}],\"heatmapgl\":[{\"colorbar\":{\"outlinewidth\":0,\"ticks\":\"\"},\"colorscale\":[[0.0,\"#0d0887\"],[0.1111111111111111,\"#46039f\"],[0.2222222222222222,\"#7201a8\"],[0.3333333333333333,\"#9c179e\"],[0.4444444444444444,\"#bd3786\"],[0.5555555555555556,\"#d8576b\"],[0.6666666666666666,\"#ed7953\"],[0.7777777777777778,\"#fb9f3a\"],[0.8888888888888888,\"#fdca26\"],[1.0,\"#f0f921\"]],\"type\":\"heatmapgl\"}],\"heatmap\":[{\"colorbar\":{\"outlinewidth\":0,\"ticks\":\"\"},\"colorscale\":[[0.0,\"#0d0887\"],[0.1111111111111111,\"#46039f\"],[0.2222222222222222,\"#7201a8\"],[0.3333333333333333,\"#9c179e\"],[0.4444444444444444,\"#bd3786\"],[0.5555555555555556,\"#d8576b\"],[0.6666666666666666,\"#ed7953\"],[0.7777777777777778,\"#fb9f3a\"],[0.8888888888888888,\"#fdca26\"],[1.0,\"#f0f921\"]],\"type\":\"heatmap\"}],\"histogram2dcontour\":[{\"colorbar\":{\"outlinewidth\":0,\"ticks\":\"\"},\"colorscale\":[[0.0,\"#0d0887\"],[0.1111111111111111,\"#46039f\"],[0.2222222222222222,\"#7201a8\"],[0.3333333333333333,\"#9c179e\"],[0.4444444444444444,\"#bd3786\"],[0.5555555555555556,\"#d8576b\"],[0.6666666666666666,\"#ed7953\"],[0.7777777777777778,\"#fb9f3a\"],[0.8888888888888888,\"#fdca26\"],[1.0,\"#f0f921\"]],\"type\":\"histogram2dcontour\"}],\"histogram2d\":[{\"colorbar\":{\"outlinewidth\":0,\"ticks\":\"\"},\"colorscale\":[[0.0,\"#0d0887\"],[0.1111111111111111,\"#46039f\"],[0.2222222222222222,\"#7201a8\"],[0.3333333333333333,\"#9c179e\"],[0.4444444444444444,\"#bd3786\"],[0.5555555555555556,\"#d8576b\"],[0.6666666666666666,\"#ed7953\"],[0.7777777777777778,\"#fb9f3a\"],[0.8888888888888888,\"#fdca26\"],[1.0,\"#f0f921\"]],\"type\":\"histogram2d\"}],\"histogram\":[{\"marker\":{\"pattern\":{\"fillmode\":\"overlay\",\"size\":10,\"solidity\":0.2}},\"type\":\"histogram\"}],\"mesh3d\":[{\"colorbar\":{\"outlinewidth\":0,\"ticks\":\"\"},\"type\":\"mesh3d\"}],\"parcoords\":[{\"line\":{\"colorbar\":{\"outlinewidth\":0,\"ticks\":\"\"}},\"type\":\"parcoords\"}],\"pie\":[{\"automargin\":true,\"type\":\"pie\"}],\"scatter3d\":[{\"line\":{\"colorbar\":{\"outlinewidth\":0,\"ticks\":\"\"}},\"marker\":{\"colorbar\":{\"outlinewidth\":0,\"ticks\":\"\"}},\"type\":\"scatter3d\"}],\"scattercarpet\":[{\"marker\":{\"colorbar\":{\"outlinewidth\":0,\"ticks\":\"\"}},\"type\":\"scattercarpet\"}],\"scattergeo\":[{\"marker\":{\"colorbar\":{\"outlinewidth\":0,\"ticks\":\"\"}},\"type\":\"scattergeo\"}],\"scattergl\":[{\"marker\":{\"line\":{\"color\":\"#283442\"}},\"type\":\"scattergl\"}],\"scattermapbox\":[{\"marker\":{\"colorbar\":{\"outlinewidth\":0,\"ticks\":\"\"}},\"type\":\"scattermapbox\"}],\"scatterpolargl\":[{\"marker\":{\"colorbar\":{\"outlinewidth\":0,\"ticks\":\"\"}},\"type\":\"scatterpolargl\"}],\"scatterpolar\":[{\"marker\":{\"colorbar\":{\"outlinewidth\":0,\"ticks\":\"\"}},\"type\":\"scatterpolar\"}],\"scatter\":[{\"marker\":{\"line\":{\"color\":\"#283442\"}},\"type\":\"scatter\"}],\"scatterternary\":[{\"marker\":{\"colorbar\":{\"outlinewidth\":0,\"ticks\":\"\"}},\"type\":\"scatterternary\"}],\"surface\":[{\"colorbar\":{\"outlinewidth\":0,\"ticks\":\"\"},\"colorscale\":[[0.0,\"#0d0887\"],[0.1111111111111111,\"#46039f\"],[0.2222222222222222,\"#7201a8\"],[0.3333333333333333,\"#9c179e\"],[0.4444444444444444,\"#bd3786\"],[0.5555555555555556,\"#d8576b\"],[0.6666666666666666,\"#ed7953\"],[0.7777777777777778,\"#fb9f3a\"],[0.8888888888888888,\"#fdca26\"],[1.0,\"#f0f921\"]],\"type\":\"surface\"}],\"table\":[{\"cells\":{\"fill\":{\"color\":\"#506784\"},\"line\":{\"color\":\"rgb(17,17,17)\"}},\"header\":{\"fill\":{\"color\":\"#2a3f5f\"},\"line\":{\"color\":\"rgb(17,17,17)\"}},\"type\":\"table\"}]},\"layout\":{\"annotationdefaults\":{\"arrowcolor\":\"#f2f5fa\",\"arrowhead\":0,\"arrowwidth\":1},\"autotypenumbers\":\"strict\",\"coloraxis\":{\"colorbar\":{\"outlinewidth\":0,\"ticks\":\"\"}},\"colorscale\":{\"diverging\":[[0,\"#8e0152\"],[0.1,\"#c51b7d\"],[0.2,\"#de77ae\"],[0.3,\"#f1b6da\"],[0.4,\"#fde0ef\"],[0.5,\"#f7f7f7\"],[0.6,\"#e6f5d0\"],[0.7,\"#b8e186\"],[0.8,\"#7fbc41\"],[0.9,\"#4d9221\"],[1,\"#276419\"]],\"sequential\":[[0.0,\"#0d0887\"],[0.1111111111111111,\"#46039f\"],[0.2222222222222222,\"#7201a8\"],[0.3333333333333333,\"#9c179e\"],[0.4444444444444444,\"#bd3786\"],[0.5555555555555556,\"#d8576b\"],[0.6666666666666666,\"#ed7953\"],[0.7777777777777778,\"#fb9f3a\"],[0.8888888888888888,\"#fdca26\"],[1.0,\"#f0f921\"]],\"sequentialminus\":[[0.0,\"#0d0887\"],[0.1111111111111111,\"#46039f\"],[0.2222222222222222,\"#7201a8\"],[0.3333333333333333,\"#9c179e\"],[0.4444444444444444,\"#bd3786\"],[0.5555555555555556,\"#d8576b\"],[0.6666666666666666,\"#ed7953\"],[0.7777777777777778,\"#fb9f3a\"],[0.8888888888888888,\"#fdca26\"],[1.0,\"#f0f921\"]]},\"colorway\":[\"#636efa\",\"#EF553B\",\"#00cc96\",\"#ab63fa\",\"#FFA15A\",\"#19d3f3\",\"#FF6692\",\"#B6E880\",\"#FF97FF\",\"#FECB52\"],\"font\":{\"color\":\"#f2f5fa\"},\"geo\":{\"bgcolor\":\"rgb(17,17,17)\",\"lakecolor\":\"rgb(17,17,17)\",\"landcolor\":\"rgb(17,17,17)\",\"showlakes\":true,\"showland\":true,\"subunitcolor\":\"#506784\"},\"hoverlabel\":{\"align\":\"left\"},\"hovermode\":\"closest\",\"mapbox\":{\"style\":\"dark\"},\"paper_bgcolor\":\"rgb(17,17,17)\",\"plot_bgcolor\":\"rgb(17,17,17)\",\"polar\":{\"angularaxis\":{\"gridcolor\":\"#506784\",\"linecolor\":\"#506784\",\"ticks\":\"\"},\"bgcolor\":\"rgb(17,17,17)\",\"radialaxis\":{\"gridcolor\":\"#506784\",\"linecolor\":\"#506784\",\"ticks\":\"\"}},\"scene\":{\"xaxis\":{\"backgroundcolor\":\"rgb(17,17,17)\",\"gridcolor\":\"#506784\",\"gridwidth\":2,\"linecolor\":\"#506784\",\"showbackground\":true,\"ticks\":\"\",\"zerolinecolor\":\"#C8D4E3\"},\"yaxis\":{\"backgroundcolor\":\"rgb(17,17,17)\",\"gridcolor\":\"#506784\",\"gridwidth\":2,\"linecolor\":\"#506784\",\"showbackground\":true,\"ticks\":\"\",\"zerolinecolor\":\"#C8D4E3\"},\"zaxis\":{\"backgroundcolor\":\"rgb(17,17,17)\",\"gridcolor\":\"#506784\",\"gridwidth\":2,\"linecolor\":\"#506784\",\"showbackground\":true,\"ticks\":\"\",\"zerolinecolor\":\"#C8D4E3\"}},\"shapedefaults\":{\"line\":{\"color\":\"#f2f5fa\"}},\"sliderdefaults\":{\"bgcolor\":\"#C8D4E3\",\"bordercolor\":\"rgb(17,17,17)\",\"borderwidth\":1,\"tickwidth\":0},\"ternary\":{\"aaxis\":{\"gridcolor\":\"#506784\",\"linecolor\":\"#506784\",\"ticks\":\"\"},\"baxis\":{\"gridcolor\":\"#506784\",\"linecolor\":\"#506784\",\"ticks\":\"\"},\"bgcolor\":\"rgb(17,17,17)\",\"caxis\":{\"gridcolor\":\"#506784\",\"linecolor\":\"#506784\",\"ticks\":\"\"}},\"title\":{\"x\":0.05},\"updatemenudefaults\":{\"bgcolor\":\"#506784\",\"borderwidth\":0},\"xaxis\":{\"automargin\":true,\"gridcolor\":\"#283442\",\"linecolor\":\"#506784\",\"ticks\":\"\",\"title\":{\"standoff\":15},\"zerolinecolor\":\"#283442\",\"zerolinewidth\":2},\"yaxis\":{\"automargin\":true,\"gridcolor\":\"#283442\",\"linecolor\":\"#506784\",\"ticks\":\"\",\"title\":{\"standoff\":15},\"zerolinecolor\":\"#283442\",\"zerolinewidth\":2}}},\"xaxis\":{\"anchor\":\"y\",\"domain\":[0.0,1.0],\"title\":{\"text\":\"Condition\"}},\"yaxis\":{\"anchor\":\"x\",\"domain\":[0.0,1.0],\"title\":{\"text\":\"Count\"}},\"legend\":{\"tracegroupgap\":0},\"margin\":{\"t\":50,\"l\":0,\"r\":0,\"b\":50},\"barmode\":\"relative\",\"title\":{\"font\":{\"size\":28},\"text\":\"Number of People Fully Vaccinated and World Population\",\"y\":0.97,\"x\":0.5,\"xanchor\":\"center\",\"yanchor\":\"top\"}},                        {\"responsive\": true}                    ).then(function(){\n",
       "                            \n",
       "var gd = document.getElementById('a68de709-cb30-4869-bb3c-10b17545e7e6');\n",
       "var x = new MutationObserver(function (mutations, observer) {{\n",
       "        var display = window.getComputedStyle(gd).display;\n",
       "        if (!display || display === 'none') {{\n",
       "            console.log([gd, 'removed!']);\n",
       "            Plotly.purge(gd);\n",
       "            observer.disconnect();\n",
       "        }}\n",
       "}});\n",
       "\n",
       "// Listen for the removal of the full notebook cells\n",
       "var notebookContainer = gd.closest('#notebook-container');\n",
       "if (notebookContainer) {{\n",
       "    x.observe(notebookContainer, {childList: true});\n",
       "}}\n",
       "\n",
       "// Listen for the clearing of the current output cell\n",
       "var outputEl = gd.closest('.output');\n",
       "if (outputEl) {{\n",
       "    x.observe(outputEl, {childList: true});\n",
       "}}\n",
       "\n",
       "                        })                };                });            </script>        </div>"
      ]
     },
     "metadata": {},
     "output_type": "display_data"
    }
   ],
   "source": []
  },
  {
   "cell_type": "code",
   "execution_count": null,
   "metadata": {},
   "outputs": [],
   "source": [
    "vac_ti_url = 'https://github.com/govex/COVID-19/blob/master/data_tables/vaccine_data/global_data/time_series_covid19_vaccine_global.csv?raw=true'\n",
    "df_vaccine_time = pd.read_csv(vac_ti_url)\n",
    "df_vaccine_time = df_vaccine_time[[\"Country_Region\",\"Date\",\"People_fully_vaccinated\"]]\n",
    "df_vaccine_time "
   ]
  },
  {
   "cell_type": "code",
   "execution_count": null,
   "metadata": {},
   "outputs": [],
   "source": [
    "vac_url = 'https://github.com/govex/COVID-19/blob/master/data_tables/vaccine_data/global_data/vaccine_data_global.csv?raw=true'\n",
    "df_vaccine = pd.read_csv(vac_url)\n",
    "df_vaccine = df_vaccine[(df_vaccine['Province_State'].isnull())]\n",
    "df_vaccine = df_vaccine[[\"Country_Region\",\"Date\",\"People_fully_vaccinated\"]]\n",
    "df_vaccine_world = df_vaccine[df_vaccine[\"Country_Region\"] == \"World\"]\n",
    "df_vaccine_world = df_vaccine_world[[\"People_fully_vaccinated\"]]\n",
    "df_vaccine_world = df_vaccine_world.rename(columns={'People_fully_vaccinated': 'count'})\n",
    "df_vaccine_world.insert(0, \"condition\", [\"Fully vaccinated\"], True)\n",
    "df_vaccine_world"
   ]
  },
  {
   "cell_type": "code",
   "execution_count": null,
   "metadata": {},
   "outputs": [],
   "source": [
    "daily_url = f'https://github.com/CSSEGISandData/COVID-19/blob/master/csse_covid_19_data/csse_covid_19_daily_reports/{yesterday}.csv?raw=true'\n",
    "daily_df = pd.read_csv(daily_url)\n",
    "daily_df"
   ]
  },
  {
   "cell_type": "code",
   "execution_count": null,
   "metadata": {},
   "outputs": [],
   "source": []
  },
  {
   "cell_type": "code",
   "execution_count": 121,
   "metadata": {},
   "outputs": [
    {
     "data": {
      "text/html": [
       "<div>\n",
       "<style scoped>\n",
       "    .dataframe tbody tr th:only-of-type {\n",
       "        vertical-align: middle;\n",
       "    }\n",
       "\n",
       "    .dataframe tbody tr th {\n",
       "        vertical-align: top;\n",
       "    }\n",
       "\n",
       "    .dataframe thead th {\n",
       "        text-align: right;\n",
       "    }\n",
       "</style>\n",
       "<table border=\"1\" class=\"dataframe\">\n",
       "  <thead>\n",
       "    <tr style=\"text-align: right;\">\n",
       "      <th></th>\n",
       "      <th>index</th>\n",
       "      <th>total</th>\n",
       "    </tr>\n",
       "  </thead>\n",
       "  <tbody>\n",
       "    <tr>\n",
       "      <th>0</th>\n",
       "      <td>1/22/20</td>\n",
       "      <td>557</td>\n",
       "    </tr>\n",
       "    <tr>\n",
       "      <th>1</th>\n",
       "      <td>1/23/20</td>\n",
       "      <td>655</td>\n",
       "    </tr>\n",
       "    <tr>\n",
       "      <th>2</th>\n",
       "      <td>1/24/20</td>\n",
       "      <td>941</td>\n",
       "    </tr>\n",
       "    <tr>\n",
       "      <th>3</th>\n",
       "      <td>1/25/20</td>\n",
       "      <td>1434</td>\n",
       "    </tr>\n",
       "    <tr>\n",
       "      <th>4</th>\n",
       "      <td>1/26/20</td>\n",
       "      <td>2118</td>\n",
       "    </tr>\n",
       "    <tr>\n",
       "      <th>...</th>\n",
       "      <td>...</td>\n",
       "      <td>...</td>\n",
       "    </tr>\n",
       "    <tr>\n",
       "      <th>687</th>\n",
       "      <td>12/9/21</td>\n",
       "      <td>268558598</td>\n",
       "    </tr>\n",
       "    <tr>\n",
       "      <th>688</th>\n",
       "      <td>12/10/21</td>\n",
       "      <td>269250556</td>\n",
       "    </tr>\n",
       "    <tr>\n",
       "      <th>689</th>\n",
       "      <td>12/11/21</td>\n",
       "      <td>269739121</td>\n",
       "    </tr>\n",
       "    <tr>\n",
       "      <th>690</th>\n",
       "      <td>12/12/21</td>\n",
       "      <td>270159882</td>\n",
       "    </tr>\n",
       "    <tr>\n",
       "      <th>691</th>\n",
       "      <td>12/13/21</td>\n",
       "      <td>270795523</td>\n",
       "    </tr>\n",
       "  </tbody>\n",
       "</table>\n",
       "<p>692 rows × 2 columns</p>\n",
       "</div>"
      ],
      "text/plain": [
       "        index      total\n",
       "0     1/22/20        557\n",
       "1     1/23/20        655\n",
       "2     1/24/20        941\n",
       "3     1/25/20       1434\n",
       "4     1/26/20       2118\n",
       "..        ...        ...\n",
       "687   12/9/21  268558598\n",
       "688  12/10/21  269250556\n",
       "689  12/11/21  269739121\n",
       "690  12/12/21  270159882\n",
       "691  12/13/21  270795523\n",
       "\n",
       "[692 rows x 2 columns]"
      ]
     },
     "execution_count": 121,
     "metadata": {},
     "output_type": "execute_result"
    }
   ],
   "source": [
    "url_time_confirmed ='https://github.com/CSSEGISandData/COVID-19/blob/master/csse_covid_19_data/csse_covid_19_time_series/time_series_covid19_confirmed_global.csv?raw=true'\n",
    "time_confirmed_df = pd.read_csv(url_time_confirmed)\n",
    "time_confirmed_df \n",
    "time_confirmed_df = time_confirmed_df.drop([\"Province/State\",\"Country/Region\",\"Lat\",\"Long\"], axis =1).sum().reset_index(name=\"total\")\n",
    "time_confirmed_df\n"
   ]
  },
  {
   "cell_type": "code",
   "execution_count": 25,
   "metadata": {},
   "outputs": [
    {
     "data": {
      "text/html": [
       "<div>\n",
       "<style scoped>\n",
       "    .dataframe tbody tr th:only-of-type {\n",
       "        vertical-align: middle;\n",
       "    }\n",
       "\n",
       "    .dataframe tbody tr th {\n",
       "        vertical-align: top;\n",
       "    }\n",
       "\n",
       "    .dataframe thead th {\n",
       "        text-align: right;\n",
       "    }\n",
       "</style>\n",
       "<table border=\"1\" class=\"dataframe\">\n",
       "  <thead>\n",
       "    <tr style=\"text-align: right;\">\n",
       "      <th></th>\n",
       "      <th>Country/Region</th>\n",
       "      <th>1/22/20</th>\n",
       "      <th>1/23/20</th>\n",
       "      <th>1/24/20</th>\n",
       "      <th>1/25/20</th>\n",
       "      <th>1/26/20</th>\n",
       "      <th>1/27/20</th>\n",
       "      <th>1/28/20</th>\n",
       "      <th>1/29/20</th>\n",
       "      <th>1/30/20</th>\n",
       "      <th>...</th>\n",
       "      <th>12/4/21</th>\n",
       "      <th>12/5/21</th>\n",
       "      <th>12/6/21</th>\n",
       "      <th>12/7/21</th>\n",
       "      <th>12/8/21</th>\n",
       "      <th>12/9/21</th>\n",
       "      <th>12/10/21</th>\n",
       "      <th>12/11/21</th>\n",
       "      <th>12/12/21</th>\n",
       "      <th>12/13/21</th>\n",
       "    </tr>\n",
       "  </thead>\n",
       "  <tbody>\n",
       "    <tr>\n",
       "      <th>0</th>\n",
       "      <td>Afghanistan</td>\n",
       "      <td>0</td>\n",
       "      <td>0</td>\n",
       "      <td>0</td>\n",
       "      <td>0</td>\n",
       "      <td>0</td>\n",
       "      <td>0</td>\n",
       "      <td>0</td>\n",
       "      <td>0</td>\n",
       "      <td>0</td>\n",
       "      <td>...</td>\n",
       "      <td>157431</td>\n",
       "      <td>157445</td>\n",
       "      <td>157499</td>\n",
       "      <td>157508</td>\n",
       "      <td>157542</td>\n",
       "      <td>157585</td>\n",
       "      <td>157858</td>\n",
       "      <td>157858</td>\n",
       "      <td>157858</td>\n",
       "      <td>157648</td>\n",
       "    </tr>\n",
       "    <tr>\n",
       "      <th>1</th>\n",
       "      <td>Albania</td>\n",
       "      <td>0</td>\n",
       "      <td>0</td>\n",
       "      <td>0</td>\n",
       "      <td>0</td>\n",
       "      <td>0</td>\n",
       "      <td>0</td>\n",
       "      <td>0</td>\n",
       "      <td>0</td>\n",
       "      <td>0</td>\n",
       "      <td>...</td>\n",
       "      <td>201402</td>\n",
       "      <td>201730</td>\n",
       "      <td>201902</td>\n",
       "      <td>202295</td>\n",
       "      <td>202641</td>\n",
       "      <td>202863</td>\n",
       "      <td>203215</td>\n",
       "      <td>203524</td>\n",
       "      <td>203787</td>\n",
       "      <td>203925</td>\n",
       "    </tr>\n",
       "    <tr>\n",
       "      <th>2</th>\n",
       "      <td>Algeria</td>\n",
       "      <td>0</td>\n",
       "      <td>0</td>\n",
       "      <td>0</td>\n",
       "      <td>0</td>\n",
       "      <td>0</td>\n",
       "      <td>0</td>\n",
       "      <td>0</td>\n",
       "      <td>0</td>\n",
       "      <td>0</td>\n",
       "      <td>...</td>\n",
       "      <td>211297</td>\n",
       "      <td>211469</td>\n",
       "      <td>211662</td>\n",
       "      <td>211859</td>\n",
       "      <td>212047</td>\n",
       "      <td>212224</td>\n",
       "      <td>212434</td>\n",
       "      <td>212652</td>\n",
       "      <td>212848</td>\n",
       "      <td>213058</td>\n",
       "    </tr>\n",
       "    <tr>\n",
       "      <th>3</th>\n",
       "      <td>Andorra</td>\n",
       "      <td>0</td>\n",
       "      <td>0</td>\n",
       "      <td>0</td>\n",
       "      <td>0</td>\n",
       "      <td>0</td>\n",
       "      <td>0</td>\n",
       "      <td>0</td>\n",
       "      <td>0</td>\n",
       "      <td>0</td>\n",
       "      <td>...</td>\n",
       "      <td>18010</td>\n",
       "      <td>18010</td>\n",
       "      <td>18631</td>\n",
       "      <td>18815</td>\n",
       "      <td>18815</td>\n",
       "      <td>19272</td>\n",
       "      <td>19440</td>\n",
       "      <td>19440</td>\n",
       "      <td>19440</td>\n",
       "      <td>19440</td>\n",
       "    </tr>\n",
       "    <tr>\n",
       "      <th>4</th>\n",
       "      <td>Angola</td>\n",
       "      <td>0</td>\n",
       "      <td>0</td>\n",
       "      <td>0</td>\n",
       "      <td>0</td>\n",
       "      <td>0</td>\n",
       "      <td>0</td>\n",
       "      <td>0</td>\n",
       "      <td>0</td>\n",
       "      <td>0</td>\n",
       "      <td>...</td>\n",
       "      <td>65244</td>\n",
       "      <td>65259</td>\n",
       "      <td>65259</td>\n",
       "      <td>65301</td>\n",
       "      <td>65332</td>\n",
       "      <td>65346</td>\n",
       "      <td>65371</td>\n",
       "      <td>65397</td>\n",
       "      <td>65404</td>\n",
       "      <td>65404</td>\n",
       "    </tr>\n",
       "    <tr>\n",
       "      <th>...</th>\n",
       "      <td>...</td>\n",
       "      <td>...</td>\n",
       "      <td>...</td>\n",
       "      <td>...</td>\n",
       "      <td>...</td>\n",
       "      <td>...</td>\n",
       "      <td>...</td>\n",
       "      <td>...</td>\n",
       "      <td>...</td>\n",
       "      <td>...</td>\n",
       "      <td>...</td>\n",
       "      <td>...</td>\n",
       "      <td>...</td>\n",
       "      <td>...</td>\n",
       "      <td>...</td>\n",
       "      <td>...</td>\n",
       "      <td>...</td>\n",
       "      <td>...</td>\n",
       "      <td>...</td>\n",
       "      <td>...</td>\n",
       "      <td>...</td>\n",
       "    </tr>\n",
       "    <tr>\n",
       "      <th>275</th>\n",
       "      <td>Vietnam</td>\n",
       "      <td>0</td>\n",
       "      <td>2</td>\n",
       "      <td>2</td>\n",
       "      <td>2</td>\n",
       "      <td>2</td>\n",
       "      <td>2</td>\n",
       "      <td>2</td>\n",
       "      <td>2</td>\n",
       "      <td>2</td>\n",
       "      <td>...</td>\n",
       "      <td>1294778</td>\n",
       "      <td>1309092</td>\n",
       "      <td>1323683</td>\n",
       "      <td>1337523</td>\n",
       "      <td>1352122</td>\n",
       "      <td>1367433</td>\n",
       "      <td>1382272</td>\n",
       "      <td>1398413</td>\n",
       "      <td>1413051</td>\n",
       "      <td>1428428</td>\n",
       "    </tr>\n",
       "    <tr>\n",
       "      <th>276</th>\n",
       "      <td>West Bank and Gaza</td>\n",
       "      <td>0</td>\n",
       "      <td>0</td>\n",
       "      <td>0</td>\n",
       "      <td>0</td>\n",
       "      <td>0</td>\n",
       "      <td>0</td>\n",
       "      <td>0</td>\n",
       "      <td>0</td>\n",
       "      <td>0</td>\n",
       "      <td>...</td>\n",
       "      <td>461467</td>\n",
       "      <td>461467</td>\n",
       "      <td>462219</td>\n",
       "      <td>462621</td>\n",
       "      <td>462958</td>\n",
       "      <td>463277</td>\n",
       "      <td>463573</td>\n",
       "      <td>463573</td>\n",
       "      <td>463573</td>\n",
       "      <td>464341</td>\n",
       "    </tr>\n",
       "    <tr>\n",
       "      <th>277</th>\n",
       "      <td>Yemen</td>\n",
       "      <td>0</td>\n",
       "      <td>0</td>\n",
       "      <td>0</td>\n",
       "      <td>0</td>\n",
       "      <td>0</td>\n",
       "      <td>0</td>\n",
       "      <td>0</td>\n",
       "      <td>0</td>\n",
       "      <td>0</td>\n",
       "      <td>...</td>\n",
       "      <td>10021</td>\n",
       "      <td>10025</td>\n",
       "      <td>10034</td>\n",
       "      <td>10043</td>\n",
       "      <td>10047</td>\n",
       "      <td>10047</td>\n",
       "      <td>10056</td>\n",
       "      <td>10063</td>\n",
       "      <td>10069</td>\n",
       "      <td>10072</td>\n",
       "    </tr>\n",
       "    <tr>\n",
       "      <th>278</th>\n",
       "      <td>Zambia</td>\n",
       "      <td>0</td>\n",
       "      <td>0</td>\n",
       "      <td>0</td>\n",
       "      <td>0</td>\n",
       "      <td>0</td>\n",
       "      <td>0</td>\n",
       "      <td>0</td>\n",
       "      <td>0</td>\n",
       "      <td>0</td>\n",
       "      <td>...</td>\n",
       "      <td>210294</td>\n",
       "      <td>210312</td>\n",
       "      <td>210327</td>\n",
       "      <td>210374</td>\n",
       "      <td>210436</td>\n",
       "      <td>210562</td>\n",
       "      <td>210724</td>\n",
       "      <td>210959</td>\n",
       "      <td>211077</td>\n",
       "      <td>211234</td>\n",
       "    </tr>\n",
       "    <tr>\n",
       "      <th>279</th>\n",
       "      <td>Zimbabwe</td>\n",
       "      <td>0</td>\n",
       "      <td>0</td>\n",
       "      <td>0</td>\n",
       "      <td>0</td>\n",
       "      <td>0</td>\n",
       "      <td>0</td>\n",
       "      <td>0</td>\n",
       "      <td>0</td>\n",
       "      <td>0</td>\n",
       "      <td>...</td>\n",
       "      <td>138523</td>\n",
       "      <td>139046</td>\n",
       "      <td>139046</td>\n",
       "      <td>141601</td>\n",
       "      <td>150628</td>\n",
       "      <td>155817</td>\n",
       "      <td>155817</td>\n",
       "      <td>165002</td>\n",
       "      <td>167140</td>\n",
       "      <td>167140</td>\n",
       "    </tr>\n",
       "  </tbody>\n",
       "</table>\n",
       "<p>193 rows × 693 columns</p>\n",
       "</div>"
      ],
      "text/plain": [
       "         Country/Region  1/22/20  1/23/20  1/24/20  1/25/20  1/26/20  1/27/20  \\\n",
       "0           Afghanistan        0        0        0        0        0        0   \n",
       "1               Albania        0        0        0        0        0        0   \n",
       "2               Algeria        0        0        0        0        0        0   \n",
       "3               Andorra        0        0        0        0        0        0   \n",
       "4                Angola        0        0        0        0        0        0   \n",
       "..                  ...      ...      ...      ...      ...      ...      ...   \n",
       "275             Vietnam        0        2        2        2        2        2   \n",
       "276  West Bank and Gaza        0        0        0        0        0        0   \n",
       "277               Yemen        0        0        0        0        0        0   \n",
       "278              Zambia        0        0        0        0        0        0   \n",
       "279            Zimbabwe        0        0        0        0        0        0   \n",
       "\n",
       "     1/28/20  1/29/20  1/30/20  ...  12/4/21  12/5/21  12/6/21  12/7/21  \\\n",
       "0          0        0        0  ...   157431   157445   157499   157508   \n",
       "1          0        0        0  ...   201402   201730   201902   202295   \n",
       "2          0        0        0  ...   211297   211469   211662   211859   \n",
       "3          0        0        0  ...    18010    18010    18631    18815   \n",
       "4          0        0        0  ...    65244    65259    65259    65301   \n",
       "..       ...      ...      ...  ...      ...      ...      ...      ...   \n",
       "275        2        2        2  ...  1294778  1309092  1323683  1337523   \n",
       "276        0        0        0  ...   461467   461467   462219   462621   \n",
       "277        0        0        0  ...    10021    10025    10034    10043   \n",
       "278        0        0        0  ...   210294   210312   210327   210374   \n",
       "279        0        0        0  ...   138523   139046   139046   141601   \n",
       "\n",
       "     12/8/21  12/9/21  12/10/21  12/11/21  12/12/21  12/13/21  \n",
       "0     157542   157585    157858    157858    157858    157648  \n",
       "1     202641   202863    203215    203524    203787    203925  \n",
       "2     212047   212224    212434    212652    212848    213058  \n",
       "3      18815    19272     19440     19440     19440     19440  \n",
       "4      65332    65346     65371     65397     65404     65404  \n",
       "..       ...      ...       ...       ...       ...       ...  \n",
       "275  1352122  1367433   1382272   1398413   1413051   1428428  \n",
       "276   462958   463277    463573    463573    463573    464341  \n",
       "277    10047    10047     10056     10063     10069     10072  \n",
       "278   210436   210562    210724    210959    211077    211234  \n",
       "279   150628   155817    155817    165002    167140    167140  \n",
       "\n",
       "[193 rows x 693 columns]"
      ]
     },
     "execution_count": 25,
     "metadata": {},
     "output_type": "execute_result"
    }
   ],
   "source": [
    "daily_time_url ='https://github.com/CSSEGISandData/COVID-19/blob/master/csse_covid_19_data/csse_covid_19_time_series/time_series_covid19_confirmed_global.csv?raw=true'\n",
    "daily_time_df = pd.read_csv(daily_time_url)\n",
    "daily_time_df = daily_time_df.drop([\"Lat\",\"Long\"], axis =1)\n",
    "daily_time_df= daily_time_df[(daily_time_df['Province/State'].isnull())]\n",
    "daily_time_df = daily_time_df.drop([\"Province/State\"], axis =1)\n",
    "daily_time_df"
   ]
  },
  {
   "cell_type": "code",
   "execution_count": 33,
   "metadata": {},
   "outputs": [
    {
     "data": {
      "text/html": [
       "<div>\n",
       "<style scoped>\n",
       "    .dataframe tbody tr th:only-of-type {\n",
       "        vertical-align: middle;\n",
       "    }\n",
       "\n",
       "    .dataframe tbody tr th {\n",
       "        vertical-align: top;\n",
       "    }\n",
       "\n",
       "    .dataframe thead th {\n",
       "        text-align: right;\n",
       "    }\n",
       "</style>\n",
       "<table border=\"1\" class=\"dataframe\">\n",
       "  <thead>\n",
       "    <tr style=\"text-align: right;\">\n",
       "      <th></th>\n",
       "      <th>date</th>\n",
       "      <th>Confirmed</th>\n",
       "    </tr>\n",
       "  </thead>\n",
       "  <tbody>\n",
       "    <tr>\n",
       "      <th>0</th>\n",
       "      <td>1/22/20</td>\n",
       "      <td>0</td>\n",
       "    </tr>\n",
       "    <tr>\n",
       "      <th>1</th>\n",
       "      <td>1/23/20</td>\n",
       "      <td>0</td>\n",
       "    </tr>\n",
       "    <tr>\n",
       "      <th>2</th>\n",
       "      <td>1/24/20</td>\n",
       "      <td>0</td>\n",
       "    </tr>\n",
       "    <tr>\n",
       "      <th>3</th>\n",
       "      <td>1/25/20</td>\n",
       "      <td>0</td>\n",
       "    </tr>\n",
       "    <tr>\n",
       "      <th>4</th>\n",
       "      <td>1/26/20</td>\n",
       "      <td>0</td>\n",
       "    </tr>\n",
       "    <tr>\n",
       "      <th>...</th>\n",
       "      <td>...</td>\n",
       "      <td>...</td>\n",
       "    </tr>\n",
       "    <tr>\n",
       "      <th>688</th>\n",
       "      <td>12/10/21</td>\n",
       "      <td>6496142</td>\n",
       "    </tr>\n",
       "    <tr>\n",
       "      <th>689</th>\n",
       "      <td>12/11/21</td>\n",
       "      <td>6528894</td>\n",
       "    </tr>\n",
       "    <tr>\n",
       "      <th>690</th>\n",
       "      <td>12/12/21</td>\n",
       "      <td>6546010</td>\n",
       "    </tr>\n",
       "    <tr>\n",
       "      <th>691</th>\n",
       "      <td>12/13/21</td>\n",
       "      <td>6581433</td>\n",
       "    </tr>\n",
       "    <tr>\n",
       "      <th>692</th>\n",
       "      <td>12/14/21</td>\n",
       "      <td>6633666</td>\n",
       "    </tr>\n",
       "  </tbody>\n",
       "</table>\n",
       "<p>693 rows × 2 columns</p>\n",
       "</div>"
      ],
      "text/plain": [
       "         date  Confirmed\n",
       "0     1/22/20          0\n",
       "1     1/23/20          0\n",
       "2     1/24/20          0\n",
       "3     1/25/20          0\n",
       "4     1/26/20          0\n",
       "..        ...        ...\n",
       "688  12/10/21    6496142\n",
       "689  12/11/21    6528894\n",
       "690  12/12/21    6546010\n",
       "691  12/13/21    6581433\n",
       "692  12/14/21    6633666\n",
       "\n",
       "[693 rows x 2 columns]"
      ]
     },
     "execution_count": 33,
     "metadata": {},
     "output_type": "execute_result"
    }
   ],
   "source": [
    "def make_country_confirmed_df(country):\n",
    "    url_time_confirmed = 'https://github.com/CSSEGISandData/COVID-19/blob/master/csse_covid_19_data/csse_covid_19_time_series/time_series_covid19_confirmed_global.csv?raw=true'\n",
    "    df = pd.read_csv(url_time_confirmed)\n",
    "    df = df.loc[df[\"Country/Region\"] == country]\n",
    "    df = df.drop(columns=[\"Province/State\", \"Country/Region\",\n",
    "                 \"Lat\", \"Long\"]).sum().reset_index(name=\"Confirmed\")\n",
    "    df = df.rename(columns={\"index\": \"date\"})\n",
    "    return df\n",
    "make_country_confirmed_df(\"Germany\")"
   ]
  },
  {
   "cell_type": "code",
   "execution_count": 35,
   "metadata": {},
   "outputs": [
    {
     "ename": "ValueError",
     "evalue": "Value of 'hover_data_0' is not the name of a column in 'data_frame'. Expected one of ['date', 'Confirmed'] but received: value",
     "output_type": "error",
     "traceback": [
      "\u001b[0;31m---------------------------------------------------------------------------\u001b[0m",
      "\u001b[0;31mValueError\u001b[0m                                Traceback (most recent call last)",
      "\u001b[0;32m<ipython-input-35-e6647e8589e4>\u001b[0m in \u001b[0;36m<module>\u001b[0;34m\u001b[0m\n\u001b[1;32m     10\u001b[0m \u001b[0mdf\u001b[0m \u001b[0;34m=\u001b[0m \u001b[0mmake_country_confirmed_df\u001b[0m\u001b[0;34m(\u001b[0m\u001b[0;34m\"Germany\"\u001b[0m\u001b[0;34m)\u001b[0m\u001b[0;34m\u001b[0m\u001b[0;34m\u001b[0m\u001b[0m\n\u001b[1;32m     11\u001b[0m \u001b[0;34m\u001b[0m\u001b[0m\n\u001b[0;32m---> 12\u001b[0;31m fig = px.line(\n\u001b[0m\u001b[1;32m     13\u001b[0m         \u001b[0mdf\u001b[0m\u001b[0;34m,\u001b[0m\u001b[0;34m\u001b[0m\u001b[0;34m\u001b[0m\u001b[0m\n\u001b[1;32m     14\u001b[0m         \u001b[0mx\u001b[0m\u001b[0;34m=\u001b[0m\u001b[0;34m\"date\"\u001b[0m\u001b[0;34m,\u001b[0m\u001b[0;34m\u001b[0m\u001b[0;34m\u001b[0m\u001b[0m\n",
      "\u001b[0;32m~/.local/lib/python3.8/site-packages/plotly/express/_chart_types.py\u001b[0m in \u001b[0;36mline\u001b[0;34m(data_frame, x, y, line_group, color, line_dash, symbol, hover_name, hover_data, custom_data, text, facet_row, facet_col, facet_col_wrap, facet_row_spacing, facet_col_spacing, error_x, error_x_minus, error_y, error_y_minus, animation_frame, animation_group, category_orders, labels, orientation, color_discrete_sequence, color_discrete_map, line_dash_sequence, line_dash_map, symbol_sequence, symbol_map, markers, log_x, log_y, range_x, range_y, line_shape, render_mode, title, template, width, height)\u001b[0m\n\u001b[1;32m    258\u001b[0m     \u001b[0ma\u001b[0m \u001b[0mpolyline\u001b[0m \u001b[0mmark\u001b[0m \u001b[0;32min\u001b[0m \u001b[0;36m2\u001b[0m\u001b[0mD\u001b[0m \u001b[0mspace\u001b[0m\u001b[0;34m.\u001b[0m\u001b[0;34m\u001b[0m\u001b[0;34m\u001b[0m\u001b[0m\n\u001b[1;32m    259\u001b[0m     \"\"\"\n\u001b[0;32m--> 260\u001b[0;31m     \u001b[0;32mreturn\u001b[0m \u001b[0mmake_figure\u001b[0m\u001b[0;34m(\u001b[0m\u001b[0margs\u001b[0m\u001b[0;34m=\u001b[0m\u001b[0mlocals\u001b[0m\u001b[0;34m(\u001b[0m\u001b[0;34m)\u001b[0m\u001b[0;34m,\u001b[0m \u001b[0mconstructor\u001b[0m\u001b[0;34m=\u001b[0m\u001b[0mgo\u001b[0m\u001b[0;34m.\u001b[0m\u001b[0mScatter\u001b[0m\u001b[0;34m)\u001b[0m\u001b[0;34m\u001b[0m\u001b[0;34m\u001b[0m\u001b[0m\n\u001b[0m\u001b[1;32m    261\u001b[0m \u001b[0;34m\u001b[0m\u001b[0m\n\u001b[1;32m    262\u001b[0m \u001b[0;34m\u001b[0m\u001b[0m\n",
      "\u001b[0;32m~/.local/lib/python3.8/site-packages/plotly/express/_core.py\u001b[0m in \u001b[0;36mmake_figure\u001b[0;34m(args, constructor, trace_patch, layout_patch)\u001b[0m\n\u001b[1;32m   1931\u001b[0m     \u001b[0mapply_default_cascade\u001b[0m\u001b[0;34m(\u001b[0m\u001b[0margs\u001b[0m\u001b[0;34m)\u001b[0m\u001b[0;34m\u001b[0m\u001b[0;34m\u001b[0m\u001b[0m\n\u001b[1;32m   1932\u001b[0m \u001b[0;34m\u001b[0m\u001b[0m\n\u001b[0;32m-> 1933\u001b[0;31m     \u001b[0margs\u001b[0m \u001b[0;34m=\u001b[0m \u001b[0mbuild_dataframe\u001b[0m\u001b[0;34m(\u001b[0m\u001b[0margs\u001b[0m\u001b[0;34m,\u001b[0m \u001b[0mconstructor\u001b[0m\u001b[0;34m)\u001b[0m\u001b[0;34m\u001b[0m\u001b[0;34m\u001b[0m\u001b[0m\n\u001b[0m\u001b[1;32m   1934\u001b[0m     \u001b[0;32mif\u001b[0m \u001b[0mconstructor\u001b[0m \u001b[0;32min\u001b[0m \u001b[0;34m[\u001b[0m\u001b[0mgo\u001b[0m\u001b[0;34m.\u001b[0m\u001b[0mTreemap\u001b[0m\u001b[0;34m,\u001b[0m \u001b[0mgo\u001b[0m\u001b[0;34m.\u001b[0m\u001b[0mSunburst\u001b[0m\u001b[0;34m,\u001b[0m \u001b[0mgo\u001b[0m\u001b[0;34m.\u001b[0m\u001b[0mIcicle\u001b[0m\u001b[0;34m]\u001b[0m \u001b[0;32mand\u001b[0m \u001b[0margs\u001b[0m\u001b[0;34m[\u001b[0m\u001b[0;34m\"path\"\u001b[0m\u001b[0;34m]\u001b[0m \u001b[0;32mis\u001b[0m \u001b[0;32mnot\u001b[0m \u001b[0;32mNone\u001b[0m\u001b[0;34m:\u001b[0m\u001b[0;34m\u001b[0m\u001b[0;34m\u001b[0m\u001b[0m\n\u001b[1;32m   1935\u001b[0m         \u001b[0margs\u001b[0m \u001b[0;34m=\u001b[0m \u001b[0mprocess_dataframe_hierarchy\u001b[0m\u001b[0;34m(\u001b[0m\u001b[0margs\u001b[0m\u001b[0;34m)\u001b[0m\u001b[0;34m\u001b[0m\u001b[0;34m\u001b[0m\u001b[0m\n",
      "\u001b[0;32m~/.local/lib/python3.8/site-packages/plotly/express/_core.py\u001b[0m in \u001b[0;36mbuild_dataframe\u001b[0;34m(args, constructor)\u001b[0m\n\u001b[1;32m   1403\u001b[0m     \u001b[0;31m# now that things have been prepped, we do the systematic rewriting of `args`\u001b[0m\u001b[0;34m\u001b[0m\u001b[0;34m\u001b[0m\u001b[0;34m\u001b[0m\u001b[0m\n\u001b[1;32m   1404\u001b[0m \u001b[0;34m\u001b[0m\u001b[0m\n\u001b[0;32m-> 1405\u001b[0;31m     df_output, wide_id_vars = process_args_into_dataframe(\n\u001b[0m\u001b[1;32m   1406\u001b[0m         \u001b[0margs\u001b[0m\u001b[0;34m,\u001b[0m \u001b[0mwide_mode\u001b[0m\u001b[0;34m,\u001b[0m \u001b[0mvar_name\u001b[0m\u001b[0;34m,\u001b[0m \u001b[0mvalue_name\u001b[0m\u001b[0;34m\u001b[0m\u001b[0;34m\u001b[0m\u001b[0m\n\u001b[1;32m   1407\u001b[0m     )\n",
      "\u001b[0;32m~/.local/lib/python3.8/site-packages/plotly/express/_core.py\u001b[0m in \u001b[0;36mprocess_args_into_dataframe\u001b[0;34m(args, wide_mode, var_name, value_name)\u001b[0m\n\u001b[1;32m   1205\u001b[0m                         \u001b[0;32mif\u001b[0m \u001b[0margument\u001b[0m \u001b[0;34m==\u001b[0m \u001b[0;34m\"index\"\u001b[0m\u001b[0;34m:\u001b[0m\u001b[0;34m\u001b[0m\u001b[0;34m\u001b[0m\u001b[0m\n\u001b[1;32m   1206\u001b[0m                             \u001b[0merr_msg\u001b[0m \u001b[0;34m+=\u001b[0m \u001b[0;34m\"\\n To use the index, pass it in directly as `df.index`.\"\u001b[0m\u001b[0;34m\u001b[0m\u001b[0;34m\u001b[0m\u001b[0m\n\u001b[0;32m-> 1207\u001b[0;31m                         \u001b[0;32mraise\u001b[0m \u001b[0mValueError\u001b[0m\u001b[0;34m(\u001b[0m\u001b[0merr_msg\u001b[0m\u001b[0;34m)\u001b[0m\u001b[0;34m\u001b[0m\u001b[0;34m\u001b[0m\u001b[0m\n\u001b[0m\u001b[1;32m   1208\u001b[0m                 \u001b[0;32melif\u001b[0m \u001b[0mlength\u001b[0m \u001b[0;32mand\u001b[0m \u001b[0mlen\u001b[0m\u001b[0;34m(\u001b[0m\u001b[0mdf_input\u001b[0m\u001b[0;34m[\u001b[0m\u001b[0margument\u001b[0m\u001b[0;34m]\u001b[0m\u001b[0;34m)\u001b[0m \u001b[0;34m!=\u001b[0m \u001b[0mlength\u001b[0m\u001b[0;34m:\u001b[0m\u001b[0;34m\u001b[0m\u001b[0;34m\u001b[0m\u001b[0m\n\u001b[1;32m   1209\u001b[0m                     raise ValueError(\n",
      "\u001b[0;31mValueError\u001b[0m: Value of 'hover_data_0' is not the name of a column in 'data_frame'. Expected one of ['date', 'Confirmed'] but received: value"
     ]
    }
   ],
   "source": [
    "def make_country_confirmed_df(country):\n",
    "    url_time_confirmed = 'https://github.com/CSSEGISandData/COVID-19/blob/master/csse_covid_19_data/csse_covid_19_time_series/time_series_covid19_confirmed_global.csv?raw=true'\n",
    "    df = pd.read_csv(url_time_confirmed)\n",
    "    df = df.loc[df[\"Country/Region\"] == country]\n",
    "    df = df.drop(columns=[\"Province/State\", \"Country/Region\",\n",
    "                 \"Lat\", \"Long\"]).sum().reset_index(name=\"Confirmed\")\n",
    "    df = df.rename(columns={\"index\": \"date\"})\n",
    "    return df\n",
    "\n",
    "df = make_country_confirmed_df(\"Germany\")\n",
    "\n",
    "fig = px.line(\n",
    "        df,\n",
    "        x=\"date\",\n",
    "        y=\"Confirmed\",\n",
    "        template=\"plotly_dark\",\n",
    "        labels={\"value\": \"Cases\", \"variable\": \"Confirmed\", \"date\": \"Date\"},\n",
    "        hover_data={\"value\": \":,\", \"variable\": False, \"date\": False},\n",
    "    )\n",
    "\n",
    "fig.show()"
   ]
  },
  {
   "cell_type": "code",
   "execution_count": 25,
   "metadata": {},
   "outputs": [
    {
     "data": {
      "application/vnd.plotly.v1+json": {
       "config": {
        "plotlyServerURL": "https://plot.ly"
       },
       "data": [
        {
         "type": "scatter",
         "x": [
          3,
          4,
          5
         ],
         "xaxis": "x",
         "y": [
          1000,
          1100,
          1200
         ],
         "yaxis": "y"
        },
        {
         "type": "scatter",
         "x": [
          2,
          3,
          4
         ],
         "xaxis": "x2",
         "y": [
          100,
          110,
          120
         ],
         "yaxis": "y2"
        },
        {
         "type": "scatter",
         "x": [
          0,
          1,
          2
         ],
         "xaxis": "x3",
         "y": [
          10,
          11,
          12
         ],
         "yaxis": "y3"
        }
       ],
       "layout": {
        "height": 600,
        "template": {
         "data": {
          "bar": [
           {
            "error_x": {
             "color": "#2a3f5f"
            },
            "error_y": {
             "color": "#2a3f5f"
            },
            "marker": {
             "line": {
              "color": "#E5ECF6",
              "width": 0.5
             },
             "pattern": {
              "fillmode": "overlay",
              "size": 10,
              "solidity": 0.2
             }
            },
            "type": "bar"
           }
          ],
          "barpolar": [
           {
            "marker": {
             "line": {
              "color": "#E5ECF6",
              "width": 0.5
             },
             "pattern": {
              "fillmode": "overlay",
              "size": 10,
              "solidity": 0.2
             }
            },
            "type": "barpolar"
           }
          ],
          "carpet": [
           {
            "aaxis": {
             "endlinecolor": "#2a3f5f",
             "gridcolor": "white",
             "linecolor": "white",
             "minorgridcolor": "white",
             "startlinecolor": "#2a3f5f"
            },
            "baxis": {
             "endlinecolor": "#2a3f5f",
             "gridcolor": "white",
             "linecolor": "white",
             "minorgridcolor": "white",
             "startlinecolor": "#2a3f5f"
            },
            "type": "carpet"
           }
          ],
          "choropleth": [
           {
            "colorbar": {
             "outlinewidth": 0,
             "ticks": ""
            },
            "type": "choropleth"
           }
          ],
          "contour": [
           {
            "colorbar": {
             "outlinewidth": 0,
             "ticks": ""
            },
            "colorscale": [
             [
              0,
              "#0d0887"
             ],
             [
              0.1111111111111111,
              "#46039f"
             ],
             [
              0.2222222222222222,
              "#7201a8"
             ],
             [
              0.3333333333333333,
              "#9c179e"
             ],
             [
              0.4444444444444444,
              "#bd3786"
             ],
             [
              0.5555555555555556,
              "#d8576b"
             ],
             [
              0.6666666666666666,
              "#ed7953"
             ],
             [
              0.7777777777777778,
              "#fb9f3a"
             ],
             [
              0.8888888888888888,
              "#fdca26"
             ],
             [
              1,
              "#f0f921"
             ]
            ],
            "type": "contour"
           }
          ],
          "contourcarpet": [
           {
            "colorbar": {
             "outlinewidth": 0,
             "ticks": ""
            },
            "type": "contourcarpet"
           }
          ],
          "heatmap": [
           {
            "colorbar": {
             "outlinewidth": 0,
             "ticks": ""
            },
            "colorscale": [
             [
              0,
              "#0d0887"
             ],
             [
              0.1111111111111111,
              "#46039f"
             ],
             [
              0.2222222222222222,
              "#7201a8"
             ],
             [
              0.3333333333333333,
              "#9c179e"
             ],
             [
              0.4444444444444444,
              "#bd3786"
             ],
             [
              0.5555555555555556,
              "#d8576b"
             ],
             [
              0.6666666666666666,
              "#ed7953"
             ],
             [
              0.7777777777777778,
              "#fb9f3a"
             ],
             [
              0.8888888888888888,
              "#fdca26"
             ],
             [
              1,
              "#f0f921"
             ]
            ],
            "type": "heatmap"
           }
          ],
          "heatmapgl": [
           {
            "colorbar": {
             "outlinewidth": 0,
             "ticks": ""
            },
            "colorscale": [
             [
              0,
              "#0d0887"
             ],
             [
              0.1111111111111111,
              "#46039f"
             ],
             [
              0.2222222222222222,
              "#7201a8"
             ],
             [
              0.3333333333333333,
              "#9c179e"
             ],
             [
              0.4444444444444444,
              "#bd3786"
             ],
             [
              0.5555555555555556,
              "#d8576b"
             ],
             [
              0.6666666666666666,
              "#ed7953"
             ],
             [
              0.7777777777777778,
              "#fb9f3a"
             ],
             [
              0.8888888888888888,
              "#fdca26"
             ],
             [
              1,
              "#f0f921"
             ]
            ],
            "type": "heatmapgl"
           }
          ],
          "histogram": [
           {
            "marker": {
             "pattern": {
              "fillmode": "overlay",
              "size": 10,
              "solidity": 0.2
             }
            },
            "type": "histogram"
           }
          ],
          "histogram2d": [
           {
            "colorbar": {
             "outlinewidth": 0,
             "ticks": ""
            },
            "colorscale": [
             [
              0,
              "#0d0887"
             ],
             [
              0.1111111111111111,
              "#46039f"
             ],
             [
              0.2222222222222222,
              "#7201a8"
             ],
             [
              0.3333333333333333,
              "#9c179e"
             ],
             [
              0.4444444444444444,
              "#bd3786"
             ],
             [
              0.5555555555555556,
              "#d8576b"
             ],
             [
              0.6666666666666666,
              "#ed7953"
             ],
             [
              0.7777777777777778,
              "#fb9f3a"
             ],
             [
              0.8888888888888888,
              "#fdca26"
             ],
             [
              1,
              "#f0f921"
             ]
            ],
            "type": "histogram2d"
           }
          ],
          "histogram2dcontour": [
           {
            "colorbar": {
             "outlinewidth": 0,
             "ticks": ""
            },
            "colorscale": [
             [
              0,
              "#0d0887"
             ],
             [
              0.1111111111111111,
              "#46039f"
             ],
             [
              0.2222222222222222,
              "#7201a8"
             ],
             [
              0.3333333333333333,
              "#9c179e"
             ],
             [
              0.4444444444444444,
              "#bd3786"
             ],
             [
              0.5555555555555556,
              "#d8576b"
             ],
             [
              0.6666666666666666,
              "#ed7953"
             ],
             [
              0.7777777777777778,
              "#fb9f3a"
             ],
             [
              0.8888888888888888,
              "#fdca26"
             ],
             [
              1,
              "#f0f921"
             ]
            ],
            "type": "histogram2dcontour"
           }
          ],
          "mesh3d": [
           {
            "colorbar": {
             "outlinewidth": 0,
             "ticks": ""
            },
            "type": "mesh3d"
           }
          ],
          "parcoords": [
           {
            "line": {
             "colorbar": {
              "outlinewidth": 0,
              "ticks": ""
             }
            },
            "type": "parcoords"
           }
          ],
          "pie": [
           {
            "automargin": true,
            "type": "pie"
           }
          ],
          "scatter": [
           {
            "marker": {
             "colorbar": {
              "outlinewidth": 0,
              "ticks": ""
             }
            },
            "type": "scatter"
           }
          ],
          "scatter3d": [
           {
            "line": {
             "colorbar": {
              "outlinewidth": 0,
              "ticks": ""
             }
            },
            "marker": {
             "colorbar": {
              "outlinewidth": 0,
              "ticks": ""
             }
            },
            "type": "scatter3d"
           }
          ],
          "scattercarpet": [
           {
            "marker": {
             "colorbar": {
              "outlinewidth": 0,
              "ticks": ""
             }
            },
            "type": "scattercarpet"
           }
          ],
          "scattergeo": [
           {
            "marker": {
             "colorbar": {
              "outlinewidth": 0,
              "ticks": ""
             }
            },
            "type": "scattergeo"
           }
          ],
          "scattergl": [
           {
            "marker": {
             "colorbar": {
              "outlinewidth": 0,
              "ticks": ""
             }
            },
            "type": "scattergl"
           }
          ],
          "scattermapbox": [
           {
            "marker": {
             "colorbar": {
              "outlinewidth": 0,
              "ticks": ""
             }
            },
            "type": "scattermapbox"
           }
          ],
          "scatterpolar": [
           {
            "marker": {
             "colorbar": {
              "outlinewidth": 0,
              "ticks": ""
             }
            },
            "type": "scatterpolar"
           }
          ],
          "scatterpolargl": [
           {
            "marker": {
             "colorbar": {
              "outlinewidth": 0,
              "ticks": ""
             }
            },
            "type": "scatterpolargl"
           }
          ],
          "scatterternary": [
           {
            "marker": {
             "colorbar": {
              "outlinewidth": 0,
              "ticks": ""
             }
            },
            "type": "scatterternary"
           }
          ],
          "surface": [
           {
            "colorbar": {
             "outlinewidth": 0,
             "ticks": ""
            },
            "colorscale": [
             [
              0,
              "#0d0887"
             ],
             [
              0.1111111111111111,
              "#46039f"
             ],
             [
              0.2222222222222222,
              "#7201a8"
             ],
             [
              0.3333333333333333,
              "#9c179e"
             ],
             [
              0.4444444444444444,
              "#bd3786"
             ],
             [
              0.5555555555555556,
              "#d8576b"
             ],
             [
              0.6666666666666666,
              "#ed7953"
             ],
             [
              0.7777777777777778,
              "#fb9f3a"
             ],
             [
              0.8888888888888888,
              "#fdca26"
             ],
             [
              1,
              "#f0f921"
             ]
            ],
            "type": "surface"
           }
          ],
          "table": [
           {
            "cells": {
             "fill": {
              "color": "#EBF0F8"
             },
             "line": {
              "color": "white"
             }
            },
            "header": {
             "fill": {
              "color": "#C8D4E3"
             },
             "line": {
              "color": "white"
             }
            },
            "type": "table"
           }
          ]
         },
         "layout": {
          "annotationdefaults": {
           "arrowcolor": "#2a3f5f",
           "arrowhead": 0,
           "arrowwidth": 1
          },
          "autotypenumbers": "strict",
          "coloraxis": {
           "colorbar": {
            "outlinewidth": 0,
            "ticks": ""
           }
          },
          "colorscale": {
           "diverging": [
            [
             0,
             "#8e0152"
            ],
            [
             0.1,
             "#c51b7d"
            ],
            [
             0.2,
             "#de77ae"
            ],
            [
             0.3,
             "#f1b6da"
            ],
            [
             0.4,
             "#fde0ef"
            ],
            [
             0.5,
             "#f7f7f7"
            ],
            [
             0.6,
             "#e6f5d0"
            ],
            [
             0.7,
             "#b8e186"
            ],
            [
             0.8,
             "#7fbc41"
            ],
            [
             0.9,
             "#4d9221"
            ],
            [
             1,
             "#276419"
            ]
           ],
           "sequential": [
            [
             0,
             "#0d0887"
            ],
            [
             0.1111111111111111,
             "#46039f"
            ],
            [
             0.2222222222222222,
             "#7201a8"
            ],
            [
             0.3333333333333333,
             "#9c179e"
            ],
            [
             0.4444444444444444,
             "#bd3786"
            ],
            [
             0.5555555555555556,
             "#d8576b"
            ],
            [
             0.6666666666666666,
             "#ed7953"
            ],
            [
             0.7777777777777778,
             "#fb9f3a"
            ],
            [
             0.8888888888888888,
             "#fdca26"
            ],
            [
             1,
             "#f0f921"
            ]
           ],
           "sequentialminus": [
            [
             0,
             "#0d0887"
            ],
            [
             0.1111111111111111,
             "#46039f"
            ],
            [
             0.2222222222222222,
             "#7201a8"
            ],
            [
             0.3333333333333333,
             "#9c179e"
            ],
            [
             0.4444444444444444,
             "#bd3786"
            ],
            [
             0.5555555555555556,
             "#d8576b"
            ],
            [
             0.6666666666666666,
             "#ed7953"
            ],
            [
             0.7777777777777778,
             "#fb9f3a"
            ],
            [
             0.8888888888888888,
             "#fdca26"
            ],
            [
             1,
             "#f0f921"
            ]
           ]
          },
          "colorway": [
           "#636efa",
           "#EF553B",
           "#00cc96",
           "#ab63fa",
           "#FFA15A",
           "#19d3f3",
           "#FF6692",
           "#B6E880",
           "#FF97FF",
           "#FECB52"
          ],
          "font": {
           "color": "#2a3f5f"
          },
          "geo": {
           "bgcolor": "white",
           "lakecolor": "white",
           "landcolor": "#E5ECF6",
           "showlakes": true,
           "showland": true,
           "subunitcolor": "white"
          },
          "hoverlabel": {
           "align": "left"
          },
          "hovermode": "closest",
          "mapbox": {
           "style": "light"
          },
          "paper_bgcolor": "white",
          "plot_bgcolor": "#E5ECF6",
          "polar": {
           "angularaxis": {
            "gridcolor": "white",
            "linecolor": "white",
            "ticks": ""
           },
           "bgcolor": "#E5ECF6",
           "radialaxis": {
            "gridcolor": "white",
            "linecolor": "white",
            "ticks": ""
           }
          },
          "scene": {
           "xaxis": {
            "backgroundcolor": "#E5ECF6",
            "gridcolor": "white",
            "gridwidth": 2,
            "linecolor": "white",
            "showbackground": true,
            "ticks": "",
            "zerolinecolor": "white"
           },
           "yaxis": {
            "backgroundcolor": "#E5ECF6",
            "gridcolor": "white",
            "gridwidth": 2,
            "linecolor": "white",
            "showbackground": true,
            "ticks": "",
            "zerolinecolor": "white"
           },
           "zaxis": {
            "backgroundcolor": "#E5ECF6",
            "gridcolor": "white",
            "gridwidth": 2,
            "linecolor": "white",
            "showbackground": true,
            "ticks": "",
            "zerolinecolor": "white"
           }
          },
          "shapedefaults": {
           "line": {
            "color": "#2a3f5f"
           }
          },
          "ternary": {
           "aaxis": {
            "gridcolor": "white",
            "linecolor": "white",
            "ticks": ""
           },
           "baxis": {
            "gridcolor": "white",
            "linecolor": "white",
            "ticks": ""
           },
           "bgcolor": "#E5ECF6",
           "caxis": {
            "gridcolor": "white",
            "linecolor": "white",
            "ticks": ""
           }
          },
          "title": {
           "x": 0.05
          },
          "xaxis": {
           "automargin": true,
           "gridcolor": "white",
           "linecolor": "white",
           "ticks": "",
           "title": {
            "standoff": 15
           },
           "zerolinecolor": "white",
           "zerolinewidth": 2
          },
          "yaxis": {
           "automargin": true,
           "gridcolor": "white",
           "linecolor": "white",
           "ticks": "",
           "title": {
            "standoff": 15
           },
           "zerolinecolor": "white",
           "zerolinewidth": 2
          }
         }
        },
        "title": {
         "text": "Stacked Subplots"
        },
        "width": 600,
        "xaxis": {
         "anchor": "y",
         "domain": [
          0,
          1
         ]
        },
        "xaxis2": {
         "anchor": "y2",
         "domain": [
          0,
          1
         ]
        },
        "xaxis3": {
         "anchor": "y3",
         "domain": [
          0,
          1
         ]
        },
        "yaxis": {
         "anchor": "x",
         "domain": [
          0.7333333333333333,
          1
         ]
        },
        "yaxis2": {
         "anchor": "x2",
         "domain": [
          0.36666666666666664,
          0.6333333333333333
         ]
        },
        "yaxis3": {
         "anchor": "x3",
         "domain": [
          0,
          0.26666666666666666
         ]
        }
       }
      },
      "text/html": [
       "<div>                            <div id=\"57c5dfc8-401f-455e-998a-a9cd0c2ae737\" class=\"plotly-graph-div\" style=\"height:600px; width:600px;\"></div>            <script type=\"text/javascript\">                require([\"plotly\"], function(Plotly) {                    window.PLOTLYENV=window.PLOTLYENV || {};                                    if (document.getElementById(\"57c5dfc8-401f-455e-998a-a9cd0c2ae737\")) {                    Plotly.newPlot(                        \"57c5dfc8-401f-455e-998a-a9cd0c2ae737\",                        [{\"x\":[3,4,5],\"y\":[1000,1100,1200],\"type\":\"scatter\",\"xaxis\":\"x\",\"yaxis\":\"y\"},{\"x\":[2,3,4],\"y\":[100,110,120],\"type\":\"scatter\",\"xaxis\":\"x2\",\"yaxis\":\"y2\"},{\"x\":[0,1,2],\"y\":[10,11,12],\"type\":\"scatter\",\"xaxis\":\"x3\",\"yaxis\":\"y3\"}],                        {\"template\":{\"data\":{\"bar\":[{\"error_x\":{\"color\":\"#2a3f5f\"},\"error_y\":{\"color\":\"#2a3f5f\"},\"marker\":{\"line\":{\"color\":\"#E5ECF6\",\"width\":0.5},\"pattern\":{\"fillmode\":\"overlay\",\"size\":10,\"solidity\":0.2}},\"type\":\"bar\"}],\"barpolar\":[{\"marker\":{\"line\":{\"color\":\"#E5ECF6\",\"width\":0.5},\"pattern\":{\"fillmode\":\"overlay\",\"size\":10,\"solidity\":0.2}},\"type\":\"barpolar\"}],\"carpet\":[{\"aaxis\":{\"endlinecolor\":\"#2a3f5f\",\"gridcolor\":\"white\",\"linecolor\":\"white\",\"minorgridcolor\":\"white\",\"startlinecolor\":\"#2a3f5f\"},\"baxis\":{\"endlinecolor\":\"#2a3f5f\",\"gridcolor\":\"white\",\"linecolor\":\"white\",\"minorgridcolor\":\"white\",\"startlinecolor\":\"#2a3f5f\"},\"type\":\"carpet\"}],\"choropleth\":[{\"colorbar\":{\"outlinewidth\":0,\"ticks\":\"\"},\"type\":\"choropleth\"}],\"contour\":[{\"colorbar\":{\"outlinewidth\":0,\"ticks\":\"\"},\"colorscale\":[[0.0,\"#0d0887\"],[0.1111111111111111,\"#46039f\"],[0.2222222222222222,\"#7201a8\"],[0.3333333333333333,\"#9c179e\"],[0.4444444444444444,\"#bd3786\"],[0.5555555555555556,\"#d8576b\"],[0.6666666666666666,\"#ed7953\"],[0.7777777777777778,\"#fb9f3a\"],[0.8888888888888888,\"#fdca26\"],[1.0,\"#f0f921\"]],\"type\":\"contour\"}],\"contourcarpet\":[{\"colorbar\":{\"outlinewidth\":0,\"ticks\":\"\"},\"type\":\"contourcarpet\"}],\"heatmap\":[{\"colorbar\":{\"outlinewidth\":0,\"ticks\":\"\"},\"colorscale\":[[0.0,\"#0d0887\"],[0.1111111111111111,\"#46039f\"],[0.2222222222222222,\"#7201a8\"],[0.3333333333333333,\"#9c179e\"],[0.4444444444444444,\"#bd3786\"],[0.5555555555555556,\"#d8576b\"],[0.6666666666666666,\"#ed7953\"],[0.7777777777777778,\"#fb9f3a\"],[0.8888888888888888,\"#fdca26\"],[1.0,\"#f0f921\"]],\"type\":\"heatmap\"}],\"heatmapgl\":[{\"colorbar\":{\"outlinewidth\":0,\"ticks\":\"\"},\"colorscale\":[[0.0,\"#0d0887\"],[0.1111111111111111,\"#46039f\"],[0.2222222222222222,\"#7201a8\"],[0.3333333333333333,\"#9c179e\"],[0.4444444444444444,\"#bd3786\"],[0.5555555555555556,\"#d8576b\"],[0.6666666666666666,\"#ed7953\"],[0.7777777777777778,\"#fb9f3a\"],[0.8888888888888888,\"#fdca26\"],[1.0,\"#f0f921\"]],\"type\":\"heatmapgl\"}],\"histogram\":[{\"marker\":{\"pattern\":{\"fillmode\":\"overlay\",\"size\":10,\"solidity\":0.2}},\"type\":\"histogram\"}],\"histogram2d\":[{\"colorbar\":{\"outlinewidth\":0,\"ticks\":\"\"},\"colorscale\":[[0.0,\"#0d0887\"],[0.1111111111111111,\"#46039f\"],[0.2222222222222222,\"#7201a8\"],[0.3333333333333333,\"#9c179e\"],[0.4444444444444444,\"#bd3786\"],[0.5555555555555556,\"#d8576b\"],[0.6666666666666666,\"#ed7953\"],[0.7777777777777778,\"#fb9f3a\"],[0.8888888888888888,\"#fdca26\"],[1.0,\"#f0f921\"]],\"type\":\"histogram2d\"}],\"histogram2dcontour\":[{\"colorbar\":{\"outlinewidth\":0,\"ticks\":\"\"},\"colorscale\":[[0.0,\"#0d0887\"],[0.1111111111111111,\"#46039f\"],[0.2222222222222222,\"#7201a8\"],[0.3333333333333333,\"#9c179e\"],[0.4444444444444444,\"#bd3786\"],[0.5555555555555556,\"#d8576b\"],[0.6666666666666666,\"#ed7953\"],[0.7777777777777778,\"#fb9f3a\"],[0.8888888888888888,\"#fdca26\"],[1.0,\"#f0f921\"]],\"type\":\"histogram2dcontour\"}],\"mesh3d\":[{\"colorbar\":{\"outlinewidth\":0,\"ticks\":\"\"},\"type\":\"mesh3d\"}],\"parcoords\":[{\"line\":{\"colorbar\":{\"outlinewidth\":0,\"ticks\":\"\"}},\"type\":\"parcoords\"}],\"pie\":[{\"automargin\":true,\"type\":\"pie\"}],\"scatter\":[{\"marker\":{\"colorbar\":{\"outlinewidth\":0,\"ticks\":\"\"}},\"type\":\"scatter\"}],\"scatter3d\":[{\"line\":{\"colorbar\":{\"outlinewidth\":0,\"ticks\":\"\"}},\"marker\":{\"colorbar\":{\"outlinewidth\":0,\"ticks\":\"\"}},\"type\":\"scatter3d\"}],\"scattercarpet\":[{\"marker\":{\"colorbar\":{\"outlinewidth\":0,\"ticks\":\"\"}},\"type\":\"scattercarpet\"}],\"scattergeo\":[{\"marker\":{\"colorbar\":{\"outlinewidth\":0,\"ticks\":\"\"}},\"type\":\"scattergeo\"}],\"scattergl\":[{\"marker\":{\"colorbar\":{\"outlinewidth\":0,\"ticks\":\"\"}},\"type\":\"scattergl\"}],\"scattermapbox\":[{\"marker\":{\"colorbar\":{\"outlinewidth\":0,\"ticks\":\"\"}},\"type\":\"scattermapbox\"}],\"scatterpolar\":[{\"marker\":{\"colorbar\":{\"outlinewidth\":0,\"ticks\":\"\"}},\"type\":\"scatterpolar\"}],\"scatterpolargl\":[{\"marker\":{\"colorbar\":{\"outlinewidth\":0,\"ticks\":\"\"}},\"type\":\"scatterpolargl\"}],\"scatterternary\":[{\"marker\":{\"colorbar\":{\"outlinewidth\":0,\"ticks\":\"\"}},\"type\":\"scatterternary\"}],\"surface\":[{\"colorbar\":{\"outlinewidth\":0,\"ticks\":\"\"},\"colorscale\":[[0.0,\"#0d0887\"],[0.1111111111111111,\"#46039f\"],[0.2222222222222222,\"#7201a8\"],[0.3333333333333333,\"#9c179e\"],[0.4444444444444444,\"#bd3786\"],[0.5555555555555556,\"#d8576b\"],[0.6666666666666666,\"#ed7953\"],[0.7777777777777778,\"#fb9f3a\"],[0.8888888888888888,\"#fdca26\"],[1.0,\"#f0f921\"]],\"type\":\"surface\"}],\"table\":[{\"cells\":{\"fill\":{\"color\":\"#EBF0F8\"},\"line\":{\"color\":\"white\"}},\"header\":{\"fill\":{\"color\":\"#C8D4E3\"},\"line\":{\"color\":\"white\"}},\"type\":\"table\"}]},\"layout\":{\"annotationdefaults\":{\"arrowcolor\":\"#2a3f5f\",\"arrowhead\":0,\"arrowwidth\":1},\"autotypenumbers\":\"strict\",\"coloraxis\":{\"colorbar\":{\"outlinewidth\":0,\"ticks\":\"\"}},\"colorscale\":{\"diverging\":[[0,\"#8e0152\"],[0.1,\"#c51b7d\"],[0.2,\"#de77ae\"],[0.3,\"#f1b6da\"],[0.4,\"#fde0ef\"],[0.5,\"#f7f7f7\"],[0.6,\"#e6f5d0\"],[0.7,\"#b8e186\"],[0.8,\"#7fbc41\"],[0.9,\"#4d9221\"],[1,\"#276419\"]],\"sequential\":[[0.0,\"#0d0887\"],[0.1111111111111111,\"#46039f\"],[0.2222222222222222,\"#7201a8\"],[0.3333333333333333,\"#9c179e\"],[0.4444444444444444,\"#bd3786\"],[0.5555555555555556,\"#d8576b\"],[0.6666666666666666,\"#ed7953\"],[0.7777777777777778,\"#fb9f3a\"],[0.8888888888888888,\"#fdca26\"],[1.0,\"#f0f921\"]],\"sequentialminus\":[[0.0,\"#0d0887\"],[0.1111111111111111,\"#46039f\"],[0.2222222222222222,\"#7201a8\"],[0.3333333333333333,\"#9c179e\"],[0.4444444444444444,\"#bd3786\"],[0.5555555555555556,\"#d8576b\"],[0.6666666666666666,\"#ed7953\"],[0.7777777777777778,\"#fb9f3a\"],[0.8888888888888888,\"#fdca26\"],[1.0,\"#f0f921\"]]},\"colorway\":[\"#636efa\",\"#EF553B\",\"#00cc96\",\"#ab63fa\",\"#FFA15A\",\"#19d3f3\",\"#FF6692\",\"#B6E880\",\"#FF97FF\",\"#FECB52\"],\"font\":{\"color\":\"#2a3f5f\"},\"geo\":{\"bgcolor\":\"white\",\"lakecolor\":\"white\",\"landcolor\":\"#E5ECF6\",\"showlakes\":true,\"showland\":true,\"subunitcolor\":\"white\"},\"hoverlabel\":{\"align\":\"left\"},\"hovermode\":\"closest\",\"mapbox\":{\"style\":\"light\"},\"paper_bgcolor\":\"white\",\"plot_bgcolor\":\"#E5ECF6\",\"polar\":{\"angularaxis\":{\"gridcolor\":\"white\",\"linecolor\":\"white\",\"ticks\":\"\"},\"bgcolor\":\"#E5ECF6\",\"radialaxis\":{\"gridcolor\":\"white\",\"linecolor\":\"white\",\"ticks\":\"\"}},\"scene\":{\"xaxis\":{\"backgroundcolor\":\"#E5ECF6\",\"gridcolor\":\"white\",\"gridwidth\":2,\"linecolor\":\"white\",\"showbackground\":true,\"ticks\":\"\",\"zerolinecolor\":\"white\"},\"yaxis\":{\"backgroundcolor\":\"#E5ECF6\",\"gridcolor\":\"white\",\"gridwidth\":2,\"linecolor\":\"white\",\"showbackground\":true,\"ticks\":\"\",\"zerolinecolor\":\"white\"},\"zaxis\":{\"backgroundcolor\":\"#E5ECF6\",\"gridcolor\":\"white\",\"gridwidth\":2,\"linecolor\":\"white\",\"showbackground\":true,\"ticks\":\"\",\"zerolinecolor\":\"white\"}},\"shapedefaults\":{\"line\":{\"color\":\"#2a3f5f\"}},\"ternary\":{\"aaxis\":{\"gridcolor\":\"white\",\"linecolor\":\"white\",\"ticks\":\"\"},\"baxis\":{\"gridcolor\":\"white\",\"linecolor\":\"white\",\"ticks\":\"\"},\"bgcolor\":\"#E5ECF6\",\"caxis\":{\"gridcolor\":\"white\",\"linecolor\":\"white\",\"ticks\":\"\"}},\"title\":{\"x\":0.05},\"xaxis\":{\"automargin\":true,\"gridcolor\":\"white\",\"linecolor\":\"white\",\"ticks\":\"\",\"title\":{\"standoff\":15},\"zerolinecolor\":\"white\",\"zerolinewidth\":2},\"yaxis\":{\"automargin\":true,\"gridcolor\":\"white\",\"linecolor\":\"white\",\"ticks\":\"\",\"title\":{\"standoff\":15},\"zerolinecolor\":\"white\",\"zerolinewidth\":2}}},\"xaxis\":{\"anchor\":\"y\",\"domain\":[0.0,1.0]},\"yaxis\":{\"anchor\":\"x\",\"domain\":[0.7333333333333333,1.0]},\"xaxis2\":{\"anchor\":\"y2\",\"domain\":[0.0,1.0]},\"yaxis2\":{\"anchor\":\"x2\",\"domain\":[0.36666666666666664,0.6333333333333333]},\"xaxis3\":{\"anchor\":\"y3\",\"domain\":[0.0,1.0]},\"yaxis3\":{\"anchor\":\"x3\",\"domain\":[0.0,0.26666666666666666]},\"title\":{\"text\":\"Stacked Subplots\"},\"height\":600,\"width\":600},                        {\"responsive\": true}                    ).then(function(){\n",
       "                            \n",
       "var gd = document.getElementById('57c5dfc8-401f-455e-998a-a9cd0c2ae737');\n",
       "var x = new MutationObserver(function (mutations, observer) {{\n",
       "        var display = window.getComputedStyle(gd).display;\n",
       "        if (!display || display === 'none') {{\n",
       "            console.log([gd, 'removed!']);\n",
       "            Plotly.purge(gd);\n",
       "            observer.disconnect();\n",
       "        }}\n",
       "}});\n",
       "\n",
       "// Listen for the removal of the full notebook cells\n",
       "var notebookContainer = gd.closest('#notebook-container');\n",
       "if (notebookContainer) {{\n",
       "    x.observe(notebookContainer, {childList: true});\n",
       "}}\n",
       "\n",
       "// Listen for the clearing of the current output cell\n",
       "var outputEl = gd.closest('.output');\n",
       "if (outputEl) {{\n",
       "    x.observe(outputEl, {childList: true});\n",
       "}}\n",
       "\n",
       "                        })                };                });            </script>        </div>"
      ]
     },
     "metadata": {},
     "output_type": "display_data"
    }
   ],
   "source": [
    "from plotly.subplots import make_subplots\n",
    "import plotly.graph_objects as go\n",
    "\n",
    "fig = make_subplots(rows=2, cols=1)\n",
    "\n",
    "fig.append_trace(go.Scatter(\n",
    "    x=[3, 4, 5],\n",
    "    y=[1000, 1100, 1200],\n",
    "), row=1, col=1)\n",
    "\n",
    "fig.append_trace(go.Scatter(\n",
    "    x=[2, 3, 4],\n",
    "    y=[100, 110, 120],\n",
    "), row=2, col=1)\n",
    "\n",
    "fig.append_trace(go.Scatter(\n",
    "    x=[0, 1, 2],\n",
    "    y=[10, 11, 12]\n",
    "), row=3, col=1)\n",
    "\n",
    "\n",
    "fig.update_layout(height=600, width=600, title_text=\"Stacked Subplots\")\n",
    "fig.show()"
   ]
  },
  {
   "cell_type": "code",
   "execution_count": null,
   "metadata": {},
   "outputs": [],
   "source": [
    "url ='https://github.com/CSSEGISandData/COVID-19/blob/master/csse_covid_19_data/csse_covid_19_time_series/time_series_covid19_deaths_global.csv?raw=true'\n",
    "daily_df = pd.read_csv(url)\n",
    "daily_df \n",
    "df = daily_df.drop(columns=[\"Province/State\",\"Country/Region\",\"Lat\",\"Long\"]).sum(skipna=True).reset_index(name=\"total\")\n",
    "df = df.rename(columns={'index':'date'})\n",
    "df"
   ]
  },
  {
   "cell_type": "code",
   "execution_count": 97,
   "metadata": {},
   "outputs": [
    {
     "data": {
      "text/html": [
       "<div>\n",
       "<style scoped>\n",
       "    .dataframe tbody tr th:only-of-type {\n",
       "        vertical-align: middle;\n",
       "    }\n",
       "\n",
       "    .dataframe tbody tr th {\n",
       "        vertical-align: top;\n",
       "    }\n",
       "\n",
       "    .dataframe thead th {\n",
       "        text-align: right;\n",
       "    }\n",
       "</style>\n",
       "<table border=\"1\" class=\"dataframe\">\n",
       "  <thead>\n",
       "    <tr style=\"text-align: right;\">\n",
       "      <th></th>\n",
       "      <th>Country</th>\n",
       "      <th>Alpha-2 code</th>\n",
       "      <th>Alpha-3 code</th>\n",
       "      <th>Numeric code</th>\n",
       "      <th>Latitude (average)</th>\n",
       "      <th>Longitude (average)</th>\n",
       "    </tr>\n",
       "  </thead>\n",
       "  <tbody>\n",
       "    <tr>\n",
       "      <th>0</th>\n",
       "      <td>Afghanistan</td>\n",
       "      <td>\"AF\"</td>\n",
       "      <td>\"AFG\"</td>\n",
       "      <td>\"4\"</td>\n",
       "      <td>\"33\"</td>\n",
       "      <td>\"65\"</td>\n",
       "    </tr>\n",
       "    <tr>\n",
       "      <th>1</th>\n",
       "      <td>Albania</td>\n",
       "      <td>\"AL\"</td>\n",
       "      <td>\"ALB\"</td>\n",
       "      <td>\"8\"</td>\n",
       "      <td>\"41\"</td>\n",
       "      <td>\"20\"</td>\n",
       "    </tr>\n",
       "    <tr>\n",
       "      <th>2</th>\n",
       "      <td>Algeria</td>\n",
       "      <td>\"DZ\"</td>\n",
       "      <td>\"DZA\"</td>\n",
       "      <td>\"12\"</td>\n",
       "      <td>\"28\"</td>\n",
       "      <td>\"3\"</td>\n",
       "    </tr>\n",
       "    <tr>\n",
       "      <th>3</th>\n",
       "      <td>American Samoa</td>\n",
       "      <td>\"AS\"</td>\n",
       "      <td>\"ASM\"</td>\n",
       "      <td>\"16\"</td>\n",
       "      <td>\"-14.3333\"</td>\n",
       "      <td>\"-170\"</td>\n",
       "    </tr>\n",
       "    <tr>\n",
       "      <th>4</th>\n",
       "      <td>Andorra</td>\n",
       "      <td>\"AD\"</td>\n",
       "      <td>\"AND\"</td>\n",
       "      <td>\"20\"</td>\n",
       "      <td>\"42.5\"</td>\n",
       "      <td>\"1.6\"</td>\n",
       "    </tr>\n",
       "    <tr>\n",
       "      <th>...</th>\n",
       "      <td>...</td>\n",
       "      <td>...</td>\n",
       "      <td>...</td>\n",
       "      <td>...</td>\n",
       "      <td>...</td>\n",
       "      <td>...</td>\n",
       "    </tr>\n",
       "    <tr>\n",
       "      <th>251</th>\n",
       "      <td>Wallis and Futuna</td>\n",
       "      <td>\"WF\"</td>\n",
       "      <td>\"WLF\"</td>\n",
       "      <td>\"876\"</td>\n",
       "      <td>\"-13.3\"</td>\n",
       "      <td>\"-176.2\"</td>\n",
       "    </tr>\n",
       "    <tr>\n",
       "      <th>252</th>\n",
       "      <td>Western Sahara</td>\n",
       "      <td>\"EH\"</td>\n",
       "      <td>\"ESH\"</td>\n",
       "      <td>\"732\"</td>\n",
       "      <td>\"24.5\"</td>\n",
       "      <td>\"-13\"</td>\n",
       "    </tr>\n",
       "    <tr>\n",
       "      <th>253</th>\n",
       "      <td>Yemen</td>\n",
       "      <td>\"YE\"</td>\n",
       "      <td>\"YEM\"</td>\n",
       "      <td>\"887\"</td>\n",
       "      <td>\"15\"</td>\n",
       "      <td>\"48\"</td>\n",
       "    </tr>\n",
       "    <tr>\n",
       "      <th>254</th>\n",
       "      <td>Zambia</td>\n",
       "      <td>\"ZM\"</td>\n",
       "      <td>\"ZMB\"</td>\n",
       "      <td>\"894\"</td>\n",
       "      <td>\"-15\"</td>\n",
       "      <td>\"30\"</td>\n",
       "    </tr>\n",
       "    <tr>\n",
       "      <th>255</th>\n",
       "      <td>Zimbabwe</td>\n",
       "      <td>\"ZW\"</td>\n",
       "      <td>\"ZWE\"</td>\n",
       "      <td>\"716\"</td>\n",
       "      <td>\"-20\"</td>\n",
       "      <td>\"30\"</td>\n",
       "    </tr>\n",
       "  </tbody>\n",
       "</table>\n",
       "<p>256 rows × 6 columns</p>\n",
       "</div>"
      ],
      "text/plain": [
       "               Country Alpha-2 code Alpha-3 code Numeric code  \\\n",
       "0          Afghanistan         \"AF\"        \"AFG\"          \"4\"   \n",
       "1              Albania         \"AL\"        \"ALB\"          \"8\"   \n",
       "2              Algeria         \"DZ\"        \"DZA\"         \"12\"   \n",
       "3       American Samoa         \"AS\"        \"ASM\"         \"16\"   \n",
       "4              Andorra         \"AD\"        \"AND\"         \"20\"   \n",
       "..                 ...          ...          ...          ...   \n",
       "251  Wallis and Futuna         \"WF\"        \"WLF\"        \"876\"   \n",
       "252     Western Sahara         \"EH\"        \"ESH\"        \"732\"   \n",
       "253              Yemen         \"YE\"        \"YEM\"        \"887\"   \n",
       "254             Zambia         \"ZM\"        \"ZMB\"        \"894\"   \n",
       "255           Zimbabwe         \"ZW\"        \"ZWE\"        \"716\"   \n",
       "\n",
       "    Latitude (average) Longitude (average)  \n",
       "0                 \"33\"                \"65\"  \n",
       "1                 \"41\"                \"20\"  \n",
       "2                 \"28\"                 \"3\"  \n",
       "3           \"-14.3333\"              \"-170\"  \n",
       "4               \"42.5\"               \"1.6\"  \n",
       "..                 ...                 ...  \n",
       "251            \"-13.3\"            \"-176.2\"  \n",
       "252             \"24.5\"               \"-13\"  \n",
       "253               \"15\"                \"48\"  \n",
       "254              \"-15\"                \"30\"  \n",
       "255              \"-20\"                \"30\"  \n",
       "\n",
       "[256 rows x 6 columns]"
      ]
     },
     "execution_count": 97,
     "metadata": {},
     "output_type": "execute_result"
    }
   ],
   "source": [
    "iso_url='https://gist.githubusercontent.com/tadast/8827699/raw/f5cac3d42d16b78348610fc4ec301e9234f82821/countries_codes_and_coordinates.csv?raw=true'\n",
    "df_iso_url = pd.read_csv(iso_url)\n",
    "df_iso_url =df_iso_url[[\"Country\",\"Alpha-3 code\"]]\n",
    "df_iso_url[\"Alpha-3 code\"] = df_iso_url[\"Alpha-3 code\"].str.replace('\"', '')\n",
    "\n",
    "df_iso_url = df_iso_url.rename(columns={'Country': 'Country_Region'})\n",
    "df_iso_url = df_iso_url.rename(columns={'Alpha-3 code': 'code'})\n",
    "countries_df_merged = pd.merge(countries_df, df_iso_url, on=\"Country_Region\")\n",
    "countries_df_merged\n",
    "df_iso_url = pd.read_csv(iso_url)\n",
    "df_iso_url"
   ]
  },
  {
   "cell_type": "code",
   "execution_count": null,
   "metadata": {},
   "outputs": [],
   "source": [
    "conditions = [\"confirmed\", \"deaths\", \"recovered\"]\n",
    "def make_global_df():\n",
    "    def make_global_df(condition):\n",
    "        url = f'https://github.com/CSSEGISandData/COVID-19/blob/master/csse_covid_19_data/csse_covid_19_time_series/time_series_covid19_{condition}_global.csv?raw=true'\n",
    "        df = pd.read_csv(url)\n",
    "        df = df.drop([\"Province/State\",\"Country/Region\",\"Lat\",\"Long\"], axis =1).sum().reset_index(name=condition)\n",
    "        df = df.rename(columns={'index':'date'})\n",
    "        return df\n",
    "\n",
    "    final_df = None \n",
    "    for condition in conditions: \n",
    "        condition_df = make_global_df(condition)\n",
    "        if final_df is None:\n",
    "            final_df = condition_df\n",
    "        else:\n",
    "            final_df = final_df.merge(condition_df)\n",
    "    return final_df\n",
    "make_global_df()"
   ]
  },
  {
   "cell_type": "code",
   "execution_count": null,
   "metadata": {},
   "outputs": [],
   "source": [
    "df = pd.read_csv(\"data/time_confirmed.csv\")\n",
    "df = df.loc[df[\"Country/Region\"] == \"Vietnam\"]\n",
    "df = df.drop(columns = [\"Province/State\",\"Country/Region\", \"Lat\", \"Long\"]).sum().reset_index(name=\"confirmed\")\n",
    "df = df.rename(columns = {'index':\"date\"})\n",
    "df"
   ]
  },
  {
   "cell_type": "code",
   "execution_count": null,
   "metadata": {},
   "outputs": [],
   "source": [
    "conditions = [\"confirmed\", \"deaths\", \"recovered\"]\n",
    "\n",
    "def make_country_df(country):\n",
    "    def make_df(condition):\n",
    "        df = pd.read_csv(f\"data/time_{condition}.csv\")\n",
    "        df = df.loc[df[\"Country/Region\"] == country]\n",
    "        df = df.drop(columns = [\"Province/State\",\"Country/Region\", \"Lat\", \"Long\"]).sum().reset_index(name=condition)\n",
    "        df = df.rename(columns = {'index':\"date\"})\n",
    "        return df\n",
    "\n",
    "    final_df = None \n",
    "\n",
    "    for condition in conditions: \n",
    "        condition_df = make_df(condition)\n",
    "        if final_df is None:\n",
    "            final_df = condition_df\n",
    "        else:\n",
    "            final_df = final_df.merge(condition_df)\n",
    "    return final_df  \n",
    "\n",
    "df = make_country_df(\"Germany\")\n",
    "df"
   ]
  },
  {
   "cell_type": "code",
   "execution_count": null,
   "metadata": {},
   "outputs": [],
   "source": [
    "\n",
    "def make_global_df():\n",
    "    def make_df(condition)\n",
    "        df = pd.read_csv(f\"data/time_{condition}.csv\")\n",
    "        df = daily_df.drop([\"Province/State\", \"Country/Region\",\n",
    "                           \"Lat\", \"Long\"], axis=1).sum().reset_index(name=condition)\n",
    "        df = df.rename(columns={'index': 'date'})\n",
    "        return df\n",
    "    final_df = None\n",
    "    for condition in conditions:\n",
    "        condition_df = make_global_df(condition)\n",
    "        if final_df is None:\n",
    "            final_df = condition_df\n",
    "        else:\n",
    "            final_df = final_df.merge(condition_df)\n",
    "    return final_df   \n",
    "\n",
    "##"
   ]
  },
  {
   "cell_type": "markdown",
   "metadata": {},
   "source": [
    "The metrics method was developed in the mid-1980s to extract phenological features\n",
    "from the AVHRR-based NDVI time-series [35,36]. At the same time, the idea of using vegetation\n",
    "index time-series to extract spectral reflectance corresponding to a certain phenological stage was\n",
    "proposed by Holben [37].Later, both approaches were merged by researchers from the Laboratory\n",
    "for Global Remote Sensing Studies at the University of Maryland [38]. In their work, metrics were\n",
    "calculated by extracting spectral information for specific phenological stages defined by the NDVI\n",
    "annual dynamics. The multi-temporal metrics were widely used for forest monitoring at continental\n",
    "and global scales using MODIS [39] and Landsat data [6,19,20,40]."
   ]
  },
  {
   "cell_type": "code",
   "execution_count": 29,
   "metadata": {},
   "outputs": [
    {
     "data": {
      "text/html": [
       "<div>\n",
       "<style scoped>\n",
       "    .dataframe tbody tr th:only-of-type {\n",
       "        vertical-align: middle;\n",
       "    }\n",
       "\n",
       "    .dataframe tbody tr th {\n",
       "        vertical-align: top;\n",
       "    }\n",
       "\n",
       "    .dataframe thead th {\n",
       "        text-align: right;\n",
       "    }\n",
       "</style>\n",
       "<table border=\"1\" class=\"dataframe\">\n",
       "  <thead>\n",
       "    <tr style=\"text-align: right;\">\n",
       "      <th></th>\n",
       "      <th>Country/Region</th>\n",
       "      <th>1/22/20</th>\n",
       "      <th>1/23/20</th>\n",
       "      <th>1/24/20</th>\n",
       "      <th>1/25/20</th>\n",
       "      <th>1/26/20</th>\n",
       "      <th>1/27/20</th>\n",
       "      <th>1/28/20</th>\n",
       "      <th>1/29/20</th>\n",
       "      <th>1/30/20</th>\n",
       "      <th>...</th>\n",
       "      <th>12/4/21</th>\n",
       "      <th>12/5/21</th>\n",
       "      <th>12/6/21</th>\n",
       "      <th>12/7/21</th>\n",
       "      <th>12/8/21</th>\n",
       "      <th>12/9/21</th>\n",
       "      <th>12/10/21</th>\n",
       "      <th>12/11/21</th>\n",
       "      <th>12/12/21</th>\n",
       "      <th>12/13/21</th>\n",
       "    </tr>\n",
       "  </thead>\n",
       "  <tbody>\n",
       "    <tr>\n",
       "      <th>0</th>\n",
       "      <td>Australia</td>\n",
       "      <td>0</td>\n",
       "      <td>0</td>\n",
       "      <td>0</td>\n",
       "      <td>0</td>\n",
       "      <td>4</td>\n",
       "      <td>5</td>\n",
       "      <td>5</td>\n",
       "      <td>6</td>\n",
       "      <td>9</td>\n",
       "      <td>...</td>\n",
       "      <td>217836</td>\n",
       "      <td>219121</td>\n",
       "      <td>220555</td>\n",
       "      <td>222260</td>\n",
       "      <td>223914</td>\n",
       "      <td>225625</td>\n",
       "      <td>227382</td>\n",
       "      <td>228925</td>\n",
       "      <td>230768</td>\n",
       "      <td>232738</td>\n",
       "    </tr>\n",
       "    <tr>\n",
       "      <th>1</th>\n",
       "      <td>Canada</td>\n",
       "      <td>0</td>\n",
       "      <td>0</td>\n",
       "      <td>0</td>\n",
       "      <td>0</td>\n",
       "      <td>1</td>\n",
       "      <td>1</td>\n",
       "      <td>2</td>\n",
       "      <td>2</td>\n",
       "      <td>2</td>\n",
       "      <td>...</td>\n",
       "      <td>1813304</td>\n",
       "      <td>1815686</td>\n",
       "      <td>1820693</td>\n",
       "      <td>1823674</td>\n",
       "      <td>1827339</td>\n",
       "      <td>1831341</td>\n",
       "      <td>1834569</td>\n",
       "      <td>1839770</td>\n",
       "      <td>1841672</td>\n",
       "      <td>1849762</td>\n",
       "    </tr>\n",
       "    <tr>\n",
       "      <th>2</th>\n",
       "      <td>China</td>\n",
       "      <td>548</td>\n",
       "      <td>643</td>\n",
       "      <td>920</td>\n",
       "      <td>1406</td>\n",
       "      <td>2075</td>\n",
       "      <td>2877</td>\n",
       "      <td>5509</td>\n",
       "      <td>6087</td>\n",
       "      <td>8141</td>\n",
       "      <td>...</td>\n",
       "      <td>111671</td>\n",
       "      <td>111741</td>\n",
       "      <td>111840</td>\n",
       "      <td>111919</td>\n",
       "      <td>112002</td>\n",
       "      <td>112072</td>\n",
       "      <td>112163</td>\n",
       "      <td>112239</td>\n",
       "      <td>112345</td>\n",
       "      <td>112423</td>\n",
       "    </tr>\n",
       "  </tbody>\n",
       "</table>\n",
       "<p>3 rows × 693 columns</p>\n",
       "</div>"
      ],
      "text/plain": [
       "  Country/Region  1/22/20  1/23/20  1/24/20  1/25/20  1/26/20  1/27/20  \\\n",
       "0      Australia        0        0        0        0        4        5   \n",
       "1         Canada        0        0        0        0        1        1   \n",
       "2          China      548      643      920     1406     2075     2877   \n",
       "\n",
       "   1/28/20  1/29/20  1/30/20  ...  12/4/21  12/5/21  12/6/21  12/7/21  \\\n",
       "0        5        6        9  ...   217836   219121   220555   222260   \n",
       "1        2        2        2  ...  1813304  1815686  1820693  1823674   \n",
       "2     5509     6087     8141  ...   111671   111741   111840   111919   \n",
       "\n",
       "   12/8/21  12/9/21  12/10/21  12/11/21  12/12/21  12/13/21  \n",
       "0   223914   225625    227382    228925    230768    232738  \n",
       "1  1827339  1831341   1834569   1839770   1841672   1849762  \n",
       "2   112002   112072    112163    112239    112345    112423  \n",
       "\n",
       "[3 rows x 693 columns]"
      ]
     },
     "execution_count": 29,
     "metadata": {},
     "output_type": "execute_result"
    }
   ],
   "source": [
    "daily_time_url ='https://github.com/CSSEGISandData/COVID-19/blob/master/csse_covid_19_data/csse_covid_19_time_series/time_series_covid19_confirmed_global.csv?raw=true'\n",
    "daily_time_df = pd.read_csv(daily_time_url)\n",
    "daily_time_df = daily_time_df.drop([\"Lat\",\"Long\"], axis =1)\n",
    "daily_time_df_filled = daily_time_df.dropna(subset=['Province/State'])\n",
    "daily_time_df_filled = daily_time_df_filled.groupby(\"Country/Region\").sum()\n",
    "daily_time_df_AuCaCh = daily_time_df_filled.loc[['Australia','Canada','China'], :]\n",
    "daily_time_df_AuCaCh.reset_index()"
   ]
  }
 ],
 "metadata": {
  "kernelspec": {
   "display_name": "Python 3",
   "language": "python",
   "name": "python3"
  },
  "language_info": {
   "codemirror_mode": {
    "name": "ipython",
    "version": 3
   },
   "file_extension": ".py",
   "mimetype": "text/x-python",
   "name": "python",
   "nbconvert_exporter": "python",
   "pygments_lexer": "ipython3",
   "version": "3.8.10"
  }
 },
 "nbformat": 4,
 "nbformat_minor": 4
}
